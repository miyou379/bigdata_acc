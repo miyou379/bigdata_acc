{
 "cells": [
  {
   "cell_type": "code",
   "execution_count": 23,
   "id": "dfa18a14-7605-4f11-9473-a63d00029c34",
   "metadata": {},
   "outputs": [
    {
     "name": "stdout",
     "output_type": "stream",
     "text": [
      "<html>\n",
      "<table border=\"0\" cellpadding=\"0\" cellspacing=\"0\" style=\"font-size:14px;\" width=\"100%\">\n",
      "<tr>\n",
      "<td align=\"left\" class=\"font14\" height=\"28\">·<a href=\"../../stock/gsgdbd/202211/09/t20221109_38218727.shtml\" target=\"_blank\">国家统计局:10月份CPI同比涨幅回落 PPI同比由涨转降</a>  <span class=\"rq1\">[2022/11/09  10:28]</span></td>\n",
      "</tr>\n",
      "<tr>\n",
      "<td align=\"left\" class=\"font14\" height=\"28\">·<a href=\"../../stock/gsgdbd/202211/09/t20221109_38218721.shtml\" target=\"_blank\">2022年10月份全国PPI同比下降1.3% 环比上涨0.2%</a>  <span class=\"rq1\">[2022/11/09  10:26]</span></td>\n",
      "</tr>\n",
      "<tr>\n",
      "<td align=\"left\" class=\"font14\" height=\"28\">·<a href=\"../../stock/gsgdbd/202211/09/t20221109_38218718.shtml\" target=\"_blank\">2022年10月份全国CPI同比上涨2.1% 环比上涨0.1%</a>  <span class=\"rq1\">[2022/11/09  10:25]</span></td>\n",
      "</tr>\n",
      "<tr>\n",
      "<td class=\"line_bg\" height=\"8\"> </td>\n",
      "</tr>\n",
      "<tr>\n",
      "<td height=\"10\"> </td>\n",
      "</tr>\n",
      "<tr>\n",
      "<td align=\"left\" class=\"font14\" height=\"28\">·<a href=\"../../stock/gsgdbd/202210/14/t20221014_38162010.shtml\" target=\"_blank\">2022年9月份PPI同比上涨0.9% 环比下降0.1%</a>  <span class=\"rq1\">[2022/10/14  10:18]</span></td>\n",
      "</tr>\n",
      "<tr>\n",
      "<td align=\"left\" class=\"font14\" height=\"28\">·<a href=\"../../stock/gsgdbd/202210/14/t20221014_38162005.shtml\" target=\"_blank\">2022年9月份CPI同比上涨2.8% 环比上涨0.3%</a>  <span class=\"rq1\">[2022/10/14  10:15]</span></td>\n",
      "</tr>\n",
      "<tr>\n",
      "<td align=\"left\" class=\"font14\" height=\"28\">·<a href=\"../../stock/gsgdbd/202210/14/t20221014_38162012.shtml\" target=\"_blank\">国家统计局:9月CPI同比涨幅有所扩大 PPI同比涨幅回落</a>  <span class=\"rq1\">[2022/10/14  10:21]</span></td>\n",
      "</tr>\n",
      "<tr>\n",
      "<td align=\"left\" class=\"font14\" height=\"28\">·<a href=\"../../bank12/scroll/202210/11/t20221011_38156233.shtml\" target=\"_blank\">央行：9月末M2余额262.66万亿元 同比增长12.1%</a>  <span class=\"rq1\">[2022/10/11  21:11]</span></td>\n",
      "</tr>\n",
      "<tr>\n",
      "<td align=\"left\" class=\"font14\" height=\"28\">·<a href=\"../../bank12/scroll/202209/09/t20220909_38096740.shtml\" target=\"_blank\">央行：8月末M2余额259.51万亿元 同比增长12.2%</a>  <span class=\"rq1\">[2022/09/09  17:51]</span></td>\n",
      "</tr>\n",
      "<tr>\n",
      "<td class=\"line_bg\" height=\"8\"> </td>\n",
      "</tr>\n",
      "<tr>\n",
      "<td height=\"10\"> </td>\n",
      "</tr>\n",
      "<tr>\n",
      "<td align=\"left\" class=\"font14\" height=\"28\">·<a href=\"../../bank12/scroll/202208/12/t20220812_37959397.shtml\" target=\"_blank\">央行：7月末M2余额257.81万亿元 同比增长12%</a>  <span class=\"rq1\">[2022/08/12  18:31]</span></td>\n",
      "</tr>\n",
      "<tr>\n",
      "<td align=\"left\" class=\"font14\" height=\"28\">·<a href=\"../../stock/gsgdbd/202208/10/t20220810_37950286.shtml\" target=\"_blank\">统计局城市司高级统计师：7月份CPI同比涨幅略有扩大</a>  <span class=\"rq1\">[2022/08/10  09:42]</span></td>\n",
      "</tr>\n",
      "<tr>\n",
      "<td align=\"left\" class=\"font14\" height=\"28\">·<a href=\"../../stock/gsgdbd/202208/10/t20220810_37950274.shtml\" target=\"_blank\">2022年7月份全国PPI同比上涨4.2% 环比下降1.3%</a>  <span class=\"rq1\">[2022/08/10  09:39]</span></td>\n",
      "</tr>\n",
      "<tr>\n",
      "<td align=\"left\" class=\"font14\" height=\"28\">·<a href=\"../../stock/gsgdbd/202208/10/t20220810_37950250.shtml\" target=\"_blank\">2022年7月份全国CPI同比上涨2.7% 环比上涨0.5%</a>  <span class=\"rq1\">[2022/08/10  09:36]</span></td>\n",
      "</tr>\n",
      "<tr>\n",
      "<td align=\"left\" class=\"font14\" height=\"28\">·<a href=\"../../bank12/scroll/202207/11/t20220711_37855395.shtml\" target=\"_blank\">央行：6月末M2余额258.15万亿 同比增11.4%</a>  <span class=\"rq1\">[2022/07/11  18:01]</span></td>\n",
      "</tr>\n",
      "<tr>\n",
      "<td class=\"line_bg\" height=\"8\"> </td>\n",
      "</tr>\n",
      "<tr>\n",
      "<td height=\"10\"> </td>\n",
      "</tr>\n",
      "</table>\n",
      "</html>\n"
     ]
    }
   ],
   "source": [
    "from bs4 import BeautifulSoup as bs\n",
    "import os\n",
    "import re\n",
    "from pprint import pprint\n",
    "os.chdir(r\"/home/miu/pros/acc/test\")\n",
    "got = open(r'2022宏观经济信息网页源代码.txt', mode = \"r\", encoding = \"utf-8\")\n",
    "obj = bs(got, \"html.parser\")\n",
    "got.close()\n",
    "print(obj.decode())"
   ]
  },
  {
   "cell_type": "code",
   "execution_count": 24,
   "id": "593bb1cb",
   "metadata": {},
   "outputs": [
    {
     "name": "stdout",
     "output_type": "stream",
     "text": [
      "['国家统计局:10月份CPI同比涨幅回落 PPI同比由涨转降',\n",
      " '2022年10月份全国PPI同比下降1.3% 环比上涨0.2%',\n",
      " '2022年10月份全国CPI同比上涨2.1% 环比上涨0.1%',\n",
      " '2022年9月份PPI同比上涨0.9% 环比下降0.1%',\n",
      " '2022年9月份CPI同比上涨2.8% 环比上涨0.3%',\n",
      " '国家统计局:9月CPI同比涨幅有所扩大 PPI同比涨幅回落',\n",
      " '央行：9月末M2余额262.66万亿元 同比增长12.1%',\n",
      " '央行：8月末M2余额259.51万亿元 同比增长12.2%',\n",
      " '央行：7月末M2余额257.81万亿元 同比增长12%',\n",
      " '统计局城市司高级统计师：7月份CPI同比涨幅略有扩大',\n",
      " '2022年7月份全国PPI同比上涨4.2% 环比下降1.3%',\n",
      " '2022年7月份全国CPI同比上涨2.7% 环比上涨0.5%',\n",
      " '央行：6月末M2余额258.15万亿 同比增11.4%']\n"
     ]
    }
   ],
   "source": [
    "digest = obj.find_all(\"a\", attrs = { \"href\": re.compile(r\".*\"), \"target\": \"_blank\" })\n",
    "digest = [i.text.strip() for i in digest]\n",
    "pprint(digest)\n",
    "## 获取到简介"
   ]
  },
  {
   "cell_type": "code",
   "execution_count": 25,
   "id": "f04740bc",
   "metadata": {},
   "outputs": [
    {
     "name": "stdout",
     "output_type": "stream",
     "text": [
      "['2022/11/09  10:28',\n",
      " '2022/11/09  10:26',\n",
      " '2022/11/09  10:25',\n",
      " '2022/10/14  10:18',\n",
      " '2022/10/14  10:15',\n",
      " '2022/10/14  10:21',\n",
      " '2022/10/11  21:11',\n",
      " '2022/09/09  17:51',\n",
      " '2022/08/12  18:31',\n",
      " '2022/08/10  09:42',\n",
      " '2022/08/10  09:39',\n",
      " '2022/08/10  09:36',\n",
      " '2022/07/11  18:01']\n"
     ]
    }
   ],
   "source": [
    "date = obj.find_all(\"span\", attrs = { \"class\": \"rq1\" })\n",
    "date = [i.text.strip('[') for i in date]\n",
    "date = [i.strip(']') for i in date]\n",
    "pprint(date)"
   ]
  },
  {
   "cell_type": "code",
   "execution_count": 26,
   "id": "a258c93d",
   "metadata": {},
   "outputs": [
    {
     "name": "stdout",
     "output_type": "stream",
     "text": [
      "                   日期                             宏观消息\n",
      "0   2022/11/09  10:28    国家统计局:10月份CPI同比涨幅回落 PPI同比由涨转降\n",
      "1   2022/11/09  10:26  2022年10月份全国PPI同比下降1.3% 环比上涨0.2%\n",
      "2   2022/11/09  10:25  2022年10月份全国CPI同比上涨2.1% 环比上涨0.1%\n",
      "3   2022/10/14  10:18     2022年9月份PPI同比上涨0.9% 环比下降0.1%\n",
      "4   2022/10/14  10:15     2022年9月份CPI同比上涨2.8% 环比上涨0.3%\n",
      "5   2022/10/14  10:21    国家统计局:9月CPI同比涨幅有所扩大 PPI同比涨幅回落\n",
      "6   2022/10/11  21:11    央行：9月末M2余额262.66万亿元 同比增长12.1%\n",
      "7   2022/09/09  17:51    央行：8月末M2余额259.51万亿元 同比增长12.2%\n",
      "8   2022/08/12  18:31      央行：7月末M2余额257.81万亿元 同比增长12%\n",
      "9   2022/08/10  09:42       统计局城市司高级统计师：7月份CPI同比涨幅略有扩大\n",
      "10  2022/08/10  09:39   2022年7月份全国PPI同比上涨4.2% 环比下降1.3%\n",
      "11  2022/08/10  09:36   2022年7月份全国CPI同比上涨2.7% 环比上涨0.5%\n",
      "12  2022/07/11  18:01      央行：6月末M2余额258.15万亿 同比增11.4%\n"
     ]
    }
   ],
   "source": [
    "import pandas as pd\n",
    "df_target = { \"日期\": date,\n",
    "              \"宏观消息\": digest }\n",
    "df = pd.DataFrame(df_target)\n",
    "pprint(df)"
   ]
  },
  {
   "cell_type": "code",
   "execution_count": 27,
   "id": "7b454a9d",
   "metadata": {},
   "outputs": [
    {
     "name": "stdout",
     "output_type": "stream",
     "text": [
      "                   日期                             宏观消息\n",
      "0   2022/07/11  18:01      央行：6月末M2余额258.15万亿 同比增11.4%\n",
      "1   2022/08/10  09:36   2022年7月份全国CPI同比上涨2.7% 环比上涨0.5%\n",
      "2   2022/08/10  09:39   2022年7月份全国PPI同比上涨4.2% 环比下降1.3%\n",
      "3   2022/08/10  09:42       统计局城市司高级统计师：7月份CPI同比涨幅略有扩大\n",
      "4   2022/08/12  18:31      央行：7月末M2余额257.81万亿元 同比增长12%\n",
      "5   2022/09/09  17:51    央行：8月末M2余额259.51万亿元 同比增长12.2%\n",
      "6   2022/10/11  21:11    央行：9月末M2余额262.66万亿元 同比增长12.1%\n",
      "7   2022/10/14  10:21    国家统计局:9月CPI同比涨幅有所扩大 PPI同比涨幅回落\n",
      "8   2022/10/14  10:15     2022年9月份CPI同比上涨2.8% 环比上涨0.3%\n",
      "9   2022/10/14  10:18     2022年9月份PPI同比上涨0.9% 环比下降0.1%\n",
      "10  2022/11/09  10:25  2022年10月份全国CPI同比上涨2.1% 环比上涨0.1%\n",
      "11  2022/11/09  10:26  2022年10月份全国PPI同比下降1.3% 环比上涨0.2%\n",
      "12  2022/11/09  10:28    国家统计局:10月份CPI同比涨幅回落 PPI同比由涨转降\n"
     ]
    }
   ],
   "source": [
    "## 因为他这个网页是按照日期逆序来的，所以可以倒序一下变成正序\n",
    "\n",
    "date = date[::-1]\n",
    "digest = digest[::-1]\n",
    "df_reverse = pd.DataFrame({\n",
    "    \"日期\": date,\n",
    "    \"宏观消息\": digest\n",
    "})\n",
    "pprint(df_reverse)"
   ]
  }
 ],
 "metadata": {
  "kernelspec": {
   "display_name": "Python 3 (ipykernel)",
   "language": "python",
   "name": "python3"
  },
  "language_info": {
   "codemirror_mode": {
    "name": "ipython",
    "version": 3
   },
   "file_extension": ".py",
   "mimetype": "text/x-python",
   "name": "python",
   "nbconvert_exporter": "python",
   "pygments_lexer": "ipython3",
   "version": "3.11.6"
  }
 },
 "nbformat": 4,
 "nbformat_minor": 5
}
