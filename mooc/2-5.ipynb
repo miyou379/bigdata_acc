{
 "cells": [
  {
   "cell_type": "markdown",
   "id": "c914bb05-e3f3-4f7d-af25-935ae00b3da1",
   "metadata": {},
   "source": [
    "1) **查询每日最高价和最低价差价最大的5条开盘记录**"
   ]
  },
  {
   "cell_type": "code",
   "execution_count": 21,
   "id": "0f58c19b-7a01-4f23-aa9e-feaf18fa19aa",
   "metadata": {},
   "outputs": [
    {
     "name": "stdout",
     "output_type": "stream",
     "text": [
      "          日期    收盘价    最高价    最低价    开盘价    前收盘   涨跌额     涨跌幅      换手率  \\\n",
      "0  2015/6/30  22.73  22.87  18.88  20.84  20.86  1.87  8.9645   3.3293   \n",
      "1   2015/7/6  17.22  20.53  16.83  20.53  18.70 -1.48 -7.9144   3.5073   \n",
      "2  2011/3/18  40.04  41.99  38.40  39.00  39.90  0.14  0.3509  52.5312   \n",
      "3  2012/4/12  30.56  30.94  27.71  27.88  28.13  2.43  8.6385   3.6446   \n",
      "4  2015/7/15  16.15  18.76  15.60  18.76  17.05 -0.90 -5.2786   5.1258   \n",
      "\n",
      "        成交量         成交金额         总市值        流通市值   成交笔数  offset  \n",
      "0  11018261  230296059.5  7522529868  7522529868   8881    3.99  \n",
      "1  11607534  207355560.6  5698986552  5698986552   8092    3.70  \n",
      "2  11598881  467475964.6  4417100688   884083200  34994    3.59  \n",
      "3   2457333   72835285.0  3371293632  2060498099   4091    3.23  \n",
      "4  16963935  297346827.6  5344868340  5344868340  10670    3.16  \n"
     ]
    }
   ],
   "source": [
    "import pandas as pd\n",
    "frame = pd.read_csv('股票数据.csv', encoding='GBK')\n",
    "\n",
    "# offset 代表最高价与最低价差值\n",
    "frame['offset'] = frame['最高价'] - frame['最低价']\n",
    "frame = frame.sort_values(by = ['offset'], ascending = False)[0:5]\n",
    "frame = frame.reset_index(drop = True) ## 重置index\n",
    "print(frame)"
   ]
  },
  {
   "cell_type": "markdown",
   "id": "4f737ff9-43da-4cc1-9766-f34001261bbe",
   "metadata": {},
   "source": [
    "2) **查询最高价取整后最大的5条记录，并对结果按照最高价取整降序排列，相同的再按照换手率降序排列**"
   ]
  },
  {
   "cell_type": "code",
   "execution_count": 23,
   "id": "1578bc3a-7b7b-4a99-bdef-61ebd16fe94e",
   "metadata": {},
   "outputs": [
    {
     "name": "stdout",
     "output_type": "stream",
     "text": [
      "          日期    收盘价  最高价    最低价    开盘价    前收盘   涨跌额     涨跌幅      换手率  \\\n",
      "0  2011/3/18  40.04   41  38.40  39.00  39.90  0.14  0.3509  52.5312   \n",
      "1  2011/3/23  40.45   41  39.83  40.08  40.22  0.23  0.5719  18.2890   \n",
      "2  2011/3/22  40.22   40  38.45  39.00  39.40  0.82  2.0812  20.0348   \n",
      "3  2011/3/24  39.44   40  39.40  40.45  40.45 -1.01 -2.4969  12.1711   \n",
      "4  2011/3/21  39.40   39  38.50  39.11  40.04 -0.64 -1.5984  19.7587   \n",
      "\n",
      "        成交量         成交金额         总市值       流通市值   成交笔数  \n",
      "0  11598881  467475964.6  4417100688  884083200  34994  \n",
      "1   4038216  164761482.8  4462330740  893136000   9734  \n",
      "2   4423674  175638568.2  4436957784  888057600  10179  \n",
      "3   2687378  106761064.9  4350910368  870835200   6336  \n",
      "4   4362717  170049561.8  4346497680  869952000   9401  \n"
     ]
    }
   ],
   "source": [
    "import pandas as pd\n",
    "frame = pd.read_csv('股票数据.csv', encoding='GBK')\n",
    "\n",
    "frame['最高价'] = frame['最高价'].apply(int)\n",
    "frame = frame.sort_values(by = ['最高价', '换手率'], ascending = [False, False])[0:5]\n",
    "frame = frame.reset_index(drop = True) ## 重置index\n",
    "print(frame)"
   ]
  },
  {
   "cell_type": "code",
   "execution_count": null,
   "id": "ea724c35-29d1-484d-8f9d-5d8b24b03164",
   "metadata": {},
   "outputs": [],
   "source": []
  }
 ],
 "metadata": {
  "kernelspec": {
   "display_name": "Python 3 (ipykernel)",
   "language": "python",
   "name": "python3"
  },
  "language_info": {
   "codemirror_mode": {
    "name": "ipython",
    "version": 3
   },
   "file_extension": ".py",
   "mimetype": "text/x-python",
   "name": "python",
   "nbconvert_exporter": "python",
   "pygments_lexer": "ipython3",
   "version": "3.9.2"
  }
 },
 "nbformat": 4,
 "nbformat_minor": 5
}
