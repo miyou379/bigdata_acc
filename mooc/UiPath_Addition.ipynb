{
 "cells": [
  {
   "cell_type": "code",
   "execution_count": 4,
   "id": "eed68a58",
   "metadata": {},
   "outputs": [],
   "source": [
    "import pandas as pd\n",
    "import numpy as np\n",
    "df = pd.read_excel(r\"/mnt/g/UiPath/week16_resources/problems_solved.xlsx\")\n",
    "\n",
    "def add_prefix(s):\n",
    "    tmp = r'https://www.luogu.com.cn'\n",
    "    s = str(s)\n",
    "    if (s != 'nan'):\n",
    "        s = tmp + s\n",
    "    else:\n",
    "        s = \"\"\n",
    "    return s\n",
    "\n",
    "df['L1'] = df['L1'].apply(add_prefix)\n",
    "df['L2'] = df['L2'].apply(add_prefix)\n",
    "df['L3'] = df['L3'].apply(add_prefix)\n",
    "df['L4'] = df['L4'].apply(add_prefix)\n",
    "df['L5'] = df['L5'].apply(add_prefix)\n",
    "df['L6'] = df['L6'].apply(add_prefix)\n",
    "df['L7'] = df['L7'].apply(add_prefix)\n",
    "\n",
    "# print(df)\n",
    "df.to_excel(r\"/mnt/g/UiPath/week16_resources/problems_solved.xlsx\", index = False)"
   ]
  },
  {
   "cell_type": "code",
   "execution_count": null,
   "id": "41d5fd86",
   "metadata": {},
   "outputs": [],
   "source": []
  }
 ],
 "metadata": {
  "kernelspec": {
   "display_name": "Python 3 (ipykernel)",
   "language": "python",
   "name": "python3"
  },
  "language_info": {
   "codemirror_mode": {
    "name": "ipython",
    "version": 3
   },
   "file_extension": ".py",
   "mimetype": "text/x-python",
   "name": "python",
   "nbconvert_exporter": "python",
   "pygments_lexer": "ipython3",
   "version": "3.11.6"
  }
 },
 "nbformat": 4,
 "nbformat_minor": 5
}
