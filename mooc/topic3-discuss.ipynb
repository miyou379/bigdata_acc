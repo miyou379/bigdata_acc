{
 "cells": [
  {
   "cell_type": "markdown",
   "metadata": {},
   "source": [
    "1) **查询每个用户借了多少书**"
   ]
  },
  {
   "cell_type": "code",
   "execution_count": 24,
   "metadata": {},
   "outputs": [
    {
     "name": "stdout",
     "output_type": "stream",
     "text": [
      "uid\n",
      "10         551\n",
      "13         302\n",
      "14         128\n",
      "19         436\n",
      "24         189\n",
      "          ... \n",
      "1102028    140\n",
      "1103310    120\n",
      "1104030    129\n",
      "1104525    105\n",
      "1107147    108\n",
      "Name: bid, Length: 2453, dtype: int64\n"
     ]
    }
   ],
   "source": [
    "import pandas as pd\n",
    "frame = pd.read_csv('lending.dat')\n",
    "print(frame['bid'].groupby(frame['uid']).count())"
   ]
  },
  {
   "cell_type": "markdown",
   "metadata": {},
   "source": [
    "2) **查询借书最多的 10 位用户**"
   ]
  },
  {
   "cell_type": "code",
   "execution_count": 25,
   "metadata": {},
   "outputs": [
    {
     "name": "stdout",
     "output_type": "stream",
     "text": [
      "uid\n",
      "5076    1848\n",
      "965     1388\n",
      "2539    1199\n",
      "5116    1113\n",
      "3642     856\n",
      "982      826\n",
      "1778     805\n",
      "177      803\n",
      "1180     772\n",
      "97       760\n",
      "Name: bid, dtype: int64\n"
     ]
    }
   ],
   "source": [
    "import pandas as pd\n",
    "frame = pd.read_csv('lending.dat')\n",
    "frame = frame['bid'].groupby(frame['uid']).count()\n",
    "frame = frame.sort_values(ascending = False)[0: 10]\n",
    "print(frame)"
   ]
  },
  {
   "cell_type": "markdown",
   "metadata": {},
   "source": [
    "3) **查询每个用户最早几几年借书**"
   ]
  },
  {
   "cell_type": "code",
   "execution_count": 26,
   "metadata": {},
   "outputs": [
    {
     "name": "stdout",
     "output_type": "stream",
     "text": [
      "uid\n",
      "10         2011\n",
      "13         2015\n",
      "14         2015\n",
      "19         2015\n",
      "24         2013\n",
      "           ... \n",
      "1102028    2015\n",
      "1103310    2016\n",
      "1104030    2015\n",
      "1104525    2015\n",
      "1107147    2015\n",
      "Name: date, Length: 2453, dtype: int64\n"
     ]
    }
   ],
   "source": [
    "import pandas as pd\n",
    "frame = pd.read_csv('lending.dat')\n",
    "frame = frame['date'].str[0: 4].apply(int).groupby(frame['uid']).min()\n",
    "print(frame)"
   ]
  },
  {
   "cell_type": "markdown",
   "metadata": {},
   "source": [
    "4) **查询每个用户每年借书借了几本书**"
   ]
  },
  {
   "cell_type": "code",
   "execution_count": 27,
   "metadata": {},
   "outputs": [
    {
     "name": "stdout",
     "output_type": "stream",
     "text": [
      "uid      date\n",
      "10       2011    100\n",
      "         2012     95\n",
      "         2013     92\n",
      "         2014     43\n",
      "         2015     69\n",
      "                ... \n",
      "1104525  2017     15\n",
      "         2018      5\n",
      "1107147  2015     66\n",
      "         2016     28\n",
      "         2017     14\n",
      "Name: bid, Length: 10522, dtype: int64\n"
     ]
    }
   ],
   "source": [
    "import pandas as pd\n",
    "frame = pd.read_csv('lending.dat')\n",
    "frame = frame['bid'].groupby([frame['uid'], frame['date'].str[0: 4]]).count()\n",
    "print(frame)"
   ]
  },
  {
   "cell_type": "markdown",
   "metadata": {},
   "source": [
    "5) **查询平均年借书量最多的十位用户**"
   ]
  },
  {
   "cell_type": "code",
   "execution_count": 28,
   "metadata": {},
   "outputs": [
    {
     "name": "stdout",
     "output_type": "stream",
     "text": [
      "uid\n",
      "8445    555.00\n",
      "5076    369.60\n",
      "6085    279.00\n",
      "5116    278.25\n",
      "965     277.60\n",
      "6272    252.00\n",
      "7244    242.00\n",
      "4869    223.00\n",
      "7072    214.50\n",
      "5850    182.00\n",
      "Name: bid, dtype: float64\n"
     ]
    }
   ],
   "source": [
    "import pandas as pd\n",
    "frame = pd.read_csv('lending.dat')\n",
    "frame = frame['bid'].groupby([frame['uid'], frame['date'].str[0: 4]]).count()\n",
    "frame = frame.groupby('uid').mean().sort_values(ascending = False)[0: 10]\n",
    "print(frame)"
   ]
  }
 ],
 "metadata": {
  "kernelspec": {
   "display_name": "Python 3",
   "language": "python",
   "name": "python3"
  },
  "language_info": {
   "codemirror_mode": {
    "name": "ipython",
    "version": 3
   },
   "file_extension": ".py",
   "mimetype": "text/x-python",
   "name": "python",
   "nbconvert_exporter": "python",
   "pygments_lexer": "ipython3",
   "version": "3.9.2"
  }
 },
 "nbformat": 4,
 "nbformat_minor": 2
}
