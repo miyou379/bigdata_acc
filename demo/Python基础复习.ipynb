{
 "cells": [
  {
   "cell_type": "code",
   "execution_count": null,
   "id": "c375ccbd-5d94-459c-8964-31bc045815ed",
   "metadata": {
    "scrolled": true
   },
   "outputs": [],
   "source": [
    "import keyword\n",
    "keyword.kwlist"
   ]
  },
  {
   "cell_type": "code",
   "execution_count": null,
   "id": "72b46c19-6710-4d6a-a9cb-fdae04d9e770",
   "metadata": {
    "scrolled": true
   },
   "outputs": [],
   "source": [
    "# 第一个注释\n",
    "print (\"Hello, Python!\") # 第二个注释"
   ]
  },
  {
   "cell_type": "code",
   "execution_count": null,
   "id": "4d5212fd-0c31-46a8-a6b4-2699366beabb",
   "metadata": {
    "scrolled": true
   },
   "outputs": [],
   "source": [
    "# 第一个注释\n",
    "# 第二个注释\n",
    " \n",
    "'''\n",
    "第三注释\n",
    "第四注释\n",
    "'''\n",
    " \n",
    "\"\"\"\n",
    "第五注释\n",
    "第六注释\n",
    "\"\"\"\n",
    "print (\"Hello, Python!\")"
   ]
  },
  {
   "cell_type": "code",
   "execution_count": null,
   "id": "ad58a220-fa8a-4ee3-8cd9-2d3fea675516",
   "metadata": {
    "scrolled": true
   },
   "outputs": [],
   "source": [
    "if True:\n",
    "    print (\"True\")\n",
    "else:\n",
    "    print (\"False\")"
   ]
  },
  {
   "cell_type": "code",
   "execution_count": null,
   "id": "c7eb59b4-9aa5-4c79-8c57-928e36c0fe45",
   "metadata": {
    "scrolled": true
   },
   "outputs": [],
   "source": [
    "if True:\n",
    "    print (\"Answer\")\n",
    "    print (\"True\")\n",
    "else:\n",
    "    print (\"Answer\")\n",
    "  print (\"False\")    # 缩进不一致，会导致运行错误"
   ]
  },
  {
   "cell_type": "code",
   "execution_count": null,
   "id": "c123948e-bf4f-4726-941e-ca03ef63cf1d",
   "metadata": {
    "scrolled": true
   },
   "outputs": [],
   "source": [
    "# 打印输出 print\n",
    "print(\"hello world\") #输出单个字符串\"hello world\"\n",
    "print(123) #输出整数123\n",
    "print(\"hello\",\"world\",sep=\";\") #输出两个字符串\"hello\"和\"world\"，两者用;隔开\n",
    "print(\"hello\",end=\"world\") #输出字符串\"hello\"，以\"world\"作为结尾，不换行\n",
    "print(\"hello world\")"
   ]
  },
  {
   "cell_type": "code",
   "execution_count": null,
   "id": "08e33b92-08f5-4f38-ab56-81382facf181",
   "metadata": {
    "scrolled": true
   },
   "outputs": [],
   "source": [
    "# 接收输入 input\n",
    "num = input(\"输入任意数字:\") #运行后会出现对话框，输入数据后需要点回车\n",
    "print(num)\n",
    "type(num) #type(object)可以返回对象的类型，str表示是字符串"
   ]
  },
  {
   "cell_type": "code",
   "execution_count": null,
   "id": "8cae691d-f95f-4dba-a7f7-16f658ca6c91",
   "metadata": {
    "scrolled": true
   },
   "outputs": [],
   "source": [
    "# 算术运算符\n",
    "a = 21\n",
    "b = 10\n",
    "c = 0\n",
    " \n",
    "c = a + b\n",
    "print (\"1 - c 的值为：\", c)\n",
    " \n",
    "c = a - b\n",
    "print (\"2 - c 的值为：\", c)\n",
    " \n",
    "c = a * b\n",
    "print (\"3 - c 的值为：\", c)\n",
    " \n",
    "c = a / b\n",
    "print (\"4 - c 的值为：\", c)\n",
    " \n",
    "c = a % b\n",
    "print (\"5 - c 的值为：\", c)\n",
    " \n",
    "# 修改变量 a 、b 、c\n",
    "a = 2\n",
    "b = 3\n",
    "c = a**b \n",
    "print (\"6 - c 的值为：\", c)\n",
    " \n",
    "a = 10\n",
    "b = 5\n",
    "c = a//b \n",
    "print (\"7 - c 的值为：\", c)"
   ]
  },
  {
   "cell_type": "code",
   "execution_count": null,
   "id": "85f3e059-5bba-4c21-afd6-e797564cc99f",
   "metadata": {
    "scrolled": true
   },
   "outputs": [],
   "source": [
    "#比较运算符\n",
    "a = 21\n",
    "b = 10\n",
    "c = 0\n",
    " \n",
    "if ( a == b ):\n",
    "   print (\"1 - a 等于 b\")\n",
    "else:\n",
    "   print (\"1 - a 不等于 b\")\n",
    " \n",
    "if ( a != b ):\n",
    "   print (\"2 - a 不等于 b\")\n",
    "else:\n",
    "   print (\"2 - a 等于 b\")\n",
    " \n",
    "if ( a < b ):\n",
    "   print (\"3 - a 小于 b\")\n",
    "else:\n",
    "   print (\"3 - a 大于等于 b\")\n",
    " \n",
    "if ( a > b ):\n",
    "   print (\"4 - a 大于 b\")\n",
    "else:\n",
    "   print (\"4 - a 小于等于 b\")\n",
    " \n",
    "# 修改变量 a 和 b 的值\n",
    "a = 5\n",
    "b = 20\n",
    "if ( a <= b ):\n",
    "   print (\"5 - a 小于等于 b\")\n",
    "else:\n",
    "   print (\"5 - a 大于  b\")\n",
    " \n",
    "if ( b >= a ):\n",
    "   print (\"6 - b 大于等于 a\")\n",
    "else:\n",
    "   print (\"6 - b 小于 a\")"
   ]
  },
  {
   "cell_type": "code",
   "execution_count": null,
   "id": "225a0d75-2811-492a-9d3b-aeb2766e3bd8",
   "metadata": {
    "scrolled": true
   },
   "outputs": [],
   "source": [
    "# 赋值运算符\n",
    "a = 21\n",
    "b = 10\n",
    "c = 0\n",
    " \n",
    "c = a + b\n",
    "print (\"1 - c 的值为：\", c)\n",
    " \n",
    "c += a\n",
    "print (\"2 - c 的值为：\", c)\n",
    " \n",
    "c *= a\n",
    "print (\"3 - c 的值为：\", c)\n",
    " \n",
    "c /= a \n",
    "print (\"4 - c 的值为：\", c)\n",
    " \n",
    "c = 2\n",
    "c %= a\n",
    "print (\"5 - c 的值为：\", c)\n",
    " \n",
    "c = 5\n",
    "a = 2\n",
    "c **= a\n",
    "print (\"6 - c 的值为：\", c)\n",
    " \n",
    "c = 5\n",
    "a = 2\n",
    "c //= a\n",
    "print (\"7 - c 的值为：\", c)"
   ]
  },
  {
   "cell_type": "code",
   "execution_count": null,
   "id": "5acd4695-95ea-4493-ba75-69f2935821a9",
   "metadata": {
    "scrolled": true
   },
   "outputs": [],
   "source": [
    "#逻辑运算符\n",
    "a = 10\n",
    "b = 20\n",
    " \n",
    "if ( a and b ):\n",
    "   print (\"1 - 变量 a 和 b 都为 true\")\n",
    "else:\n",
    "   print (\"1 - 变量 a 和 b 有一个不为 true\")\n",
    " \n",
    "if ( a or b ):\n",
    "   print (\"2 - 变量 a 和 b 都为 true，或其中一个变量为 true\")\n",
    "else:\n",
    "   print (\"2 - 变量 a 和 b 都不为 true\")\n",
    " \n",
    "# 修改变量 a 的值\n",
    "a = 0\n",
    "if ( a and b ):\n",
    "   print (\"3 - 变量 a 和 b 都为 true\")\n",
    "else:\n",
    "   print (\"3 - 变量 a 和 b 有一个不为 true\")\n",
    " \n",
    "if ( a or b ):\n",
    "   print (\"4 - 变量 a 和 b 都为 true，或其中一个变量为 true\")\n",
    "else:\n",
    "   print (\"4 - 变量 a 和 b 都不为 true\")\n",
    " \n",
    "if not( a and b ):\n",
    "   print (\"5 - 变量 a 和 b 都为 false，或其中一个变量为 false\")\n",
    "else:\n",
    "   print (\"5 - 变量 a 和 b 都为 true\")"
   ]
  },
  {
   "cell_type": "code",
   "execution_count": null,
   "id": "9a9166d6-26d6-481c-8910-fa8733e8f334",
   "metadata": {
    "scrolled": true
   },
   "outputs": [],
   "source": [
    "#运算符优先性和结合性\n",
    "x = True\n",
    "y = False\n",
    "z = False\n",
    " \n",
    "if x or y and z:\n",
    "    print(\"yes\")\n",
    "else:\n",
    "    print(\"no\")"
   ]
  },
  {
   "cell_type": "code",
   "execution_count": null,
   "id": "d4ed5053-b510-4c0b-ae95-270d09dd6f10",
   "metadata": {
    "scrolled": true
   },
   "outputs": [],
   "source": [
    "# 数字\n",
    "a = 10\n",
    "b = 10.1\n",
    "c = 20+0j\n",
    "#数字类型转换\n",
    "d = int(b)\n",
    "e = float(a)\n",
    "f = complex(a)\n",
    "\n",
    "print(a,type(a))\n",
    "print(b,type(b))\n",
    "print(c,type(c))\n",
    "print(d,type(d))\n",
    "print(e,type(e))\n",
    "print(f,type(f))\n"
   ]
  },
  {
   "cell_type": "code",
   "execution_count": null,
   "id": "661f0107-db36-4424-9fc1-2859f24aa909",
   "metadata": {
    "scrolled": true
   },
   "outputs": [],
   "source": [
    "# 字符串\n",
    "a = \"Hello\"\n",
    "b = \"Python\"\n",
    " \n",
    "print(\"a + b 输出结果：\", a + b)\n",
    "print(\"a * 2 输出结果：\", a * 2)\n",
    "print(\"a[1] 输出结果：\", a[1])\n",
    "print(\"a[1:4] 输出结果：\", a[1:4])\n",
    " \n",
    "if( \"H\" in a) :\n",
    "    print(\"H 在变量 a 中\")\n",
    "else :\n",
    "    print(\"H 不在变量 a 中\")\n",
    " \n",
    "if( \"M\" not in a) :\n",
    "    print(\"M 不在变量 a 中\")\n",
    "else :\n",
    "    print(\"M 在变量 a 中\")"
   ]
  },
  {
   "cell_type": "code",
   "execution_count": null,
   "id": "9b322c0a-2c34-4e56-bab0-4a1c4a6175ca",
   "metadata": {
    "scrolled": true
   },
   "outputs": [],
   "source": [
    "#字符串(str)\n",
    "str4 = \"Hello\"\n",
    "#字符串常用操作\n",
    "print(len(str4)) #求字符串长度。len(object)：返回对象长度或项目个数，对象可以是字符串、列表、元组、集合、字典等\n",
    "print(str4[1]) #字符串通过索引获取对应字符，索引表明每个字符的位置，从0开始算，例如'one'里，字符'o'、'n'、'e'的索引分别为0、1、2\n",
    "#负数表示倒着算\n",
    "print(str4[:4]) #字符串可以取切片，切片方式为str[start:stop:step]，表示取字符串索引为start到索引为stop-1位置的字符，并且按step步长来取\n",
    "#另注：start不输入时表示按顺序从头开始，stop不输入时表示按顺序取到最后，step默认为1，负数表示倒着算\n",
    "str5 = str4.replace('H','A') #字符串可以进行替换\n",
    "print(str5)\n",
    "#str.replace(old,new,max)：返回字符串中把字符串中的old字符串替换成new字符串，如果指定max，则替换不超过max次，需要将返回值赋给变量\n",
    "str4[1]='A' #错误用法，字符串不可变，不支持指定字符改变"
   ]
  },
  {
   "cell_type": "code",
   "execution_count": null,
   "id": "197212f2-9aaa-4393-8d4f-49e5c57ec526",
   "metadata": {
    "scrolled": true
   },
   "outputs": [],
   "source": [
    "#列表\n",
    "list = ['red', 'green', 'blue', 'yellow', 'white', 'black']\n",
    "list2 = ['brown', 'orange']\n",
    "\n",
    "print( list[0] )\n",
    "print( list[1] )\n",
    "print( list[2] )\n",
    "print( list[-1] )\n",
    "print( list[-2] )\n",
    "print( list[-3] )\n",
    "print(list[0:4])#列表切片\n",
    "print(list[0:-2])\n",
    "print(list[0:len(list):2])\n",
    "\n",
    "print(list)\n",
    "print(list*2)# 列表乘以数字n→列表元素重复n次\n",
    "print(list+list2)# 列表相加→列表元素合在一起\n",
    "list[3]='purple' #列表可以修改\n"
   ]
  },
  {
   "cell_type": "code",
   "execution_count": null,
   "id": "c873d17b-d168-4244-aa74-5c09eba4d8cc",
   "metadata": {
    "scrolled": true
   },
   "outputs": [],
   "source": [
    "#向列表中添加或者删除元素\n",
    "list = ['red', 'green', 'blue', 'yellow', 'white', 'black']\n",
    "\n",
    "list.append('grey')\n",
    "print(list)\n",
    "\n",
    "list.extend(['brown', 'orange'])\n",
    "print(list)\n",
    "\n",
    "list.insert(2,'pink')\n",
    "print(list)\n",
    "      \n",
    "del list[-1] #删除对象，可以是任何对象，包括变量、列表或列表片段等\n",
    "print(list)"
   ]
  },
  {
   "cell_type": "code",
   "execution_count": null,
   "id": "e62d01b2-1b75-4143-a871-8edc60717469",
   "metadata": {
    "scrolled": true
   },
   "outputs": [],
   "source": [
    "#列表的复制\n",
    "list = ['red', 'green', 'blue', 'yellow', 'white', 'black']\n",
    "list1 = list #新的变量，但对象不变\n",
    "list2 = list[:] #新的变量，新的对象\n",
    "\n",
    "print(list)\n",
    "print(list1)\n",
    "print(list2)\n",
    "\n",
    "list1.append('grey')\n",
    "list2.append('pink')\n",
    "\n",
    "print(list)\n",
    "print(list1)\n",
    "print(list2)\n",
    "\n"
   ]
  },
  {
   "cell_type": "code",
   "execution_count": null,
   "id": "a632762f-0359-4da5-bb45-edfc51446365",
   "metadata": {
    "scrolled": true
   },
   "outputs": [],
   "source": [
    "#元组\n",
    "tup1 = 1, 2, 3, 4\n",
    "print(tup1)\n",
    "tup2 = ('Baidu', 'Google', 1, 2)\n",
    "print(tup2)\n",
    "tup3 = tuple('string') #用tuple(object)：将对象转为元组\n",
    "print(tup3)"
   ]
  },
  {
   "cell_type": "code",
   "execution_count": null,
   "id": "94fbe740-be4b-4ea3-947c-dc8dd400ee34",
   "metadata": {
    "scrolled": true
   },
   "outputs": [],
   "source": [
    "# 集合（set）\n",
    "set1 = {1, 2, 3, 5}\n",
    "d = {} #注意{}不是空集，而是一个空的字典，空集要用set()来定义\n",
    "print(type(d))\n",
    "set2 = set()\n",
    "print(type(set2))\n",
    "list1 = [1,1,2,2,3,4]\n",
    "set3 = set(list1) #可以用set()来剔除重复值\n",
    "print(set3)\n",
    "print({1,2,3,4} == {2,3,1,4}) #因为集合无序，所以顺序不同但元素相同的集合值相等\n",
    "### 集合操作\n",
    "print(set1&set2) #求交集\n",
    "print(set1|set2) #求并集\n",
    "print(set3-set1) #在set3中且不在set1中的元素集合\n",
    "print(set1^set3) #不同时包含在set1和set3中的元素集合"
   ]
  },
  {
   "cell_type": "code",
   "execution_count": null,
   "id": "eccd3df4-c54c-40a7-a059-458c7f70dcc7",
   "metadata": {
    "scrolled": true
   },
   "outputs": [],
   "source": [
    "# 字典（dict）\n",
    "# 创建字典\n",
    "# 直接创建\n",
    "dict1 = {'Name': 'Liz', 'Age': 7, 'Class': 'First'} #冒号前是键，冒号后是值，每对键-值对用逗号隔开\n",
    "print(dict1)\n",
    "dict1 = {} #或者，先创造一个空字典，再往里面加入键-值对\n",
    "dict1['Name'] = 'Liz'\n",
    "dict1['Age'] = 7\n",
    "dict1['Class'] = 'First'\n",
    "print(dict1)\n",
    "# 用dict(obj)：将对象转化为字典类型\n",
    "lst = [('Jack',24),('Paul',25),('Sally',20)] #每一个元组是一对键-值对\n",
    "dict2 = dict(lst)\n",
    "print(dict2)\n",
    "# 通过dict()通过关键词创建\n",
    "dict3 = dict(name = 'Jack', height = 182) #注意这里的键不加引号，不是字符串，但是生成的字典里键会自动转为字符串\n",
    "print(dict3)\n",
    "# 通过dict.fromkeys(seq, value)：创建一个新字典，以序列seq中元素作为键，value为所有键对应的初始值，不设置value时则初始值为空值None\n",
    "keys = ['Li','Wang','Sun']\n",
    "dict4 = dict.fromkeys(keys,60)\n",
    "print(dict4)"
   ]
  },
  {
   "cell_type": "code",
   "execution_count": null,
   "id": "bdfd7dd5-4d4a-4246-b5f7-7d7e924a83be",
   "metadata": {
    "scrolled": true
   },
   "outputs": [],
   "source": [
    "import time  # 引入time模块\n",
    "\n",
    "ticks = time.time()\n",
    "\n",
    "localtime = time.asctime( time.localtime(time.time()) )\n",
    "\n",
    "print (\"当前时间戳为:\", ticks) #时间戳，表示的是从1970年1月1日00:00:00开始按秒计算的偏移量\n",
    "print (\"本地时间为 :\", localtime)"
   ]
  },
  {
   "cell_type": "code",
   "execution_count": null,
   "id": "dba4c6ad-66e8-4d54-a6b4-da35425960a1",
   "metadata": {
    "scrolled": true
   },
   "outputs": [],
   "source": [
    "import calendar # 引入calendar模块\n",
    "\n",
    "cal = calendar.month(2016, 1)\n",
    "print (\"以下输出20236年1月份的日历:\")\n",
    "print (cal)"
   ]
  },
  {
   "cell_type": "code",
   "execution_count": null,
   "id": "a598d86e-d7a3-452f-ad4d-526e338e0f9b",
   "metadata": {
    "scrolled": true
   },
   "outputs": [],
   "source": [
    "## time.sleep(t)：将进程挂起t秒，t秒后再执行后面的代码\n",
    "import time\n",
    "start = time.time() #time.time()：返回当前时间的时间戳（浮点数类型）\n",
    "time.sleep(5)\n",
    "end = time.time()\n",
    "print(end-start) #由于代码运行本身也需要时间，所以不是精准的3秒\n",
    "\n",
    "\n",
    "import random\n",
    "start = time.time() #time.time()：返回当前时间的时间戳（浮点数类型）\n",
    "time.sleep(random.randint(1,10))#返回[1,10]之间任意整数\n",
    "end = time.time()\n",
    "print(end-start) "
   ]
  },
  {
   "cell_type": "code",
   "execution_count": null,
   "id": "642966a5-7497-4b5d-b933-a7031ae29580",
   "metadata": {
    "scrolled": true
   },
   "outputs": [],
   "source": [
    "# 包和模块的导入\n",
    "import math, sys #可以同时导入几个模块，用逗号隔开。math和sys是python标准库中自带的模块。\n",
    "print(math.pi) #调用模块中的方法和属性时要加上模块名\n",
    "print(sys.path)\n",
    "from sys import path #从sys模块里导入path，不导入其他内容（仅导入需要的成员）\n",
    "print(path) #这种导入方法下，直接使用导入的方法或属性\n",
    "from math import pi, sin #也可以一次性导入模块内的多个内容，用逗号隔开\n",
    "from math import * #用*表示导入模块里的所有成员\n",
    "import math as m #对导入的内容指定别名，后续使用时则使用该别名\n",
    "from math import pi as p\n",
    "print(p)"
   ]
  },
  {
   "cell_type": "code",
   "execution_count": null,
   "id": "9b06cb6a-022c-4560-9a64-14f608045fca",
   "metadata": {
    "scrolled": true
   },
   "outputs": [],
   "source": [
    "#条件句\n",
    "age = int(input(\"请输入你家狗狗的年龄: \"))\n",
    "print(\"\")\n",
    "if age <= 0:\n",
    "    print(\"你是在逗我吧!\")\n",
    "elif age == 1:\n",
    "    print(\"相当于 14 岁的人。\")\n",
    "elif age == 2:\n",
    "    print(\"相当于 22 岁的人。\")\n",
    "elif age > 2:\n",
    "    human = 22 + (age -2)*5\n",
    "    print(\"相当于\",human,\"岁的人\")\n",
    " "
   ]
  },
  {
   "cell_type": "code",
   "execution_count": null,
   "id": "462202d2-46c8-4a5f-ac50-d82fd73a7438",
   "metadata": {
    "scrolled": true
   },
   "outputs": [],
   "source": [
    "#while循环\n",
    "\n",
    "count = 0\n",
    "while count < 5:\n",
    "   print (count, \" 小于 5\")\n",
    "   count = count + 1\n",
    "else:\n",
    "   print (count, \" 大于或等于 5\")"
   ]
  },
  {
   "cell_type": "code",
   "execution_count": null,
   "id": "a2cadf68-986d-4fbd-b245-f8397e064e64",
   "metadata": {
    "scrolled": true
   },
   "outputs": [],
   "source": [
    "#for循环\n",
    "sites = [\"Baidu\", \"Google\",\"Zhihu\",\"Taobao\"]\n",
    "for site in sites:\n",
    "    if site == \"Zhihu\":\n",
    "        print(\"找到\"+\"知乎\")\n",
    "        break\n",
    "    print(\"搜索到 \" + site)\n",
    "else:\n",
    "    print(\"未找到!\")\n",
    "print(\"完成循环\")"
   ]
  },
  {
   "cell_type": "code",
   "execution_count": null,
   "id": "a3524767-3c8d-4722-a73e-a3d861752c21",
   "metadata": {
    "scrolled": true
   },
   "outputs": [],
   "source": [
    "#打破循环1\n",
    "for letter in 'SWUFE':     # 第一个实例\n",
    "   if letter == 'U':\n",
    "      break\n",
    "   print ('当前字母为 :', letter)\n",
    "  \n",
    "var = 10                    # 第二个实例\n",
    "while var > 0:              \n",
    "   print ('当前变量值为 :', var)\n",
    "   var = var -1\n",
    "   if var == 5:\n",
    "      break\n",
    " \n",
    "print (\"Good bye!\")\n"
   ]
  },
  {
   "cell_type": "code",
   "execution_count": null,
   "id": "63c78acf-c24f-4c15-8d1b-d42dfc6cba20",
   "metadata": {
    "scrolled": true
   },
   "outputs": [],
   "source": [
    "#打破循环2\n",
    "for letter in 'SWUFE':     # 第一个实例\n",
    "   if letter == 'U':        # 字母为 U 时跳过输出\n",
    "      continue\n",
    "   print ('当前字母 :', letter)\n",
    " \n",
    "var = 10                    # 第二个实例\n",
    "while var > 0:              \n",
    "   var = var -1\n",
    "   if var == 5:             # 变量为 5 时跳过输出\n",
    "      continue\n",
    "   print ('当前变量值 :', var)\n",
    "print (\"Good bye!\")"
   ]
  },
  {
   "cell_type": "code",
   "execution_count": null,
   "id": "1d40c832-56b1-49bf-8c38-9146f01171ce",
   "metadata": {
    "scrolled": true
   },
   "outputs": [],
   "source": [
    "# 函数\n",
    "# 计算面积\n",
    "def area(width, height):\n",
    "    return width * height\n",
    "w = 4\n",
    "h = 5\n",
    "print(\"width =\", w, \" height =\", h, \" area =\", area(w, h))"
   ]
  },
  {
   "cell_type": "code",
   "execution_count": null,
   "id": "ee5a399e-458c-4f49-b831-c9d842e6931d",
   "metadata": {
    "scrolled": true
   },
   "outputs": [],
   "source": [
    "# 匿名函数\n",
    "x = lambda a : a + 10\n",
    "print(x(5))\n",
    "\n",
    "#我们可以将匿名函数封装在一个函数内，这样可以使用同样的代码来创建多个匿名函数。\n",
    "#以下实例将匿名函数封装在 myfunc 函数中，通过传入不同的参数来创建不同的匿名函数\n",
    "def myfunc(n):\n",
    "  return lambda a : a * n\n",
    " \n",
    "mydoubler = myfunc(2)\n",
    "mytripler = myfunc(3)\n",
    " \n",
    "print(mydoubler(11))\n",
    "print(mytripler(11))"
   ]
  },
  {
   "cell_type": "code",
   "execution_count": null,
   "id": "b6a6e1d5-231f-4a88-8caa-1347a407e9f9",
   "metadata": {
    "scrolled": true
   },
   "outputs": [],
   "source": [
    "# numpy\n",
    "import numpy as np #导入模块\n",
    "# 创建数组\n",
    "a1 = np.array([1,2,3])\n",
    "print(a1)\n",
    "\n",
    "a2 = np.asarray(a1) #当对象本来就是数组时，asarray不会创建新对象，这种情况等价于a2=a1\n",
    "print(a2)\n",
    "print(a1 is a2)\n",
    "\n",
    "a3=np.linspace(20,100,5)\n",
    "\n",
    "a4=np.arange(20,120,20)\n",
    "\n",
    "print(a3)\n",
    "print(a4)\n",
    "\n",
    "a5 = np.ones((2,3)) #np.ones()函数返回给定形状和数据类型的新数组，其中元素的值设置为1\n",
    "print(a5)               \n",
    "\n",
    "a6 = np.ones((2,3),dtype=int) #可选参数，默认值为float。用于指定数组的数据类型。\n",
    "print(a6)       \n",
    "\n",
    "a7 = np.zeros((2,3),dtype=int)\n",
    "print(a7)\n",
    "\n",
    "a8 = np.zeros_like(a6,int)\n",
    "print(a8)"
   ]
  },
  {
   "cell_type": "code",
   "execution_count": null,
   "id": "d6e92fa3-a6db-4d52-91e3-6d71f8a8afd2",
   "metadata": {
    "scrolled": true
   },
   "outputs": [],
   "source": [
    "#numpy.random\n",
    "#生成简单随机数\n",
    "#np.random.rand(d0,d1...dn)：返回一个n+1维随机数组，每个维度的数量分别维d0、d1...dn，随机数服从[0,1)上的均匀分布\n",
    "rand1 = np.random.rand(5)\n",
    "print(rand1)\n",
    "\n",
    "##np.random.randn(d0,d1...dn)：返回一个n+1维随机数组，每维数量分别为d0、d1...dn，随机数服从均值为0，标准差为1的标准正态分布\n",
    "rand2 = np.random.randn(3,5)\n",
    "print(rand2)\n",
    "\n",
    "\"\"\"\n",
    "np.random.choice(a,size,replace,p)：从一个一维序列a中随机抽样，a如果是整数，则默认为对np.arange\n",
    "(a)抽样；\n",
    "样本数量为size（可以为形状参数），默认为None，则抽取1个元素；\n",
    "replace指定是否放回，默认为True；\n",
    "p指定抽样概率，默认是均匀抽样\n",
    "\"\"\"\n",
    "rand3 = np.random.choice(10, size = 5, replace = False)\n",
    "print(rand3)\n",
    "\n",
    "\n",
    "\n",
    "\n",
    "\n",
    "\n",
    "rng = np.random.RandomState(1)\n",
    "print(rng.rand(10))\n",
    "\n"
   ]
  },
  {
   "cell_type": "code",
   "execution_count": null,
   "id": "6b9d409a-d534-4456-86e5-5ddeb2f288d7",
   "metadata": {
    "scrolled": true
   },
   "outputs": [],
   "source": [
    "#生成指定随机分布样本\n",
    "# np.random.normal(loc, scale, size)：生成一个均值为loc，标准差为scale，样本量为size的随机正态分布数组，默认size=None\n",
    "rand4 = np.random.normal(3,2,(2,3)) #生成一个服从N(3,2)的2行3列的随机数组\n",
    "print(rand4)\n"
   ]
  },
  {
   "cell_type": "code",
   "execution_count": null,
   "id": "a524f5d3-21dc-46ed-bd36-04f8173d9625",
   "metadata": {
    "scrolled": true
   },
   "outputs": [],
   "source": [
    "# 随机排列\n",
    "# np.random.shuffle(x)：对序列x进行随机重新排序并替换原序列\n",
    "lst1 = np.array([1,2,3,4,5])\n",
    "np.random.shuffle(lst1)\n",
    "print(lst1)\n",
    "\n",
    "# np.random.permutation(x)：对序列x进行随机重新排序并生成新序列\n",
    "lst2 = np.array([1,2,3,4,5,6])\n",
    "lst3 = np.random.permutation(lst2)\n",
    "\n",
    "print(lst2)\n",
    "print(lst3)\n"
   ]
  },
  {
   "cell_type": "code",
   "execution_count": null,
   "id": "07e808bf-6f9f-42b9-aafc-0cddbfa46aad",
   "metadata": {
    "scrolled": true
   },
   "outputs": [],
   "source": [
    "# 随机生成器\n",
    "# np.random.RandomState(seed)：创建一个伪随机数生成器，指定随机种子seed（一个整数），种子相同时生成的随机数相同\n",
    "rng = np.random.RandomState(1)\n",
    "print(rng.rand(10))\n",
    "rng = np.random.RandomState(1) #注意每次都必须先创建一个种子相同的伪随机数生成器，才能保证每次生成的随机数相同\n",
    "print(rng.rand(10))\n",
    "# np.random.seed(seed)：指定随机种子为seed\n",
    "np.random.seed(1)\n",
    "print(np.random.rand(10))\n",
    "np.random.seed(1)\n",
    "print(np.random.rand(10))\n"
   ]
  },
  {
   "cell_type": "code",
   "execution_count": null,
   "id": "fddfecb6-65e2-4c59-aaf6-2b37b8c82540",
   "metadata": {
    "scrolled": true
   },
   "outputs": [],
   "source": [
    "## 数组基础的索引与切片\n",
    "\"\"\"\n",
    "数组索引和切片的方式和列表相似\n",
    "需要注意的是，数组的切片不会创建新对象，而是原数组的视图，因此，对于数组切片的任何操作都会直接改\n",
    "变原数组\n",
    "如果想要数组切片的拷贝，需要显示的复制这个数组，比如用copy()\n",
    "\"\"\"\n",
    "a1 = np.array([1,2,3])\n",
    "a2 = a1[:] #对数组的全切片并不等于做了a2=a1的操作\n",
    "print(a1 is a2)\n",
    "\n",
    "a1 = np.array([1,2,3,4,5,6])\n",
    "\n",
    "a3 = a1.reshape(2,3)\n",
    "print(a3)\n",
    "print(a3[1][2]) #高维数组可以通过连续索引的方式获取对应的元素（注意a3[1]可以获取数组的第二行，相当于a3[1,:]）\n",
    "print(a3[1,2]) #也可以通过一个索引的列表去获取元素\n",
    "print(a3[:,2]) #高维数组切片最好采用索引的列表形式来做"
   ]
  },
  {
   "cell_type": "code",
   "execution_count": null,
   "id": "e61bfccc-1add-4b96-84da-d7724a31d3bf",
   "metadata": {
    "scrolled": true
   },
   "outputs": [],
   "source": [
    "## 数组的统计值\n",
    "a = np.arange(12).reshape(4,3)\n",
    "print(a)\n",
    "print()\n",
    "print(a.sum())\n",
    "print()\n",
    "print(a.max(0)) #对于二维数组，axis=0表示沿着行（0轴）方向进行计算（即求每列的最大值）\n",
    "print()\n",
    "print(np.arange(12))\n",
    "print(a.cumsum())"
   ]
  },
  {
   "cell_type": "code",
   "execution_count": null,
   "id": "49c87be7-e489-40a6-bafe-1b88f6160d29",
   "metadata": {
    "scrolled": true
   },
   "outputs": [],
   "source": []
  }
 ],
 "metadata": {
  "kernelspec": {
   "display_name": "Python 3 (ipykernel)",
   "language": "python",
   "name": "python3"
  },
  "language_info": {
   "codemirror_mode": {
    "name": "ipython",
    "version": 3
   },
   "file_extension": ".py",
   "mimetype": "text/x-python",
   "name": "python",
   "nbconvert_exporter": "python",
   "pygments_lexer": "ipython3",
   "version": "3.10.9"
  }
 },
 "nbformat": 4,
 "nbformat_minor": 5
}
