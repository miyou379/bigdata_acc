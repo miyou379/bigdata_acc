{
 "cells": [
  {
   "cell_type": "markdown",
   "id": "bc59447c",
   "metadata": {},
   "source": [
    "CRM数据的可视化分析\n",
    "\n",
    "检查后发现已完成的两条数据是由于ERP系统登记错误导致，而其余八条数据未完成发货，数据没有问题，后期联系会计人员在ERP系统中进行数据修正即可。CRM中的数据是正确的。接下来，对CRM数据进行可视化分析，以了解大致的销售情况。\n",
    "\n",
    "1. 分析不同运输方式的销售收入(即订单金额)，判断不同运输方式在销售上的有效性，结合时间信息进一步分析了解不同运输方式的销售趋势；\n",
    "\n",
    "2. 分析发货地址所在城市不同运输方式的销售收入，了解在不同城市使用不同运输方式的有效性；\n",
    "\n",
    "3. 分析不同发货地址所在城市的销售收入，了解在不同城市的销售情况，以便优化销售策略"
   ]
  },
  {
   "cell_type": "code",
   "execution_count": null,
   "id": "531b9ca3",
   "metadata": {},
   "outputs": [],
   "source": [
    "# 分析不同运输方式的销售收入\n",
    "import pandas as pd\n",
    "\n",
    "CRM_df = pd.read_excel(r\"C:\\Users\\lizhi\\Desktop\\西财\\大数据与会计\\2023秋\\Week 6\\CRM订单数据.xlsx\") \n",
    "\n",
    "\n",
    "import matplotlib.pyplot as plt\n",
    "plt.rcParams['font.sans-serif'] = ['SimHei'] #解决中文显示问题\n",
    "plt.rcParams['axes.unicode_minus']=False #解决不能显示负号的问题\n",
    "\n",
    "\"\"\"\n",
    "使用pandas自带的DataFrame.plot功能画图，对于pandas DataFrame可视化而言更简便，它根据数据的每一列绘制指定图形，\n",
    "大部分涉及参数的功能与plt绘图中的函数或参数相似\n",
    "\n",
    "DataFrame.plot详细参考资料可见：https://pandas.pydata.org/pandas-docs/stable/reference/api/pandas.DataFrame.plot.html\n",
    "\n",
    "\"\"\"\n",
    "sales_by_trans = CRM_df.groupby(['运输方式'])['订单金额'].sum()\n",
    "\n",
    "sales_by_trans.plot(kind='pie', figsize=(6,6),autopct='%.2f%%',title='不同运输方式的销售额对比',\n",
    "                 explode=(0,0,0.2),subplots=True,pctdistance=0.8,radius=0.9,labeldistance=1.1,shadow=True,ylabel='')"
   ]
  },
  {
   "cell_type": "code",
   "execution_count": null,
   "id": "31c3d077",
   "metadata": {},
   "outputs": [],
   "source": [
    "# 进一步分析了解不同运输方式的销售趋势\n",
    "sales_df1 = CRM_df.set_index(\"下单时间\")\n",
    "sales_by_trans_m = sales_df1.groupby('运输方式')['开票金额'].resample(\"M\").sum()\n",
    "\n",
    "print(sales_by_trans_m)\n",
    "\n",
    "sales_by_trans_m = sales_by_trans_m.unstack(0) #把数据展开为可直接绘图的形式（每个运输方式各成一列）\n",
    "sales_by_trans_m.fillna(0,inplace=True) #将缺失值填补为0\n",
    "sales_by_trans_m.plot(kind='line',title='不同运输方式的月度销售额变化折线图')"
   ]
  },
  {
   "cell_type": "code",
   "execution_count": null,
   "id": "1bce8c65",
   "metadata": {},
   "outputs": [],
   "source": [
    "# 分析不同运输方式和发货地址所在城市下的销售收入 - 热力图\n",
    "import seaborn as sns\n",
    "sales_by_trans_city = CRM_df.groupby(['发货地址所在城市','运输方式'])['开票金额'].sum().unstack(0)\n",
    "plt.figure(figsize=(10,5))\n",
    "plt.title('不同城市不同运输方式的销售总额统计热力图')\n",
    "sns.heatmap(sales_by_trans_city,cmap=\"Reds\")"
   ]
  },
  {
   "cell_type": "code",
   "execution_count": null,
   "id": "a5df2c86",
   "metadata": {},
   "outputs": [],
   "source": [
    "# 分析不同城市的销售情况 - 地图可视化\n",
    "from pyecharts.charts import Map\n",
    "from pyecharts import options as opts\n",
    "\n",
    "sales_by_city = CRM_df.groupby('发货地址所在城市')['开票金额'].sum()\n",
    "data_pair = [(i,sales_by_city[i]/10000) for i in sales_by_city.index] #准备绘图数据，并将数据改为万元为单位\n",
    "\n",
    "city_sales = (\n",
    "        Map()\n",
    "        .add(\n",
    "                \"\",\n",
    "                data_pair,\n",
    "                \"china-cities\",\n",
    "                label_opts=opts.LabelOpts(is_show=False),\n",
    "                is_map_symbol_show=False\n",
    "                )\n",
    "        .set_global_opts(\n",
    "                title_opts=opts.TitleOpts(title=\"各城市销售额(万)\"),\n",
    "                visualmap_opts=opts.VisualMapOpts(\n",
    "                        type_=\"color\",\n",
    "                         pieces=[{\"min\": 20,\"max\": 24},\n",
    "                                {\"min\": 25, \"max\": 29},\n",
    "                                {\"min\": 30, \"max\": 34},\n",
    "                                {\"min\": 35, \"max\": 39}],\n",
    "                        is_piecewise=True\n",
    "                        ),\n",
    "                )\n",
    "        .render(\"不同城市销售收入可视化1.html\")\n",
    "        )"
   ]
  }
 ],
 "metadata": {
  "kernelspec": {
   "display_name": "Python 3 (ipykernel)",
   "language": "python",
   "name": "python3"
  },
  "language_info": {
   "codemirror_mode": {
    "name": "ipython",
    "version": 3
   },
   "file_extension": ".py",
   "mimetype": "text/x-python",
   "name": "python",
   "nbconvert_exporter": "python",
   "pygments_lexer": "ipython3",
   "version": "3.10.9"
  }
 },
 "nbformat": 4,
 "nbformat_minor": 5
}
