{
 "cells": [
  {
   "cell_type": "markdown",
   "metadata": {},
   "source": [
    "1) **查询会员人数最多的5个城市及其人数**"
   ]
  },
  {
   "cell_type": "code",
   "execution_count": 81,
   "metadata": {},
   "outputs": [
    {
     "name": "stdout",
     "output_type": "stream",
     "text": [
      "city\n",
      "Richmond       191\n",
      "Shawnee        111\n",
      "Downey         110\n",
      "Lebanon        108\n",
      "Lemon Grove    107\n",
      "Name: city, dtype: int64\n"
     ]
    }
   ],
   "source": [
    "import pandas as pd\n",
    "frame = pd.read_csv('customer.csv')\n",
    "\n",
    "groups = frame[['city']].groupby(frame['city'])\n",
    "print(groups['city'].count().sort_values(ascending = False)[0:5])\n"
   ]
  },
  {
   "cell_type": "markdown",
   "metadata": {},
   "source": [
    "2) **查询不同年龄段的额会员人数（以 10 岁为一段，以 1990 年作为当前时间）**"
   ]
  },
  {
   "cell_type": "code",
   "execution_count": 82,
   "metadata": {},
   "outputs": [
    {
     "name": "stdout",
     "output_type": "stream",
     "text": [
      "Age\n",
      "10    1354\n",
      "20    1493\n",
      "30    1467\n",
      "40    1514\n",
      "50    1441\n",
      "60    1478\n",
      "70    1466\n",
      "80      68\n",
      "Name: Age, dtype: int64\n"
     ]
    }
   ],
   "source": [
    "import pandas as pd\n",
    "frame = pd.read_csv('customer.csv')\n",
    "\n",
    "def rnd (num) :\n",
    "    num = 1990 - int(num)\n",
    "    num = num - num % 10\n",
    "    return num\n",
    "\n",
    "## age = ['[0, 10)', '[10, 20)', '[20, 30)', '[30, 40)', '[40, 50)', '[50, 60)', '[60, 70)', '[70, 80)']\n",
    "groups = frame['birthdate'].rename('Age')\n",
    "groups = groups.groupby(groups.str[0:4].apply(rnd)).count()\n",
    "print(groups)"
   ]
  },
  {
   "cell_type": "markdown",
   "metadata": {},
   "source": [
    "3) **查询不同会员卡等级的会员的汽车平均拥有量**"
   ]
  },
  {
   "cell_type": "code",
   "execution_count": 83,
   "metadata": {},
   "outputs": [
    {
     "name": "stdout",
     "output_type": "stream",
     "text": [
      "member_card\n",
      "Bronze    2.490093\n",
      "Golden    2.769616\n",
      "Normal    1.207025\n",
      "Silver    2.519792\n",
      "Name: num_cars_owned, dtype: float64\n"
     ]
    }
   ],
   "source": [
    "import pandas as pd\n",
    "frame = pd.read_csv('customer.csv')\n",
    "\n",
    "groups = frame['num_cars_owned'].groupby(frame['member_card'])\n",
    "print(groups.mean())"
   ]
  }
 ],
 "metadata": {
  "kernelspec": {
   "display_name": "Python 3",
   "language": "python",
   "name": "python3"
  },
  "language_info": {
   "codemirror_mode": {
    "name": "ipython",
    "version": 3
   },
   "file_extension": ".py",
   "mimetype": "text/x-python",
   "name": "python",
   "nbconvert_exporter": "python",
   "pygments_lexer": "ipython3",
   "version": "3.9.2"
  }
 },
 "nbformat": 4,
 "nbformat_minor": 2
}
