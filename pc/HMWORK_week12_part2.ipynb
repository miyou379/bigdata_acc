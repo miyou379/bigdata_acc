{
 "cells": [
  {
   "cell_type": "code",
   "execution_count": null,
   "id": "a518e8a0-8947-475f-bb9b-fa77c0a36538",
   "metadata": {
    "scrolled": true
   },
   "outputs": [],
   "source": [
    "import os\n",
    "import pandas as pd\n",
    "os.chdir(r\"/home/miu\")\n",
    "\n",
    "df = pd.read_excel(\"result.xlsx\")\n",
    "print(df)"
   ]
  },
  {
   "cell_type": "code",
   "execution_count": null,
   "id": "b175bf93-fb80-45e4-a7e3-2a3b739959f8",
   "metadata": {
    "scrolled": true
   },
   "outputs": [],
   "source": [
    "# 读入停用词表\n",
    "os.chdir(r\"/home/miu/pros/acc/pc/stopwords-master\")\n",
    "with open('cn_stopwords.txt','r',encoding='utf-8') as f:\n",
    "    stopwords = f.read().splitlines()\n",
    "    # 添加自定义停用词\n",
    "    add_stopwords = [\"年\", \"月\", \"日\", \"近日\", \"回应\", \"称\", \"表示\"]\n",
    "    stopwords.extend(add_stopwords)\n",
    "    # print(stopwords)\n",
    "\n",
    "# Redefine cut\n",
    "import jieba\n",
    "def cut(sentence):\n",
    "    been_cut = jieba.lcut(sentence)\n",
    "    been_cut = [i for i in been_cut if i not in stopwords and ('\\u4e00'<= i <='\\u9fa5')]\n",
    "    return been_cut"
   ]
  },
  {
   "cell_type": "code",
   "execution_count": null,
   "id": "b81989a4-dadc-4f12-9577-91e517c35877",
   "metadata": {},
   "outputs": [],
   "source": [
    "## 若无简介则对标题进行分析\n",
    "for i in range(0, len(df)):\n",
    "    if df[i:i+1][\"内容简介\"].item() == \"暂无简介\":\n",
    "        df.loc[i, \"内容简介\"] = df.loc[i, \"标题\"]\n",
    "df"
   ]
  },
  {
   "cell_type": "code",
   "execution_count": null,
   "id": "e9e18c70-9ec3-4d7c-ba15-0b29d0532828",
   "metadata": {
    "scrolled": true
   },
   "outputs": [],
   "source": [
    "df_solved = df['内容简介'].apply(cut)\n",
    "print(df_solved)"
   ]
  },
  {
   "cell_type": "code",
   "execution_count": null,
   "id": "5ca1f20f-a4b8-43cc-9b77-d6a4b4b641b3",
   "metadata": {
    "scrolled": true
   },
   "outputs": [],
   "source": [
    "# 词频统计\n",
    "def count(line):\n",
    "    times = {}\n",
    "    for word in line:\n",
    "        if word in times:\n",
    "            times[word] += 1\n",
    "        else:\n",
    "            times[word] = 1\n",
    "    times = sorted(times.items(), key = lambda x: x[1], reverse = True)\n",
    "    return times\n",
    "\n",
    "words = list(df_solved)\n",
    "words = [w for sentence in words for w in sentence]\n",
    "# print(words)\n",
    "\n",
    "# 打印出现次数最多的十个\n",
    "print(\"词频最高的10个词是: \", count(words)[0:10])"
   ]
  },
  {
   "cell_type": "code",
   "execution_count": null,
   "id": "c59b72fe-9522-4b93-a5d1-92dfe1c583a5",
   "metadata": {
    "scrolled": true
   },
   "outputs": [],
   "source": [
    "## WordCloud\n",
    "import wordcloud\n",
    "import matplotlib\n",
    "import jieba.analyse as analyse\n",
    "\n",
    "summary = \" \".join(words)\n",
    "keywords = dict(analyse.extract_tags(summary, topK = 50, withWeight = True))\n",
    "print(keywords)\n",
    "\n",
    "os.chdir(r\"../\")"
   ]
  },
  {
   "cell_type": "code",
   "execution_count": null,
   "id": "dddb360c-456d-4741-b46c-c180b8f2c7fa",
   "metadata": {
    "scrolled": true
   },
   "outputs": [],
   "source": [
    "## Cloud1 without weight\n",
    "cloud1 = wordcloud.WordCloud(max_words = 100, width = 600, height = 600, margin = 2, background_color = \"white\", font_path = '/usr/share/fonts/SimHei/SimHei.ttf').generate(summary)\n",
    "matplotlib.pyplot.axis(\"off\")\n",
    "matplotlib.pyplot.imshow(cloud1, interpolation = \"bilinear\")\n",
    "cloud1.to_file('./内容摘要1.png')"
   ]
  },
  {
   "cell_type": "code",
   "execution_count": null,
   "id": "d83346e7-8b14-43e5-a715-edf4e0ceaefc",
   "metadata": {
    "scrolled": true
   },
   "outputs": [],
   "source": [
    "## Cloud2 with frequencies_weight\n",
    "cloud2 = wordcloud.WordCloud(max_words = 100, width = 600, height = 600, margin = 2, background_color = \"white\", font_path = '/usr/share/fonts/SimHei/SimHei.ttf').generate_from_frequencies(keywords)\n",
    "matplotlib.pyplot.axis(\"off\")\n",
    "matplotlib.pyplot.imshow(cloud2, interpolation = \"bilinear\")\n",
    "cloud2.to_file('./内容摘要2.png')"
   ]
  },
  {
   "cell_type": "code",
   "execution_count": null,
   "id": "b1524234-e36d-4b4f-af2e-de8fad49b754",
   "metadata": {
    "scrolled": true
   },
   "outputs": [],
   "source": [
    "from snownlp import SnowNLP\n",
    "df[\"感情得分\"] = df[\"内容简介\"].apply(lambda x: SnowNLP(x).sentiments)\n",
    "df[\"感情得分\"].describe()\n",
    "df[\"感情得分\"][0:5]"
   ]
  },
  {
   "cell_type": "code",
   "execution_count": null,
   "id": "f02a86d2-d80e-43a8-a7d8-26084fd50b64",
   "metadata": {
    "scrolled": true
   },
   "outputs": [],
   "source": [
    "import numpy as np\n",
    "df_emotion = df.sort_values(by = [\"感情得分\"], ascending = False)\n",
    "\n",
    "df_emotion[\"正负面\"] = np.where(df_emotion[\"感情得分\"] > 0.7, \"正面新闻\", np.where(df_emotion[\"感情得分\"] < 0.3, \"负面新闻\", \"中性新闻\"))\n",
    "print(df_emotion)"
   ]
  },
  {
   "cell_type": "code",
   "execution_count": null,
   "id": "cb3ede58-901a-446e-a73c-3b23d41486f0",
   "metadata": {
    "scrolled": true
   },
   "outputs": [],
   "source": [
    "## Intialize\n",
    "langnet = [i[0] for i in keywords.items()][0:20]\n",
    "matrix = np.empty((len(langnet), len(langnet)))\n",
    "matrix[np.diag_indices_from(matrix)] = np.nan\n",
    "\n",
    "## Count\n",
    "for i in range(0, len(langnet)):\n",
    "    for j in range(i+1, len(langnet)):\n",
    "        cnt = 0\n",
    "        for sentence in df[\"内容简介\"]:\n",
    "            ifbool = (langnet[i] in sentence and langnet[j] in sentence)\n",
    "            if (ifbool):\n",
    "                cnt += 1\n",
    "        matrix[i][j] = cnt\n",
    "        matrix[j][i] = cnt # set the opposite\n",
    "\n",
    "## Transfer to Dataframe\n",
    "mat_df = pd.DataFrame(matrix)\n",
    "mat_df.columns = langnet\n",
    "mat_df.index = langnet\n",
    "print(mat_df)"
   ]
  },
  {
   "cell_type": "code",
   "execution_count": null,
   "id": "8571b540-3204-4b83-aa0e-6f97ec94c80d",
   "metadata": {
    "scrolled": true
   },
   "outputs": [],
   "source": [
    "## Compress the matrix and sort\n",
    "mat_df = mat_df.replace(0.0, np.nan)\n",
    "mat_df_stacked = mat_df.stack().reset_index() # 堆叠稀疏矩阵\n",
    "mat_df_stacked.rename(columns = {\"level_0\": \"词语1\", \"level_1\": \"词语2\", 0: \"共同出现次数\"}, inplace = True)\n",
    "mat_df_stacked.sort_values(by = [\"共同出现次数\"], ascending = False, inplace = True)\n",
    "\n",
    "mat_df_stacked"
   ]
  },
  {
   "cell_type": "code",
   "execution_count": null,
   "id": "b16859ec-398a-401c-9dc4-f0ba484ff652",
   "metadata": {
    "scrolled": true
   },
   "outputs": [],
   "source": [
    "import networkx\n",
    "\n",
    "## Set matplotlib parameters\n",
    "matplotlib.pyplot.rcParams['font.sans-serif'] = [\"SimHei\"]\n",
    "matplotlib.pyplot.rcParams['axes.unicode_minus'] = False\n",
    "graph = networkx.DiGraph() # Intialize graph\n",
    "\n",
    "node_pre = list(mat_df_stacked[\"词语1\"])\n",
    "node_next = list(mat_df_stacked[\"词语2\"]) # Set vertexes\n",
    "weight = list(mat_df_stacked[\"共同出现次数\"]) # Set weight\n",
    "for i in range(0, min(20, 2*len(node_pre))): # 有时候关键词连20个都没有\n",
    "    graph.add_edge(node_pre[i], node_next[i], weight = weight) # Set edges\n",
    "\n",
    "position = networkx.circular_layout(graph)\n",
    "matplotlib.pyplot.figure(figsize=(10,8)) # Adjust the graph size\n",
    "networkx.draw(graph, pos = position, node_size = 2000, node_color = range(len(graph)),cmap = matplotlib.pyplot.cm.Pastel1,\n",
    "        font_size = 14, edge_color = 'grey', with_labels = True)"
   ]
  },
  {
   "cell_type": "code",
   "execution_count": null,
   "id": "c708f3d6-da97-4260-a05e-5df907081856",
   "metadata": {},
   "outputs": [],
   "source": []
  }
 ],
 "metadata": {
  "kernelspec": {
   "display_name": "Python 3 (ipykernel)",
   "language": "python",
   "name": "python3"
  },
  "language_info": {
   "codemirror_mode": {
    "name": "ipython",
    "version": 3
   },
   "file_extension": ".py",
   "mimetype": "text/x-python",
   "name": "python",
   "nbconvert_exporter": "python",
   "pygments_lexer": "ipython3",
   "version": "3.11.6"
  }
 },
 "nbformat": 4,
 "nbformat_minor": 5
}
