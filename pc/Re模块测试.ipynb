{
 "cells": [
  {
   "cell_type": "code",
   "execution_count": null,
   "id": "b33c86e5",
   "metadata": {},
   "outputs": [],
   "source": [
    "# 正则表达式应用\n",
    "import re #导入re模块\n",
    "str1 = \"2020年1月3日收到货款1388元;2020年2月12日收款166元;2020.10.3日收入999.35元.\"\n",
    "\n",
    "pt1 = re.compile('\\d{4}[年.]\\d{1,2}[月.]\\d{1,2}日')\n",
    "#创建可以匹配str1中年月日信息的一个正则表达式对象\n",
    "\n",
    "match1=pt1.search(str1)\n",
    "#调用pt的search()方法，返回的是第一个匹配上的匹配对象\n",
    "print(match1)\n",
    "match_str=match1.group()\n",
    "#获取match对象对应的匹配字符串\n",
    "print(match_str)"
   ]
  },
  {
   "cell_type": "code",
   "execution_count": null,
   "id": "7cf5370c",
   "metadata": {},
   "outputs": [],
   "source": [
    "match_lst=pt1.findall(str1)\n",
    "print(match_lst)\n",
    "print()\n",
    "match_lst=re.findall(\"(\\d{4}[年.])(\\d{1,2}[月.]\\d{1,2}日)\",str1)\n",
    "#加上小括号后，返回括号中的匹配，多个子表达式的匹配以元组形式返\n",
    "print(match_lst)"
   ]
  },
  {
   "cell_type": "code",
   "execution_count": null,
   "id": "4e72cbbb",
   "metadata": {},
   "outputs": [],
   "source": [
    "str2=\"An apple and an APPLE and an Apple\"\n",
    "\n",
    "pt2=re.compile(\"apple\",re.I)#匹配不区分大小写的apple\n",
    "\n",
    "match_lst2=pt2.findall(str2)\n",
    "print(match_lst2)"
   ]
  },
  {
   "cell_type": "code",
   "execution_count": null,
   "id": "5b2e2a0d",
   "metadata": {},
   "outputs": [],
   "source": [
    "str3=\"\"\"Abby is a girl;\n",
    "Sally is a girl;\n",
    "Won is a boy;\n",
    "Ken is a boy.\n",
    "\"\"\"\n",
    "pt3=re.compile(r\"^\\w+\\b\")\n",
    "#匹配字符串的第一个单词\n",
    "print(pt3.findall(str3))\n",
    "pt4=re.compile(r\"^\\w+\\b\",re.M)\n",
    "#匹配每一行的第一个单词\n",
    "print(pt4.findall(str3))"
   ]
  },
  {
   "cell_type": "code",
   "execution_count": null,
   "id": "e2ce0493",
   "metadata": {},
   "outputs": [],
   "source": [
    "str4=\"\"\"银行账号：1234 5678 1234 5678\n",
    "密码：123456\n",
    "存款余额：￥5,500.00\n",
    "\"\"\"\n",
    "str5=re.sub(\"\\d\",\"*\",str4)\n",
    "#将字符串中所有的数字替换为*\n",
    "print(str5)"
   ]
  },
  {
   "cell_type": "code",
   "execution_count": null,
   "id": "0bdeb8de",
   "metadata": {},
   "outputs": [],
   "source": [
    "# BeautifulSoup解析网页\n",
    "from bs4 import BeautifulSoup\n",
    "#导入模块\n",
    "\"\"\"\n",
    "BeautifulSoup(markup,parser)：使用指定的解析器parser对标记语言markup进行解析，得到一个BeautifulSoup对象\n",
    "大多数情况下，选择不同解析器区别不大，html.parser是python3内置的，不需要安装，其他的需要安装后使用\n",
    "\n",
    "BeautifulSoup对象(bs)常用的方法有：\n",
    "bs.tagname：获取bs对象的第一个tagname标签实例,返回为标签对象tag\n",
    "标签对象tag可以进一步使用\n",
    "tag.name：获取标签对象的标签名称；\n",
    "tag.text：获取标签对象中的文本内容；\n",
    "tag.attrs：获取标签的全部属性\n",
    "\n",
    "bs.find()和bs.find_all()：用法相似，区别在于bs.find()返回按条件在bs中搜寻到的第一个满足条件的标签对象\n",
    "而bs.find_all()返回按条件在bs上搜寻到的所有满足条件的标签对象组成的列表\n",
    "\n",
    "bs.find_all(name,attrs,text...)：根据参数规定的要求找到bs中所有满足条件的标签对象并返回到一个列表中\n",
    "其中，\n",
    "\n",
    "name用于查找所有标签名字为name的tag；name参数可以传入字符串、正则表达式等\n",
    "attrs用于查找所有标签属性attrs满足相应条件的tag；该条件可以用关键字要求，也可用字典给出，对应的值可以是字符串、正则表达式等\n",
    "text用于查找所有的标签对象中文本内容为text的tag；\n",
    "text可以传入字符串、正则表达式等（单独使用时只会返回匹配上的文本内容的列表）\n",
    "bs.find()和bs.find_all()的用法非常灵活，可以传入任何一个以标签对象tag作为参数并且返回布尔值的函数\n",
    "以上方法对于任何一个标签对象tag也适用\n",
    "\"\"\"\n",
    "html1=\"<h1>an example</h1>\"#html1是一个h1标签实例，h1为标签名（name），an example为文本内容（text）\n",
    "bs1=BeautifulSoup(html1,'html.parser')\n",
    "\n",
    "tag1=bs1.h1\n",
    "\n",
    "print(tag1)\n",
    "\n",
    "print(tag1.name)#name用于查找所有标签名字为name的tag；name参数可以传入字符串、正则表达式等\n",
    "\n",
    "print(tag1.text)#text用于查找所有的标签对象中文本内容为text的tag；\n",
    "                #text可以传入字符串、正则表达式等（单独使用时只会返回匹配上的文本内容的列表）"
   ]
  },
  {
   "cell_type": "code",
   "execution_count": null,
   "id": "e03794e7",
   "metadata": {},
   "outputs": [],
   "source": [
    "## 一般的网页往往结构更加复杂，会存在多层嵌套关系\n",
    "html2=\"\"\"\n",
    "<html><head><title>Example</title></head>\n",
    "<body>\n",
    "<p class=\"example\">This is an example of HTML. Here are three texts:\n",
    "<a class=\"tag\" id=\"my_id\">text1</a>,\n",
    "<a class=\"tag\" id=\"example2\">text2</a> and\n",
    "<a class=\"newtag\" id=\"example3\">text3</a>.\n",
    "</p>\n",
    "</body>\n",
    "</html>\n",
    "\"\"\"\n",
    "bs2=BeautifulSoup(html2,'html.parser')"
   ]
  },
  {
   "cell_type": "code",
   "execution_count": null,
   "id": "cb3a0693",
   "metadata": {},
   "outputs": [],
   "source": [
    "tag2=bs2.p #获取第一个名为p的标签对象\n",
    "print(tag2)\n",
    "print()\n",
    "tag3=tag2.a\n",
    "#获取tag2中第一个名为a的子标签对象\n",
    "print(tag3)\n",
    "print()\n",
    "tag3=bs2.a\n",
    "#获取bs2中第一个名为a的标签对象\n",
    "print(tag3)\n",
    "print()\n",
    "print(tag3.attrs)#attrs用于查找所有标签属性attrs满足相应条件的tag；\n",
    "                 #该条件可以用关键字要求，也可用字典给出，对应的值可以是字符串、正则表达式等\n",
    "print()\n",
    "print(tag3.attrs['class'])\n",
    "#标签对象的属性是以字典形式储存的，因此可以通过属性的键获取其值"
   ]
  },
  {
   "cell_type": "code",
   "execution_count": null,
   "id": "91401e9a",
   "metadata": {},
   "outputs": [],
   "source": []
  }
 ],
 "metadata": {
  "kernelspec": {
   "display_name": "Python 3 (ipykernel)",
   "language": "python",
   "name": "python3"
  },
  "language_info": {
   "codemirror_mode": {
    "name": "ipython",
    "version": 3
   },
   "file_extension": ".py",
   "mimetype": "text/x-python",
   "name": "python",
   "nbconvert_exporter": "python",
   "pygments_lexer": "ipython3",
   "version": "3.10.9"
  }
 },
 "nbformat": 4,
 "nbformat_minor": 5
}
