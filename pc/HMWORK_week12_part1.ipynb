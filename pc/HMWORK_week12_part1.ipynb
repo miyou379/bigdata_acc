{
 "cells": [
  {
   "cell_type": "code",
   "execution_count": 21,
   "id": "f8fe702c-b545-4643-b22e-b3c8019cf7d7",
   "metadata": {
    "scrolled": true
   },
   "outputs": [
    {
     "name": "stdout",
     "output_type": "stream",
     "text": [
      "<class 'bs4.BeautifulSoup'>\n",
      "\n",
      "<!DOCTYPE html>\n",
      "\n",
      "<html>\n",
      "<head>\n",
      "<meta content=\"text/html;charset=utf-8\" http-equiv=\"Content-Type\"/>\n",
      "<meta content=\"IE=edge,chrome=1\" http-equiv=\"X-UA-Compatible\"/>\n",
      "<meta content=\"always\" name=\"referrer\"/>\n",
      "<meta content=\"#2932e1\" name=\"theme-color\"/>\n",
      "<link href=\"//www.baidu.com/favicon.ico\" rel=\"shortcut icon\" type=\"image/x-icon\"/>\n",
      "<link href=\"//www.baidu.com/img/baidu_85beaf5496f291521eb75ba38eacbd87.svg\" mask=\"\" rel=\"icon\" sizes=\"any\"/>\n",
      "<link href=\"//fyb-pc-static.cdn.bcebos.com\" rel=\"dns-prefe\n"
     ]
    }
   ],
   "source": [
    "from bs4 import BeautifulSoup as bs\n",
    "import urllib.request as urlreq\n",
    "import re\n",
    "req = urlreq.Request(url = \"https://top.baidu.com/board?tab=realtime\", headers = { \"User-Agent\":\n",
    "\"Mozilla/5.0 (X11; Linux x86_64) AppleWebKit/537.36 (KHTML, like Gecko) Chrome/119.0.0.0 Safari/537.36\" })\n",
    "got = urlreq.urlopen(req).read() ## http get \n",
    "obj = bs(got, 'html.parser') ## parse to bs4 object\n",
    "print(type(obj))\n",
    "print(obj.decode()[:500])"
   ]
  },
  {
   "cell_type": "code",
   "execution_count": 22,
   "id": "a1e3d7d8-25e3-4830-a05e-617cb94b2a25",
   "metadata": {
    "scrolled": true
   },
   "outputs": [
    {
     "name": "stdout",
     "output_type": "stream",
     "text": [
      "51\n",
      "<class 'list'>\n",
      "['习近平向2023从都国际论坛致贺信', '金价狂飙 网友：你看我还有机会吗', '五月天经纪公司回应演唱会假唱', '如何科学应对本轮呼吸道疾病？', '汪文斌分享迪丽热巴眺新疆舞视频', '家长在班级群发不雅视频被警方带走', '徐峰立因侵权张艺兴被强执3.8万', '“富翁之子”解清帅投喂母亲', '广西北海疫情暴发？官方辟谣', '女子自称20天内“老了30多岁”', '水亦诗高调宣布再就业', '刘纪鹏：A股要搞到4000点', '女子发现被舍友删后重加要回礼金', '京东回应承兴系俩萝卜章骗300亿', '天价母婴消费收割廉价爸妈', '女子联系不上男友谎称男友嫖娼', '越来越多人选择签“婚前协议”', '大学生送外卖赚1万多奖励自己游中国', '贵州致3死车祸伤者母亲：女儿在抢救', '解清帅跟妈妈认亲戚收获满把红包', '95%的主播月收入低于5000元', '初中教师强奸5名女学生已被执行死刑', '140斤女生减肥1年反胖50斤', '烟酒店玻璃太干净 顾客接连撞上去', '中国男子在家拍摄乌军作战被判刑', '女子全网寻找僵尸车主人', '美国军舰和多艘商船在红海遭袭', '林俊杰回应舞蹈片段被配音恶搞', '博士后当交警15年后突然火了', '女生课堂身亡 母亲称学校见死不救', '杨紫 零下二十度光腿直播', '义乌回应倡议居民保持10天以上存粮', '男子跳河拒救援 上岸后被路人扇巴掌', '古巴领导人时隔22年再访伊朗', '侯友宜批赖清德放纵民进党贪腐', '文物禁止拍照是量子问题', '小马云夹在流量与现实中', '扬州一学院食堂麻酱盆中发现老鼠', '深圳一景区野猪被投喂成网红猪', '女子丧夫又患癌 苦寻失踪18年独女', '贵州一中巴被两货车夹击面目全非', '比亚迪打击黑公关：举报最高奖500万', '有人滥用“止咳药”丧失认知送医', '内娱古装美男去哪了？', '前美国大使被捕 涉嫌担任古巴特工', '律师：假唱至少侵犯观众3种权利', '龙行龘龘是形容龙腾飞的样子', '乱港分子周庭弃保拒绝返港报到', '女子巴厘岛打卡恶魔的眼泪险丧命', '2614万元拍下手机号买家称拍错了', '日籍男子澳门蹦极后不适送医死亡']\n"
     ]
    }
   ],
   "source": [
    "intro = obj.find_all(\"div\", attrs = {\"class\": \"c-single-text-ellipsis\"})\n",
    "intro = [i.text.strip() for i in intro]\n",
    "print(len(intro))\n",
    "print(type(intro))\n",
    "print(intro)"
   ]
  },
  {
   "cell_type": "code",
   "execution_count": 23,
   "id": "eb5ec471-b15b-411c-b1b5-ca31c712f844",
   "metadata": {
    "scrolled": true
   },
   "outputs": [
    {
     "name": "stdout",
     "output_type": "stream",
     "text": [
      "<class 'bs4.element.ResultSet'>\n",
      "51\n",
      "<class 'list'>\n",
      "['12月4日，国家主席习近平向“2023从都国际论坛”致贺信。习近平强调，面对前所未有的世界之变、时代之变和历史之变，人类社会必须团结起来。', '12月4日，期货黄金和现货黄金早盘同步大幅高开，均续刷历史新高。网友调侃：你看我还有机会吗？', '12月4日，五月天经纪公司工作人员就此前“假唱风波”作出回应：没有假唱，稍后会在官方公众号上回应，可以持续关注。', '冬季后，面对全国范围内的呼吸道疾病大爆发，如何科学应对本轮呼吸道疾病，北京市呼吸疾病研究所所长童朝晖给出了解答。', '', '12月3日，网传河南信阳一名家长在班级群里发了一条长达1分48秒的不雅视频，后校长回应称情况属实，涉事家长已被警方带走。', '', '12月4日，被找回的 “富翁之子”解清帅投喂母亲，妈妈幸福开心满脸宠溺，妈妈想象了二十六年的画面终于实现了。', '', '近日，山东一42岁女子发视频称自己在20天内经历了断崖式的衰老。视频显示，女子的脸部皱纹增多，眼神憔悴，前后对比令人唏嘘。', '近日，水均益的女儿水亦诗宣布成功再就业，回到北京主持商业活动。此前，她从央视离职，引起了广大网友的热议和关注。', '12月2日，中国政法大学资本金融研究院院长刘纪鹏表示，A股要搞到4000点，在3000点转悠太危险，投资者没信心。', '29日，成都一女子发现被舍友删除后重加要回4年前500元礼金。女子表示：想着之后也不会再来往了，直接就要回了这笔份子钱。', '', '天价母婴消费收割廉价爸妈：基础款婴儿背带标价三四百，奶瓶清洁机动辄2000块，婴儿推车甚至狂飙至上万元……', '', '近日，一项关于中国人婚前协议意愿的调查公布，越来越多人选择签婚前协议，学历、收入越高的人，对待婚姻越谨慎。', '11月28日，浙江莲都的18岁女大学生吴欣玥送外卖，两个月赚了1万多元，奖励自己“环游半个中国”。', '12月3日，贵州毕节金沙县新化乡发生一起交通事故，一中巴被两货车夹击面目全非。伤者母亲：女儿上职校，还在抢救。', '', '近日，专家张成刚在一档栏目中对网络主播等群体的收入进行了解读。他提供的数据显示，95%的主播月收入低于五千元，不如外卖员。', '12月1日，湖南邵阳中级人民法院发布布告称，利用教师身份长期多次强奸3名幼女、2名未成年少女的龙佩柱已于当日被执行死刑。', '近日，山东济南一名140斤女子在节食减肥一年后反胖到190斤。医生表示：减肥时身体会降低基础代谢，若方法不当会导致反弹。', '12月2日，福建漳州一烟酒店玻璃门擦的太干净，导致多名顾客没注意到，接二连三撞上去。', '据乌克兰媒体近日报道，中国籍男子王吉贤因在家拍摄乌军设施并在网络进行传播，触犯泄露军事秘密罪，被判有期徒刑5年，缓刑1年。', '12月2日，河南一女子在全网寻找停在门前4年的“僵尸车”车主，并称：4年来从未见车主来开车，希望车主平安找回车辆。', '当地时间12月3日，美国防部表示，一艘美国军舰和多艘商船在红海遭到袭击。对此，五角大楼表示将在获得更多信息后进行详细说明。', '近日，林俊杰演唱会上的《不死之身》舞蹈被网友加上bgm恶搞。4日，林俊杰发文回应：不好笑，不尊重，下次请不要来我的演唱会。', '', '12月3日，江西萍乡市上栗中学发通报称：我校学生钟某某在上课期间身体出现不适，经抢救无效死亡，离世女生母亲发文提出质疑。', '', '', '', '', '', '', '', '近日，有网友报料称，在江苏扬州江海职业技术学院食堂的麻酱盆中发现老鼠。随后，校方回应：属实，正在调查。', '近日，广东深圳一景区野猪被游客近距离拍摄并投喂，成了“网红猪”，引发热议。对此，工作人员回应：安排了人员提醒劝阻。', '12月3日，四川寻子母亲许秀莲求助称，自己女儿于05年失踪，孩子丢失后，丈夫离世自己又患癌，想把仅有的一套旧房留给女儿。', '12月3日，贵州毕节金沙县新化乡发生一起交通事故，两辆大货车将一辆中巴车前后夹击，中巴车严重变形、面目全非。', '', '', '近日，《宁安如梦》、《一念关山》等多部古装剧播出，剧中男演员造型引发关注。对此，不禁有网友表示：内娱古装美男去哪了？', '当地时间12月3日，美联社报道称，曾担任美国驻玻利维亚大使的前外交官曼努埃尔·罗查被捕，他被指控秘密担任古巴政府特工。', '近日，五月天被质疑演唱会上假唱引发热议。对此，知名律师周兆成表示假唱行为至少侵犯了观众的知情权、选择权和公平交易权。', '', '', '', '11月25日，一手机号被买家以2614万元拍下，公告称需在12月3日前交付尾款，而截至最终期限买家未付尾款，并称：拍错了。', '']\n"
     ]
    }
   ],
   "source": [
    "digest = obj.find_all(\"div\", attrs = {\"class\": \"hot-desc_1m_jR large_nSuFU\"})\n",
    "print(type(digest))\n",
    "preview = [i.text[:-6].strip() for i in digest]\n",
    "print(len(preview))\n",
    "print(type(preview))\n",
    "print(preview)"
   ]
  },
  {
   "cell_type": "code",
   "execution_count": 24,
   "id": "3d3036f4-8f22-4814-a68b-740dca82cc45",
   "metadata": {
    "scrolled": true
   },
   "outputs": [
    {
     "name": "stdout",
     "output_type": "stream",
     "text": [
      "51 <class 'list'> ['https://www.baidu.com/s?wd=%E4%B9%A0%E8%BF%91%E5%B9%B3%E5%90%912023%E4%BB%8E%E9%83%BD%E5%9B%BD%E9%99%85%E8%AE%BA%E5%9D%9B%E8%87%B4%E8%B4%BA%E4%BF%A1&sa=fyb_news&rsv_dl=fyb_news', 'https://www.baidu.com/s?wd=%E9%87%91%E4%BB%B7%E7%8B%82%E9%A3%99+%E7%BD%91%E5%8F%8B%EF%BC%9A%E4%BD%A0%E7%9C%8B%E6%88%91%E8%BF%98%E6%9C%89%E6%9C%BA%E4%BC%9A%E5%90%97&sa=fyb_news&rsv_dl=fyb_news', 'https://www.baidu.com/s?wd=%E4%BA%94%E6%9C%88%E5%A4%A9%E7%BB%8F%E7%BA%AA%E5%85%AC%E5%8F%B8%E5%9B%9E%E5%BA%94%E6%BC%94%E5%94%B1%E4%BC%9A%E5%81%87%E5%94%B1&sa=fyb_news&rsv_dl=fyb_news', 'https://www.baidu.com/s?wd=%E5%A6%82%E4%BD%95%E7%A7%91%E5%AD%A6%E5%BA%94%E5%AF%B9%E6%9C%AC%E8%BD%AE%E5%91%BC%E5%90%B8%E9%81%93%E7%96%BE%E7%97%85%EF%BC%9F&sa=fyb_news&rsv_dl=fyb_news', 'https://www.baidu.com/s?wd=%E6%B1%AA%E6%96%87%E6%96%8C%E5%88%86%E4%BA%AB%E8%BF%AA%E4%B8%BD%E7%83%AD%E5%B7%B4%E7%9C%BA%E6%96%B0%E7%96%86%E8%88%9E%E8%A7%86%E9%A2%91&sa=fyb_news&rsv_dl=fyb_news', 'https://www.baidu.com/s?wd=%E5%AE%B6%E9%95%BF%E5%9C%A8%E7%8F%AD%E7%BA%A7%E7%BE%A4%E5%8F%91%E4%B8%8D%E9%9B%85%E8%A7%86%E9%A2%91%E8%A2%AB%E8%AD%A6%E6%96%B9%E5%B8%A6%E8%B5%B0&sa=fyb_news&rsv_dl=fyb_news', 'https://www.baidu.com/s?wd=%E5%BE%90%E5%B3%B0%E7%AB%8B%E5%9B%A0%E4%BE%B5%E6%9D%83%E5%BC%A0%E8%89%BA%E5%85%B4%E8%A2%AB%E5%BC%BA%E6%89%A73.8%E4%B8%87&sa=fyb_news&rsv_dl=fyb_news', 'https://www.baidu.com/s?wd=%E2%80%9C%E5%AF%8C%E7%BF%81%E4%B9%8B%E5%AD%90%E2%80%9D%E8%A7%A3%E6%B8%85%E5%B8%85%E6%8A%95%E5%96%82%E6%AF%8D%E4%BA%B2&sa=fyb_news&rsv_dl=fyb_news', 'https://www.baidu.com/s?wd=%E5%B9%BF%E8%A5%BF%E5%8C%97%E6%B5%B7%E7%96%AB%E6%83%85%E6%9A%B4%E5%8F%91%EF%BC%9F%E5%AE%98%E6%96%B9%E8%BE%9F%E8%B0%A3&sa=fyb_news&rsv_dl=fyb_news', 'https://www.baidu.com/s?wd=%E5%A5%B3%E5%AD%90%E8%87%AA%E7%A7%B020%E5%A4%A9%E5%86%85%E2%80%9C%E8%80%81%E4%BA%8630%E5%A4%9A%E5%B2%81%E2%80%9D&sa=fyb_news&rsv_dl=fyb_news', 'https://www.baidu.com/s?wd=%E6%B0%B4%E4%BA%A6%E8%AF%97%E9%AB%98%E8%B0%83%E5%AE%A3%E5%B8%83%E5%86%8D%E5%B0%B1%E4%B8%9A&sa=fyb_news&rsv_dl=fyb_news', 'https://www.baidu.com/s?wd=%E5%88%98%E7%BA%AA%E9%B9%8F%EF%BC%9AA%E8%82%A1%E8%A6%81%E6%90%9E%E5%88%B04000%E7%82%B9&sa=fyb_news&rsv_dl=fyb_news', 'https://www.baidu.com/s?wd=%E5%A5%B3%E5%AD%90%E5%8F%91%E7%8E%B0%E8%A2%AB%E8%88%8D%E5%8F%8B%E5%88%A0%E5%90%8E%E9%87%8D%E5%8A%A0%E8%A6%81%E5%9B%9E%E7%A4%BC%E9%87%91&sa=fyb_news&rsv_dl=fyb_news', 'https://www.baidu.com/s?wd=%E4%BA%AC%E4%B8%9C%E5%9B%9E%E5%BA%94%E6%89%BF%E5%85%B4%E7%B3%BB%E4%BF%A9%E8%90%9D%E5%8D%9C%E7%AB%A0%E9%AA%97300%E4%BA%BF&sa=fyb_news&rsv_dl=fyb_news', 'https://www.baidu.com/s?wd=%E5%A4%A9%E4%BB%B7%E6%AF%8D%E5%A9%B4%E6%B6%88%E8%B4%B9%E6%94%B6%E5%89%B2%E5%BB%89%E4%BB%B7%E7%88%B8%E5%A6%88&sa=fyb_news&rsv_dl=fyb_news', 'https://www.baidu.com/s?wd=%E5%A5%B3%E5%AD%90%E8%81%94%E7%B3%BB%E4%B8%8D%E4%B8%8A%E7%94%B7%E5%8F%8B%E8%B0%8E%E7%A7%B0%E7%94%B7%E5%8F%8B%E5%AB%96%E5%A8%BC&sa=fyb_news&rsv_dl=fyb_news', 'https://www.baidu.com/s?wd=%E8%B6%8A%E6%9D%A5%E8%B6%8A%E5%A4%9A%E4%BA%BA%E9%80%89%E6%8B%A9%E7%AD%BE%E2%80%9C%E5%A9%9A%E5%89%8D%E5%8D%8F%E8%AE%AE%E2%80%9D&sa=fyb_news&rsv_dl=fyb_news', 'https://www.baidu.com/s?wd=%E5%A4%A7%E5%AD%A6%E7%94%9F%E9%80%81%E5%A4%96%E5%8D%96%E8%B5%9A1%E4%B8%87%E5%A4%9A%E5%A5%96%E5%8A%B1%E8%87%AA%E5%B7%B1%E6%B8%B8%E4%B8%AD%E5%9B%BD&sa=fyb_news&rsv_dl=fyb_news', 'https://www.baidu.com/s?wd=%E8%B4%B5%E5%B7%9E%E8%87%B43%E6%AD%BB%E8%BD%A6%E7%A5%B8%E4%BC%A4%E8%80%85%E6%AF%8D%E4%BA%B2%EF%BC%9A%E5%A5%B3%E5%84%BF%E5%9C%A8%E6%8A%A2%E6%95%91&sa=fyb_news&rsv_dl=fyb_news', 'https://www.baidu.com/s?wd=%E8%A7%A3%E6%B8%85%E5%B8%85%E8%B7%9F%E5%A6%88%E5%A6%88%E8%AE%A4%E4%BA%B2%E6%88%9A%E6%94%B6%E8%8E%B7%E6%BB%A1%E6%8A%8A%E7%BA%A2%E5%8C%85&sa=fyb_news&rsv_dl=fyb_news', 'https://www.baidu.com/s?wd=95%25%E7%9A%84%E4%B8%BB%E6%92%AD%E6%9C%88%E6%94%B6%E5%85%A5%E4%BD%8E%E4%BA%8E5000%E5%85%83&sa=fyb_news&rsv_dl=fyb_news', 'https://www.baidu.com/s?wd=%E5%88%9D%E4%B8%AD%E6%95%99%E5%B8%88%E5%BC%BA%E5%A5%B85%E5%90%8D%E5%A5%B3%E5%AD%A6%E7%94%9F%E5%B7%B2%E8%A2%AB%E6%89%A7%E8%A1%8C%E6%AD%BB%E5%88%91&sa=fyb_news&rsv_dl=fyb_news', 'https://www.baidu.com/s?wd=140%E6%96%A4%E5%A5%B3%E7%94%9F%E5%87%8F%E8%82%A51%E5%B9%B4%E5%8F%8D%E8%83%9650%E6%96%A4&sa=fyb_news&rsv_dl=fyb_news', 'https://www.baidu.com/s?wd=%E7%83%9F%E9%85%92%E5%BA%97%E7%8E%BB%E7%92%83%E5%A4%AA%E5%B9%B2%E5%87%80+%E9%A1%BE%E5%AE%A2%E6%8E%A5%E8%BF%9E%E6%92%9E%E4%B8%8A%E5%8E%BB&sa=fyb_news&rsv_dl=fyb_news', 'https://www.baidu.com/s?wd=%E4%B8%AD%E5%9B%BD%E7%94%B7%E5%AD%90%E5%9C%A8%E5%AE%B6%E6%8B%8D%E6%91%84%E4%B9%8C%E5%86%9B%E4%BD%9C%E6%88%98%E8%A2%AB%E5%88%A4%E5%88%91&sa=fyb_news&rsv_dl=fyb_news', 'https://www.baidu.com/s?wd=%E5%A5%B3%E5%AD%90%E5%85%A8%E7%BD%91%E5%AF%BB%E6%89%BE%E5%83%B5%E5%B0%B8%E8%BD%A6%E4%B8%BB%E4%BA%BA&sa=fyb_news&rsv_dl=fyb_news', 'https://www.baidu.com/s?wd=%E7%BE%8E%E5%9B%BD%E5%86%9B%E8%88%B0%E5%92%8C%E5%A4%9A%E8%89%98%E5%95%86%E8%88%B9%E5%9C%A8%E7%BA%A2%E6%B5%B7%E9%81%AD%E8%A2%AD&sa=fyb_news&rsv_dl=fyb_news', 'https://www.baidu.com/s?wd=%E6%9E%97%E4%BF%8A%E6%9D%B0%E5%9B%9E%E5%BA%94%E8%88%9E%E8%B9%88%E7%89%87%E6%AE%B5%E8%A2%AB%E9%85%8D%E9%9F%B3%E6%81%B6%E6%90%9E&sa=fyb_news&rsv_dl=fyb_news', 'https://www.baidu.com/s?wd=%E5%8D%9A%E5%A3%AB%E5%90%8E%E5%BD%93%E4%BA%A4%E8%AD%A615%E5%B9%B4%E5%90%8E%E7%AA%81%E7%84%B6%E7%81%AB%E4%BA%86&sa=fyb_news&rsv_dl=fyb_news', 'https://www.baidu.com/s?wd=%E5%A5%B3%E7%94%9F%E8%AF%BE%E5%A0%82%E8%BA%AB%E4%BA%A1+%E6%AF%8D%E4%BA%B2%E7%A7%B0%E5%AD%A6%E6%A0%A1%E8%A7%81%E6%AD%BB%E4%B8%8D%E6%95%91&sa=fyb_news&rsv_dl=fyb_news', 'https://www.baidu.com/s?wd=%E6%9D%A8%E7%B4%AB+%E9%9B%B6%E4%B8%8B%E4%BA%8C%E5%8D%81%E5%BA%A6%E5%85%89%E8%85%BF%E7%9B%B4%E6%92%AD&sa=fyb_news&rsv_dl=fyb_news', 'https://www.baidu.com/s?wd=%E4%B9%89%E4%B9%8C%E5%9B%9E%E5%BA%94%E5%80%A1%E8%AE%AE%E5%B1%85%E6%B0%91%E4%BF%9D%E6%8C%8110%E5%A4%A9%E4%BB%A5%E4%B8%8A%E5%AD%98%E7%B2%AE&sa=fyb_news&rsv_dl=fyb_news', 'https://www.baidu.com/s?wd=%E7%94%B7%E5%AD%90%E8%B7%B3%E6%B2%B3%E6%8B%92%E6%95%91%E6%8F%B4+%E4%B8%8A%E5%B2%B8%E5%90%8E%E8%A2%AB%E8%B7%AF%E4%BA%BA%E6%89%87%E5%B7%B4%E6%8E%8C&sa=fyb_news&rsv_dl=fyb_news', 'https://www.baidu.com/s?wd=%E5%8F%A4%E5%B7%B4%E9%A2%86%E5%AF%BC%E4%BA%BA%E6%97%B6%E9%9A%9422%E5%B9%B4%E5%86%8D%E8%AE%BF%E4%BC%8A%E6%9C%97&sa=fyb_news&rsv_dl=fyb_news', 'https://www.baidu.com/s?wd=%E4%BE%AF%E5%8F%8B%E5%AE%9C%E6%89%B9%E8%B5%96%E6%B8%85%E5%BE%B7%E6%94%BE%E7%BA%B5%E6%B0%91%E8%BF%9B%E5%85%9A%E8%B4%AA%E8%85%90&sa=fyb_news&rsv_dl=fyb_news', 'https://www.baidu.com/s?wd=%E6%96%87%E7%89%A9%E7%A6%81%E6%AD%A2%E6%8B%8D%E7%85%A7%E6%98%AF%E9%87%8F%E5%AD%90%E9%97%AE%E9%A2%98&sa=fyb_news&rsv_dl=fyb_news', 'https://www.baidu.com/s?wd=%E5%B0%8F%E9%A9%AC%E4%BA%91%E5%A4%B9%E5%9C%A8%E6%B5%81%E9%87%8F%E4%B8%8E%E7%8E%B0%E5%AE%9E%E4%B8%AD&sa=fyb_news&rsv_dl=fyb_news', 'https://www.baidu.com/s?wd=%E6%89%AC%E5%B7%9E%E4%B8%80%E5%AD%A6%E9%99%A2%E9%A3%9F%E5%A0%82%E9%BA%BB%E9%85%B1%E7%9B%86%E4%B8%AD%E5%8F%91%E7%8E%B0%E8%80%81%E9%BC%A0&sa=fyb_news&rsv_dl=fyb_news', 'https://www.baidu.com/s?wd=%E6%B7%B1%E5%9C%B3%E4%B8%80%E6%99%AF%E5%8C%BA%E9%87%8E%E7%8C%AA%E8%A2%AB%E6%8A%95%E5%96%82%E6%88%90%E7%BD%91%E7%BA%A2%E7%8C%AA&sa=fyb_news&rsv_dl=fyb_news', 'https://www.baidu.com/s?wd=%E5%A5%B3%E5%AD%90%E4%B8%A7%E5%A4%AB%E5%8F%88%E6%82%A3%E7%99%8C+%E8%8B%A6%E5%AF%BB%E5%A4%B1%E8%B8%AA18%E5%B9%B4%E7%8B%AC%E5%A5%B3&sa=fyb_news&rsv_dl=fyb_news', 'https://www.baidu.com/s?wd=%E8%B4%B5%E5%B7%9E%E4%B8%80%E4%B8%AD%E5%B7%B4%E8%A2%AB%E4%B8%A4%E8%B4%A7%E8%BD%A6%E5%A4%B9%E5%87%BB%E9%9D%A2%E7%9B%AE%E5%85%A8%E9%9D%9E&sa=fyb_news&rsv_dl=fyb_news', 'https://www.baidu.com/s?wd=%E6%AF%94%E4%BA%9A%E8%BF%AA%E6%89%93%E5%87%BB%E9%BB%91%E5%85%AC%E5%85%B3%EF%BC%9A%E4%B8%BE%E6%8A%A5%E6%9C%80%E9%AB%98%E5%A5%96500%E4%B8%87&sa=fyb_news&rsv_dl=fyb_news', 'https://www.baidu.com/s?wd=%E6%9C%89%E4%BA%BA%E6%BB%A5%E7%94%A8%E2%80%9C%E6%AD%A2%E5%92%B3%E8%8D%AF%E2%80%9D%E4%B8%A7%E5%A4%B1%E8%AE%A4%E7%9F%A5%E9%80%81%E5%8C%BB&sa=fyb_news&rsv_dl=fyb_news', 'https://www.baidu.com/s?wd=%E5%86%85%E5%A8%B1%E5%8F%A4%E8%A3%85%E7%BE%8E%E7%94%B7%E5%8E%BB%E5%93%AA%E4%BA%86%EF%BC%9F&sa=fyb_news&rsv_dl=fyb_news', 'https://www.baidu.com/s?wd=%E5%89%8D%E7%BE%8E%E5%9B%BD%E5%A4%A7%E4%BD%BF%E8%A2%AB%E6%8D%95+%E6%B6%89%E5%AB%8C%E6%8B%85%E4%BB%BB%E5%8F%A4%E5%B7%B4%E7%89%B9%E5%B7%A5&sa=fyb_news&rsv_dl=fyb_news', 'https://www.baidu.com/s?wd=%E5%BE%8B%E5%B8%88%EF%BC%9A%E5%81%87%E5%94%B1%E8%87%B3%E5%B0%91%E4%BE%B5%E7%8A%AF%E8%A7%82%E4%BC%973%E7%A7%8D%E6%9D%83%E5%88%A9&sa=fyb_news&rsv_dl=fyb_news', 'https://www.baidu.com/s?wd=%E9%BE%99%E8%A1%8C%E9%BE%98%E9%BE%98%E6%98%AF%E5%BD%A2%E5%AE%B9%E9%BE%99%E8%85%BE%E9%A3%9E%E7%9A%84%E6%A0%B7%E5%AD%90&sa=fyb_news&rsv_dl=fyb_news', 'https://www.baidu.com/s?wd=%E4%B9%B1%E6%B8%AF%E5%88%86%E5%AD%90%E5%91%A8%E5%BA%AD%E5%BC%83%E4%BF%9D%E6%8B%92%E7%BB%9D%E8%BF%94%E6%B8%AF%E6%8A%A5%E5%88%B0&sa=fyb_news&rsv_dl=fyb_news', 'https://www.baidu.com/s?wd=%E5%A5%B3%E5%AD%90%E5%B7%B4%E5%8E%98%E5%B2%9B%E6%89%93%E5%8D%A1%E6%81%B6%E9%AD%94%E7%9A%84%E7%9C%BC%E6%B3%AA%E9%99%A9%E4%B8%A7%E5%91%BD&sa=fyb_news&rsv_dl=fyb_news', 'https://www.baidu.com/s?wd=2614%E4%B8%87%E5%85%83%E6%8B%8D%E4%B8%8B%E6%89%8B%E6%9C%BA%E5%8F%B7%E4%B9%B0%E5%AE%B6%E7%A7%B0%E6%8B%8D%E9%94%99%E4%BA%86&sa=fyb_news&rsv_dl=fyb_news', 'https://www.baidu.com/s?wd=%E6%97%A5%E7%B1%8D%E7%94%B7%E5%AD%90%E6%BE%B3%E9%97%A8%E8%B9%A6%E6%9E%81%E5%90%8E%E4%B8%8D%E9%80%82%E9%80%81%E5%8C%BB%E6%AD%BB%E4%BA%A1&sa=fyb_news&rsv_dl=fyb_news']\n"
     ]
    }
   ],
   "source": [
    "links = [i.a for i in digest]\n",
    "# print(type(links))\n",
    "links = [i.get(\"href\") for i in links]\n",
    "print(len(links), type(links), links)"
   ]
  },
  {
   "cell_type": "code",
   "execution_count": 25,
   "id": "3a6358eb-f9b6-4e23-995e-d21d65a42e20",
   "metadata": {
    "scrolled": true
   },
   "outputs": [
    {
     "name": "stdout",
     "output_type": "stream",
     "text": [
      "51 <class 'list'>\n",
      "['https://www.baidu.com/s?wd=%E4%B9%A0%E8%BF%91%E5%B9%B3%E5%90%912023%E4%BB%8E%E9%83%BD%E5%9B%BD%E9%99%85%E8%AE%BA%E5%9D%9B%E8%87%B4%E8%B4%BA%E4%BF%A1&sa=fyb_news&rsv_dl=fyb_news', 'https://www.baidu.com/s?wd=%E9%87%91%E4%BB%B7%E7%8B%82%E9%A3%99+%E7%BD%91%E5%8F%8B%EF%BC%9A%E4%BD%A0%E7%9C%8B%E6%88%91%E8%BF%98%E6%9C%89%E6%9C%BA%E4%BC%9A%E5%90%97&sa=fyb_news&rsv_dl=fyb_news', 'https://www.baidu.com/s?wd=%E4%BA%94%E6%9C%88%E5%A4%A9%E7%BB%8F%E7%BA%AA%E5%85%AC%E5%8F%B8%E5%9B%9E%E5%BA%94%E6%BC%94%E5%94%B1%E4%BC%9A%E5%81%87%E5%94%B1&sa=fyb_news&rsv_dl=fyb_news', 'https://www.baidu.com/s?wd=%E5%A6%82%E4%BD%95%E7%A7%91%E5%AD%A6%E5%BA%94%E5%AF%B9%E6%9C%AC%E8%BD%AE%E5%91%BC%E5%90%B8%E9%81%93%E7%96%BE%E7%97%85%EF%BC%9F&sa=fyb_news&rsv_dl=fyb_news', 'https://www.baidu.com/s?wd=%E6%B1%AA%E6%96%87%E6%96%8C%E5%88%86%E4%BA%AB%E8%BF%AA%E4%B8%BD%E7%83%AD%E5%B7%B4%E7%9C%BA%E6%96%B0%E7%96%86%E8%88%9E%E8%A7%86%E9%A2%91&sa=fyb_news&rsv_dl=fyb_news', 'https://www.baidu.com/s?wd=%E5%AE%B6%E9%95%BF%E5%9C%A8%E7%8F%AD%E7%BA%A7%E7%BE%A4%E5%8F%91%E4%B8%8D%E9%9B%85%E8%A7%86%E9%A2%91%E8%A2%AB%E8%AD%A6%E6%96%B9%E5%B8%A6%E8%B5%B0&sa=fyb_news&rsv_dl=fyb_news', 'https://www.baidu.com/s?wd=%E5%BE%90%E5%B3%B0%E7%AB%8B%E5%9B%A0%E4%BE%B5%E6%9D%83%E5%BC%A0%E8%89%BA%E5%85%B4%E8%A2%AB%E5%BC%BA%E6%89%A73.8%E4%B8%87&sa=fyb_news&rsv_dl=fyb_news', 'https://www.baidu.com/s?wd=%E2%80%9C%E5%AF%8C%E7%BF%81%E4%B9%8B%E5%AD%90%E2%80%9D%E8%A7%A3%E6%B8%85%E5%B8%85%E6%8A%95%E5%96%82%E6%AF%8D%E4%BA%B2&sa=fyb_news&rsv_dl=fyb_news', 'https://www.baidu.com/s?wd=%E5%B9%BF%E8%A5%BF%E5%8C%97%E6%B5%B7%E7%96%AB%E6%83%85%E6%9A%B4%E5%8F%91%EF%BC%9F%E5%AE%98%E6%96%B9%E8%BE%9F%E8%B0%A3&sa=fyb_news&rsv_dl=fyb_news', 'https://www.baidu.com/s?wd=%E5%A5%B3%E5%AD%90%E8%87%AA%E7%A7%B020%E5%A4%A9%E5%86%85%E2%80%9C%E8%80%81%E4%BA%8630%E5%A4%9A%E5%B2%81%E2%80%9D&sa=fyb_news&rsv_dl=fyb_news', 'https://www.baidu.com/s?wd=%E6%B0%B4%E4%BA%A6%E8%AF%97%E9%AB%98%E8%B0%83%E5%AE%A3%E5%B8%83%E5%86%8D%E5%B0%B1%E4%B8%9A&sa=fyb_news&rsv_dl=fyb_news', 'https://www.baidu.com/s?wd=%E5%88%98%E7%BA%AA%E9%B9%8F%EF%BC%9AA%E8%82%A1%E8%A6%81%E6%90%9E%E5%88%B04000%E7%82%B9&sa=fyb_news&rsv_dl=fyb_news', 'https://www.baidu.com/s?wd=%E5%A5%B3%E5%AD%90%E5%8F%91%E7%8E%B0%E8%A2%AB%E8%88%8D%E5%8F%8B%E5%88%A0%E5%90%8E%E9%87%8D%E5%8A%A0%E8%A6%81%E5%9B%9E%E7%A4%BC%E9%87%91&sa=fyb_news&rsv_dl=fyb_news', 'https://www.baidu.com/s?wd=%E4%BA%AC%E4%B8%9C%E5%9B%9E%E5%BA%94%E6%89%BF%E5%85%B4%E7%B3%BB%E4%BF%A9%E8%90%9D%E5%8D%9C%E7%AB%A0%E9%AA%97300%E4%BA%BF&sa=fyb_news&rsv_dl=fyb_news', 'https://www.baidu.com/s?wd=%E5%A4%A9%E4%BB%B7%E6%AF%8D%E5%A9%B4%E6%B6%88%E8%B4%B9%E6%94%B6%E5%89%B2%E5%BB%89%E4%BB%B7%E7%88%B8%E5%A6%88&sa=fyb_news&rsv_dl=fyb_news', 'https://www.baidu.com/s?wd=%E5%A5%B3%E5%AD%90%E8%81%94%E7%B3%BB%E4%B8%8D%E4%B8%8A%E7%94%B7%E5%8F%8B%E8%B0%8E%E7%A7%B0%E7%94%B7%E5%8F%8B%E5%AB%96%E5%A8%BC&sa=fyb_news&rsv_dl=fyb_news', 'https://www.baidu.com/s?wd=%E8%B6%8A%E6%9D%A5%E8%B6%8A%E5%A4%9A%E4%BA%BA%E9%80%89%E6%8B%A9%E7%AD%BE%E2%80%9C%E5%A9%9A%E5%89%8D%E5%8D%8F%E8%AE%AE%E2%80%9D&sa=fyb_news&rsv_dl=fyb_news', 'https://www.baidu.com/s?wd=%E5%A4%A7%E5%AD%A6%E7%94%9F%E9%80%81%E5%A4%96%E5%8D%96%E8%B5%9A1%E4%B8%87%E5%A4%9A%E5%A5%96%E5%8A%B1%E8%87%AA%E5%B7%B1%E6%B8%B8%E4%B8%AD%E5%9B%BD&sa=fyb_news&rsv_dl=fyb_news', 'https://www.baidu.com/s?wd=%E8%B4%B5%E5%B7%9E%E8%87%B43%E6%AD%BB%E8%BD%A6%E7%A5%B8%E4%BC%A4%E8%80%85%E6%AF%8D%E4%BA%B2%EF%BC%9A%E5%A5%B3%E5%84%BF%E5%9C%A8%E6%8A%A2%E6%95%91&sa=fyb_news&rsv_dl=fyb_news', 'https://www.baidu.com/s?wd=%E8%A7%A3%E6%B8%85%E5%B8%85%E8%B7%9F%E5%A6%88%E5%A6%88%E8%AE%A4%E4%BA%B2%E6%88%9A%E6%94%B6%E8%8E%B7%E6%BB%A1%E6%8A%8A%E7%BA%A2%E5%8C%85&sa=fyb_news&rsv_dl=fyb_news', 'https://www.baidu.com/s?wd=95%25%E7%9A%84%E4%B8%BB%E6%92%AD%E6%9C%88%E6%94%B6%E5%85%A5%E4%BD%8E%E4%BA%8E5000%E5%85%83&sa=fyb_news&rsv_dl=fyb_news', 'https://www.baidu.com/s?wd=%E5%88%9D%E4%B8%AD%E6%95%99%E5%B8%88%E5%BC%BA%E5%A5%B85%E5%90%8D%E5%A5%B3%E5%AD%A6%E7%94%9F%E5%B7%B2%E8%A2%AB%E6%89%A7%E8%A1%8C%E6%AD%BB%E5%88%91&sa=fyb_news&rsv_dl=fyb_news', 'https://www.baidu.com/s?wd=140%E6%96%A4%E5%A5%B3%E7%94%9F%E5%87%8F%E8%82%A51%E5%B9%B4%E5%8F%8D%E8%83%9650%E6%96%A4&sa=fyb_news&rsv_dl=fyb_news', 'https://www.baidu.com/s?wd=%E7%83%9F%E9%85%92%E5%BA%97%E7%8E%BB%E7%92%83%E5%A4%AA%E5%B9%B2%E5%87%80+%E9%A1%BE%E5%AE%A2%E6%8E%A5%E8%BF%9E%E6%92%9E%E4%B8%8A%E5%8E%BB&sa=fyb_news&rsv_dl=fyb_news', 'https://www.baidu.com/s?wd=%E4%B8%AD%E5%9B%BD%E7%94%B7%E5%AD%90%E5%9C%A8%E5%AE%B6%E6%8B%8D%E6%91%84%E4%B9%8C%E5%86%9B%E4%BD%9C%E6%88%98%E8%A2%AB%E5%88%A4%E5%88%91&sa=fyb_news&rsv_dl=fyb_news', 'https://www.baidu.com/s?wd=%E5%A5%B3%E5%AD%90%E5%85%A8%E7%BD%91%E5%AF%BB%E6%89%BE%E5%83%B5%E5%B0%B8%E8%BD%A6%E4%B8%BB%E4%BA%BA&sa=fyb_news&rsv_dl=fyb_news', 'https://www.baidu.com/s?wd=%E7%BE%8E%E5%9B%BD%E5%86%9B%E8%88%B0%E5%92%8C%E5%A4%9A%E8%89%98%E5%95%86%E8%88%B9%E5%9C%A8%E7%BA%A2%E6%B5%B7%E9%81%AD%E8%A2%AD&sa=fyb_news&rsv_dl=fyb_news', 'https://www.baidu.com/s?wd=%E6%9E%97%E4%BF%8A%E6%9D%B0%E5%9B%9E%E5%BA%94%E8%88%9E%E8%B9%88%E7%89%87%E6%AE%B5%E8%A2%AB%E9%85%8D%E9%9F%B3%E6%81%B6%E6%90%9E&sa=fyb_news&rsv_dl=fyb_news', 'https://www.baidu.com/s?wd=%E5%8D%9A%E5%A3%AB%E5%90%8E%E5%BD%93%E4%BA%A4%E8%AD%A615%E5%B9%B4%E5%90%8E%E7%AA%81%E7%84%B6%E7%81%AB%E4%BA%86&sa=fyb_news&rsv_dl=fyb_news', 'https://www.baidu.com/s?wd=%E5%A5%B3%E7%94%9F%E8%AF%BE%E5%A0%82%E8%BA%AB%E4%BA%A1+%E6%AF%8D%E4%BA%B2%E7%A7%B0%E5%AD%A6%E6%A0%A1%E8%A7%81%E6%AD%BB%E4%B8%8D%E6%95%91&sa=fyb_news&rsv_dl=fyb_news', 'https://www.baidu.com/s?wd=%E6%9D%A8%E7%B4%AB+%E9%9B%B6%E4%B8%8B%E4%BA%8C%E5%8D%81%E5%BA%A6%E5%85%89%E8%85%BF%E7%9B%B4%E6%92%AD&sa=fyb_news&rsv_dl=fyb_news', 'https://www.baidu.com/s?wd=%E4%B9%89%E4%B9%8C%E5%9B%9E%E5%BA%94%E5%80%A1%E8%AE%AE%E5%B1%85%E6%B0%91%E4%BF%9D%E6%8C%8110%E5%A4%A9%E4%BB%A5%E4%B8%8A%E5%AD%98%E7%B2%AE&sa=fyb_news&rsv_dl=fyb_news', 'https://www.baidu.com/s?wd=%E7%94%B7%E5%AD%90%E8%B7%B3%E6%B2%B3%E6%8B%92%E6%95%91%E6%8F%B4+%E4%B8%8A%E5%B2%B8%E5%90%8E%E8%A2%AB%E8%B7%AF%E4%BA%BA%E6%89%87%E5%B7%B4%E6%8E%8C&sa=fyb_news&rsv_dl=fyb_news', 'https://www.baidu.com/s?wd=%E5%8F%A4%E5%B7%B4%E9%A2%86%E5%AF%BC%E4%BA%BA%E6%97%B6%E9%9A%9422%E5%B9%B4%E5%86%8D%E8%AE%BF%E4%BC%8A%E6%9C%97&sa=fyb_news&rsv_dl=fyb_news', 'https://www.baidu.com/s?wd=%E4%BE%AF%E5%8F%8B%E5%AE%9C%E6%89%B9%E8%B5%96%E6%B8%85%E5%BE%B7%E6%94%BE%E7%BA%B5%E6%B0%91%E8%BF%9B%E5%85%9A%E8%B4%AA%E8%85%90&sa=fyb_news&rsv_dl=fyb_news', 'https://www.baidu.com/s?wd=%E6%96%87%E7%89%A9%E7%A6%81%E6%AD%A2%E6%8B%8D%E7%85%A7%E6%98%AF%E9%87%8F%E5%AD%90%E9%97%AE%E9%A2%98&sa=fyb_news&rsv_dl=fyb_news', 'https://www.baidu.com/s?wd=%E5%B0%8F%E9%A9%AC%E4%BA%91%E5%A4%B9%E5%9C%A8%E6%B5%81%E9%87%8F%E4%B8%8E%E7%8E%B0%E5%AE%9E%E4%B8%AD&sa=fyb_news&rsv_dl=fyb_news', 'https://www.baidu.com/s?wd=%E6%89%AC%E5%B7%9E%E4%B8%80%E5%AD%A6%E9%99%A2%E9%A3%9F%E5%A0%82%E9%BA%BB%E9%85%B1%E7%9B%86%E4%B8%AD%E5%8F%91%E7%8E%B0%E8%80%81%E9%BC%A0&sa=fyb_news&rsv_dl=fyb_news', 'https://www.baidu.com/s?wd=%E6%B7%B1%E5%9C%B3%E4%B8%80%E6%99%AF%E5%8C%BA%E9%87%8E%E7%8C%AA%E8%A2%AB%E6%8A%95%E5%96%82%E6%88%90%E7%BD%91%E7%BA%A2%E7%8C%AA&sa=fyb_news&rsv_dl=fyb_news', 'https://www.baidu.com/s?wd=%E5%A5%B3%E5%AD%90%E4%B8%A7%E5%A4%AB%E5%8F%88%E6%82%A3%E7%99%8C+%E8%8B%A6%E5%AF%BB%E5%A4%B1%E8%B8%AA18%E5%B9%B4%E7%8B%AC%E5%A5%B3&sa=fyb_news&rsv_dl=fyb_news', 'https://www.baidu.com/s?wd=%E8%B4%B5%E5%B7%9E%E4%B8%80%E4%B8%AD%E5%B7%B4%E8%A2%AB%E4%B8%A4%E8%B4%A7%E8%BD%A6%E5%A4%B9%E5%87%BB%E9%9D%A2%E7%9B%AE%E5%85%A8%E9%9D%9E&sa=fyb_news&rsv_dl=fyb_news', 'https://www.baidu.com/s?wd=%E6%AF%94%E4%BA%9A%E8%BF%AA%E6%89%93%E5%87%BB%E9%BB%91%E5%85%AC%E5%85%B3%EF%BC%9A%E4%B8%BE%E6%8A%A5%E6%9C%80%E9%AB%98%E5%A5%96500%E4%B8%87&sa=fyb_news&rsv_dl=fyb_news', 'https://www.baidu.com/s?wd=%E6%9C%89%E4%BA%BA%E6%BB%A5%E7%94%A8%E2%80%9C%E6%AD%A2%E5%92%B3%E8%8D%AF%E2%80%9D%E4%B8%A7%E5%A4%B1%E8%AE%A4%E7%9F%A5%E9%80%81%E5%8C%BB&sa=fyb_news&rsv_dl=fyb_news', 'https://www.baidu.com/s?wd=%E5%86%85%E5%A8%B1%E5%8F%A4%E8%A3%85%E7%BE%8E%E7%94%B7%E5%8E%BB%E5%93%AA%E4%BA%86%EF%BC%9F&sa=fyb_news&rsv_dl=fyb_news', 'https://www.baidu.com/s?wd=%E5%89%8D%E7%BE%8E%E5%9B%BD%E5%A4%A7%E4%BD%BF%E8%A2%AB%E6%8D%95+%E6%B6%89%E5%AB%8C%E6%8B%85%E4%BB%BB%E5%8F%A4%E5%B7%B4%E7%89%B9%E5%B7%A5&sa=fyb_news&rsv_dl=fyb_news', 'https://www.baidu.com/s?wd=%E5%BE%8B%E5%B8%88%EF%BC%9A%E5%81%87%E5%94%B1%E8%87%B3%E5%B0%91%E4%BE%B5%E7%8A%AF%E8%A7%82%E4%BC%973%E7%A7%8D%E6%9D%83%E5%88%A9&sa=fyb_news&rsv_dl=fyb_news', 'https://www.baidu.com/s?wd=%E9%BE%99%E8%A1%8C%E9%BE%98%E9%BE%98%E6%98%AF%E5%BD%A2%E5%AE%B9%E9%BE%99%E8%85%BE%E9%A3%9E%E7%9A%84%E6%A0%B7%E5%AD%90&sa=fyb_news&rsv_dl=fyb_news', 'https://www.baidu.com/s?wd=%E4%B9%B1%E6%B8%AF%E5%88%86%E5%AD%90%E5%91%A8%E5%BA%AD%E5%BC%83%E4%BF%9D%E6%8B%92%E7%BB%9D%E8%BF%94%E6%B8%AF%E6%8A%A5%E5%88%B0&sa=fyb_news&rsv_dl=fyb_news', 'https://www.baidu.com/s?wd=%E5%A5%B3%E5%AD%90%E5%B7%B4%E5%8E%98%E5%B2%9B%E6%89%93%E5%8D%A1%E6%81%B6%E9%AD%94%E7%9A%84%E7%9C%BC%E6%B3%AA%E9%99%A9%E4%B8%A7%E5%91%BD&sa=fyb_news&rsv_dl=fyb_news', 'https://www.baidu.com/s?wd=2614%E4%B8%87%E5%85%83%E6%8B%8D%E4%B8%8B%E6%89%8B%E6%9C%BA%E5%8F%B7%E4%B9%B0%E5%AE%B6%E7%A7%B0%E6%8B%8D%E9%94%99%E4%BA%86&sa=fyb_news&rsv_dl=fyb_news', 'https://www.baidu.com/s?wd=%E6%97%A5%E7%B1%8D%E7%94%B7%E5%AD%90%E6%BE%B3%E9%97%A8%E8%B9%A6%E6%9E%81%E5%90%8E%E4%B8%8D%E9%80%82%E9%80%81%E5%8C%BB%E6%AD%BB%E4%BA%A1&sa=fyb_news&rsv_dl=fyb_news']\n"
     ]
    }
   ],
   "source": [
    "## 另一种写法\n",
    "links = obj.find_all(\"a\", attrs = {\"class\": \"look-more_3oNWC\"})\n",
    "# print(type(links[0]), links[0])\n",
    "links = [i.get(\"href\") for i in links]\n",
    "links = links[::2] # every link has its copy\n",
    "print(len(links), type(links))\n",
    "print(links)"
   ]
  },
  {
   "cell_type": "code",
   "execution_count": 26,
   "id": "50fdce2a-6539-4bda-bbcc-30a6d71fcd69",
   "metadata": {
    "scrolled": true
   },
   "outputs": [
    {
     "name": "stdout",
     "output_type": "stream",
     "text": [
      "51\n",
      "<class 'list'>\n",
      "[4995005, 4937505, 4878598, 4738294, 4686943, 4557860, 4455390, 4324801, 4257375, 4192643, 4075633, 3988638, 3878118, 3720281, 3610640, 3505821, 3471024, 3316191, 3246363, 3145455, 3058269, 2919925, 2837149, 2727688, 2622450, 2596326, 2497141, 2313620, 2268731, 2193597, 2052164, 1992136, 1863367, 1792593, 1601202, 1523306, 1448092, 1311189, 1208384, 1139509, 1006168, 974349, 857457, 753843, 639042, 531907, 493386, 327199, 239150, 190338, 100000]\n"
     ]
    }
   ],
   "source": [
    "hot_index = obj.find_all(\"div\", attrs = {\"class\": \"hot-index_1Bl1a\"})\n",
    "hot_index = [int(i.text.strip()) for i in hot_index]\n",
    "print(len(hot_index))\n",
    "print(type(hot_index))\n",
    "print(hot_index)"
   ]
  },
  {
   "cell_type": "code",
   "execution_count": 27,
   "id": "6934c2be-caa3-464f-bbba-4f4e2c7a2bd0",
   "metadata": {
    "scrolled": true
   },
   "outputs": [
    {
     "name": "stdout",
     "output_type": "stream",
     "text": [
      "                    标题                                               内容简介  \\\n",
      "0    习近平向2023从都国际论坛致贺信  12月4日，国家主席习近平向“2023从都国际论坛”致贺信。习近平强调，面对前所未有的世界之...   \n",
      "1     金价狂飙 网友：你看我还有机会吗     12月4日，期货黄金和现货黄金早盘同步大幅高开，均续刷历史新高。网友调侃：你看我还有机会吗？   \n",
      "2       五月天经纪公司回应演唱会假唱  12月4日，五月天经纪公司工作人员就此前“假唱风波”作出回应：没有假唱，稍后会在官方公众号上...   \n",
      "3       如何科学应对本轮呼吸道疾病？  冬季后，面对全国范围内的呼吸道疾病大爆发，如何科学应对本轮呼吸道疾病，北京市呼吸疾病研究所所...   \n",
      "4      汪文斌分享迪丽热巴眺新疆舞视频                                               暂无简介   \n",
      "5     家长在班级群发不雅视频被警方带走  12月3日，网传河南信阳一名家长在班级群里发了一条长达1分48秒的不雅视频，后校长回应称情况...   \n",
      "6     徐峰立因侵权张艺兴被强执3.8万                                               暂无简介   \n",
      "7        “富翁之子”解清帅投喂母亲  12月4日，被找回的 “富翁之子”解清帅投喂母亲，妈妈幸福开心满脸宠溺，妈妈想象了二十六年的...   \n",
      "8        广西北海疫情暴发？官方辟谣                                               暂无简介   \n",
      "9     女子自称20天内“老了30多岁”  近日，山东一42岁女子发视频称自己在20天内经历了断崖式的衰老。视频显示，女子的脸部皱纹增多...   \n",
      "10          水亦诗高调宣布再就业  近日，水均益的女儿水亦诗宣布成功再就业，回到北京主持商业活动。此前，她从央视离职，引起了广大...   \n",
      "11      刘纪鹏：A股要搞到4000点  12月2日，中国政法大学资本金融研究院院长刘纪鹏表示，A股要搞到4000点，在3000点转悠...   \n",
      "12     女子发现被舍友删后重加要回礼金  29日，成都一女子发现被舍友删除后重加要回4年前500元礼金。女子表示：想着之后也不会再来往...   \n",
      "13    京东回应承兴系俩萝卜章骗300亿                                               暂无简介   \n",
      "14        天价母婴消费收割廉价爸妈  天价母婴消费收割廉价爸妈：基础款婴儿背带标价三四百，奶瓶清洁机动辄2000块，婴儿推车甚至狂...   \n",
      "15      女子联系不上男友谎称男友嫖娼                                               暂无简介   \n",
      "16      越来越多人选择签“婚前协议”  近日，一项关于中国人婚前协议意愿的调查公布，越来越多人选择签婚前协议，学历、收入越高的人，对...   \n",
      "17   大学生送外卖赚1万多奖励自己游中国  11月28日，浙江莲都的18岁女大学生吴欣玥送外卖，两个月赚了1万多元，奖励自己“环游半个中国”。   \n",
      "18   贵州致3死车祸伤者母亲：女儿在抢救  12月3日，贵州毕节金沙县新化乡发生一起交通事故，一中巴被两货车夹击面目全非。伤者母亲：女儿...   \n",
      "19     解清帅跟妈妈认亲戚收获满把红包                                               暂无简介   \n",
      "20    95%的主播月收入低于5000元  近日，专家张成刚在一档栏目中对网络主播等群体的收入进行了解读。他提供的数据显示，95%的主播...   \n",
      "21   初中教师强奸5名女学生已被执行死刑  12月1日，湖南邵阳中级人民法院发布布告称，利用教师身份长期多次强奸3名幼女、2名未成年少女...   \n",
      "22     140斤女生减肥1年反胖50斤  近日，山东济南一名140斤女子在节食减肥一年后反胖到190斤。医生表示：减肥时身体会降低基础...   \n",
      "23    烟酒店玻璃太干净 顾客接连撞上去         12月2日，福建漳州一烟酒店玻璃门擦的太干净，导致多名顾客没注意到，接二连三撞上去。   \n",
      "24     中国男子在家拍摄乌军作战被判刑  据乌克兰媒体近日报道，中国籍男子王吉贤因在家拍摄乌军设施并在网络进行传播，触犯泄露军事秘密罪...   \n",
      "25         女子全网寻找僵尸车主人  12月2日，河南一女子在全网寻找停在门前4年的“僵尸车”车主，并称：4年来从未见车主来开车，...   \n",
      "26      美国军舰和多艘商船在红海遭袭  当地时间12月3日，美国防部表示，一艘美国军舰和多艘商船在红海遭到袭击。对此，五角大楼表示将...   \n",
      "27      林俊杰回应舞蹈片段被配音恶搞  近日，林俊杰演唱会上的《不死之身》舞蹈被网友加上bgm恶搞。4日，林俊杰发文回应：不好笑，不...   \n",
      "28      博士后当交警15年后突然火了                                               暂无简介   \n",
      "29    女生课堂身亡 母亲称学校见死不救  12月3日，江西萍乡市上栗中学发通报称：我校学生钟某某在上课期间身体出现不适，经抢救无效死亡...   \n",
      "30        杨紫 零下二十度光腿直播                                               暂无简介   \n",
      "31   义乌回应倡议居民保持10天以上存粮                                               暂无简介   \n",
      "32   男子跳河拒救援 上岸后被路人扇巴掌                                               暂无简介   \n",
      "33      古巴领导人时隔22年再访伊朗                                               暂无简介   \n",
      "34      侯友宜批赖清德放纵民进党贪腐                                               暂无简介   \n",
      "35         文物禁止拍照是量子问题                                               暂无简介   \n",
      "36         小马云夹在流量与现实中                                               暂无简介   \n",
      "37     扬州一学院食堂麻酱盆中发现老鼠  近日，有网友报料称，在江苏扬州江海职业技术学院食堂的麻酱盆中发现老鼠。随后，校方回应：属实，...   \n",
      "38      深圳一景区野猪被投喂成网红猪  近日，广东深圳一景区野猪被游客近距离拍摄并投喂，成了“网红猪”，引发热议。对此，工作人员回应...   \n",
      "39   女子丧夫又患癌 苦寻失踪18年独女  12月3日，四川寻子母亲许秀莲求助称，自己女儿于05年失踪，孩子丢失后，丈夫离世自己又患癌，...   \n",
      "40     贵州一中巴被两货车夹击面目全非  12月3日，贵州毕节金沙县新化乡发生一起交通事故，两辆大货车将一辆中巴车前后夹击，中巴车严重...   \n",
      "41  比亚迪打击黑公关：举报最高奖500万                                               暂无简介   \n",
      "42     有人滥用“止咳药”丧失认知送医                                               暂无简介   \n",
      "43          内娱古装美男去哪了？  近日，《宁安如梦》、《一念关山》等多部古装剧播出，剧中男演员造型引发关注。对此，不禁有网友表...   \n",
      "44    前美国大使被捕 涉嫌担任古巴特工  当地时间12月3日，美联社报道称，曾担任美国驻玻利维亚大使的前外交官曼努埃尔·罗查被捕，他被...   \n",
      "45     律师：假唱至少侵犯观众3种权利  近日，五月天被质疑演唱会上假唱引发热议。对此，知名律师周兆成表示假唱行为至少侵犯了观众的知情...   \n",
      "46       龙行龘龘是形容龙腾飞的样子                                               暂无简介   \n",
      "47      乱港分子周庭弃保拒绝返港报到                                               暂无简介   \n",
      "48     女子巴厘岛打卡恶魔的眼泪险丧命                                               暂无简介   \n",
      "49   2614万元拍下手机号买家称拍错了  11月25日，一手机号被买家以2614万元拍下，公告称需在12月3日前交付尾款，而截至最终期...   \n",
      "50     日籍男子澳门蹦极后不适送医死亡                                               暂无简介   \n",
      "\n",
      "                                                   链接     热搜指数  \n",
      "0   https://www.baidu.com/s?wd=%E4%B9%A0%E8%BF%91%...  4995005  \n",
      "1   https://www.baidu.com/s?wd=%E9%87%91%E4%BB%B7%...  4937505  \n",
      "2   https://www.baidu.com/s?wd=%E4%BA%94%E6%9C%88%...  4878598  \n",
      "3   https://www.baidu.com/s?wd=%E5%A6%82%E4%BD%95%...  4738294  \n",
      "4   https://www.baidu.com/s?wd=%E6%B1%AA%E6%96%87%...  4686943  \n",
      "5   https://www.baidu.com/s?wd=%E5%AE%B6%E9%95%BF%...  4557860  \n",
      "6   https://www.baidu.com/s?wd=%E5%BE%90%E5%B3%B0%...  4455390  \n",
      "7   https://www.baidu.com/s?wd=%E2%80%9C%E5%AF%8C%...  4324801  \n",
      "8   https://www.baidu.com/s?wd=%E5%B9%BF%E8%A5%BF%...  4257375  \n",
      "9   https://www.baidu.com/s?wd=%E5%A5%B3%E5%AD%90%...  4192643  \n",
      "10  https://www.baidu.com/s?wd=%E6%B0%B4%E4%BA%A6%...  4075633  \n",
      "11  https://www.baidu.com/s?wd=%E5%88%98%E7%BA%AA%...  3988638  \n",
      "12  https://www.baidu.com/s?wd=%E5%A5%B3%E5%AD%90%...  3878118  \n",
      "13  https://www.baidu.com/s?wd=%E4%BA%AC%E4%B8%9C%...  3720281  \n",
      "14  https://www.baidu.com/s?wd=%E5%A4%A9%E4%BB%B7%...  3610640  \n",
      "15  https://www.baidu.com/s?wd=%E5%A5%B3%E5%AD%90%...  3505821  \n",
      "16  https://www.baidu.com/s?wd=%E8%B6%8A%E6%9D%A5%...  3471024  \n",
      "17  https://www.baidu.com/s?wd=%E5%A4%A7%E5%AD%A6%...  3316191  \n",
      "18  https://www.baidu.com/s?wd=%E8%B4%B5%E5%B7%9E%...  3246363  \n",
      "19  https://www.baidu.com/s?wd=%E8%A7%A3%E6%B8%85%...  3145455  \n",
      "20  https://www.baidu.com/s?wd=95%25%E7%9A%84%E4%B...  3058269  \n",
      "21  https://www.baidu.com/s?wd=%E5%88%9D%E4%B8%AD%...  2919925  \n",
      "22  https://www.baidu.com/s?wd=140%E6%96%A4%E5%A5%...  2837149  \n",
      "23  https://www.baidu.com/s?wd=%E7%83%9F%E9%85%92%...  2727688  \n",
      "24  https://www.baidu.com/s?wd=%E4%B8%AD%E5%9B%BD%...  2622450  \n",
      "25  https://www.baidu.com/s?wd=%E5%A5%B3%E5%AD%90%...  2596326  \n",
      "26  https://www.baidu.com/s?wd=%E7%BE%8E%E5%9B%BD%...  2497141  \n",
      "27  https://www.baidu.com/s?wd=%E6%9E%97%E4%BF%8A%...  2313620  \n",
      "28  https://www.baidu.com/s?wd=%E5%8D%9A%E5%A3%AB%...  2268731  \n",
      "29  https://www.baidu.com/s?wd=%E5%A5%B3%E7%94%9F%...  2193597  \n",
      "30  https://www.baidu.com/s?wd=%E6%9D%A8%E7%B4%AB+...  2052164  \n",
      "31  https://www.baidu.com/s?wd=%E4%B9%89%E4%B9%8C%...  1992136  \n",
      "32  https://www.baidu.com/s?wd=%E7%94%B7%E5%AD%90%...  1863367  \n",
      "33  https://www.baidu.com/s?wd=%E5%8F%A4%E5%B7%B4%...  1792593  \n",
      "34  https://www.baidu.com/s?wd=%E4%BE%AF%E5%8F%8B%...  1601202  \n",
      "35  https://www.baidu.com/s?wd=%E6%96%87%E7%89%A9%...  1523306  \n",
      "36  https://www.baidu.com/s?wd=%E5%B0%8F%E9%A9%AC%...  1448092  \n",
      "37  https://www.baidu.com/s?wd=%E6%89%AC%E5%B7%9E%...  1311189  \n",
      "38  https://www.baidu.com/s?wd=%E6%B7%B1%E5%9C%B3%...  1208384  \n",
      "39  https://www.baidu.com/s?wd=%E5%A5%B3%E5%AD%90%...  1139509  \n",
      "40  https://www.baidu.com/s?wd=%E8%B4%B5%E5%B7%9E%...  1006168  \n",
      "41  https://www.baidu.com/s?wd=%E6%AF%94%E4%BA%9A%...   974349  \n",
      "42  https://www.baidu.com/s?wd=%E6%9C%89%E4%BA%BA%...   857457  \n",
      "43  https://www.baidu.com/s?wd=%E5%86%85%E5%A8%B1%...   753843  \n",
      "44  https://www.baidu.com/s?wd=%E5%89%8D%E7%BE%8E%...   639042  \n",
      "45  https://www.baidu.com/s?wd=%E5%BE%8B%E5%B8%88%...   531907  \n",
      "46  https://www.baidu.com/s?wd=%E9%BE%99%E8%A1%8C%...   493386  \n",
      "47  https://www.baidu.com/s?wd=%E4%B9%B1%E6%B8%AF%...   327199  \n",
      "48  https://www.baidu.com/s?wd=%E5%A5%B3%E5%AD%90%...   239150  \n",
      "49  https://www.baidu.com/s?wd=2614%E4%B8%87%E5%85...   190338  \n",
      "50  https://www.baidu.com/s?wd=%E6%97%A5%E7%B1%8D%...   100000  \n"
     ]
    }
   ],
   "source": [
    "import pandas as pd\n",
    "amap = pd.DataFrame(intro, columns = [\"标题\"])\n",
    "bmap = pd.DataFrame(preview, columns = [\"内容简介\"])\n",
    "cmap = pd.DataFrame(links, columns = [\"链接\"])\n",
    "dmap = pd.DataFrame(hot_index, columns = [\"热搜指数\"])\n",
    "df = pd.concat([amap, bmap, cmap, dmap], axis = 1)\n",
    "df = df.replace(\"\", \"暂无简介\")\n",
    "print(df)"
   ]
  },
  {
   "cell_type": "code",
   "execution_count": 30,
   "id": "6e934fa3-faa5-4bc1-a9ad-afcedee7aa9a",
   "metadata": {},
   "outputs": [],
   "source": [
    "## Write to excel\n",
    "with pd.ExcelWriter(r\"/home/miu/result.xlsx\") as file:\n",
    "    df.to_excel(file, sheet_name = \"bdrs\", index = False)"
   ]
  },
  {
   "cell_type": "code",
   "execution_count": null,
   "id": "2ef4f913-614a-4aca-a158-34c6bf1a9024",
   "metadata": {},
   "outputs": [],
   "source": []
  }
 ],
 "metadata": {
  "kernelspec": {
   "display_name": "Python 3 (ipykernel)",
   "language": "python",
   "name": "python3"
  },
  "language_info": {
   "codemirror_mode": {
    "name": "ipython",
    "version": 3
   },
   "file_extension": ".py",
   "mimetype": "text/x-python",
   "name": "python",
   "nbconvert_exporter": "python",
   "pygments_lexer": "ipython3",
   "version": "3.11.5"
  }
 },
 "nbformat": 4,
 "nbformat_minor": 5
}
