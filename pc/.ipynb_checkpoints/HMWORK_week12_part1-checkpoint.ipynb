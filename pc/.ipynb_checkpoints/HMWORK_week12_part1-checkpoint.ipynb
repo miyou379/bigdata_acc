{
 "cells": [
  {
   "cell_type": "code",
   "execution_count": 1,
   "id": "f8fe702c-b545-4643-b22e-b3c8019cf7d7",
   "metadata": {
    "scrolled": true
   },
   "outputs": [
    {
     "name": "stdout",
     "output_type": "stream",
     "text": [
      "<class 'bs4.BeautifulSoup'>\n",
      "\n",
      "<!DOCTYPE html>\n",
      "\n",
      "<html>\n",
      "<head>\n",
      "<meta content=\"text/html;charset=utf-8\" http-equiv=\"Content-Type\"/>\n",
      "<meta content=\"IE=edge,chrome=1\" http-equiv=\"X-UA-Compatible\"/>\n",
      "<meta content=\"always\" name=\"referrer\"/>\n",
      "<meta content=\"#2932e1\" name=\"theme-color\"/>\n",
      "<link href=\"//www.baidu.com/favicon.ico\" rel=\"shortcut icon\" type=\"image/x-icon\"/>\n",
      "<link href=\"//www.baidu.com/img/baidu_85beaf5496f291521eb75ba38eacbd87.svg\" mask=\"\" rel=\"icon\" sizes=\"any\"/>\n",
      "<link href=\"//fyb-pc-static.cdn.bcebos.com\" rel=\"dns-prefe\n"
     ]
    }
   ],
   "source": [
    "from bs4 import BeautifulSoup as bs\n",
    "import urllib.request as urlreq\n",
    "import re\n",
    "req = urlreq.Request(url = \"https://top.baidu.com/board?tab=realtime\", headers = { \"User-Agent\":\n",
    "\"Mozilla/5.0 (X11; Linux x86_64) AppleWebKit/537.36 (KHTML, like Gecko) Chrome/119.0.0.0 Safari/537.36\" })\n",
    "got = urlreq.urlopen(req).read() ## http get \n",
    "obj = bs(got, 'html.parser') ## parse to bs4 object\n",
    "print(type(obj))\n",
    "print(obj.decode()[:500])"
   ]
  },
  {
   "cell_type": "code",
   "execution_count": 2,
   "id": "a1e3d7d8-25e3-4830-a05e-617cb94b2a25",
   "metadata": {
    "scrolled": true
   },
   "outputs": [
    {
     "name": "stdout",
     "output_type": "stream",
     "text": [
      "51\n",
      "<class 'list'>\n",
      "['中南海2023年刊·民生篇', '南方小土豆回家后一开口东北话十级', '孙燕姿妹妹宣布与孙燕姿断绝关系', '中国经济发展以进促稳、笃定前行', '在美国街头流浪的复旦博士：想回国', '富豪悬赏千万寻子电话被打爆', '老师将班级电脑壁纸设成自己照片', '景区月薪6千招人扮孙悟空吃东西', '广西北海地震有数人受伤？', '2租客发现11万现金 房东免租1年', '50多岁昆明市长全马破4', '班主任侵犯学生家长 警方：构成猥亵', '日本震后如厕难 民众称到忍耐极限', '官方：7旬老人得子属实 母亲非拐卖', '库里致命失误', '流浪16年留美博士曾发表32篇SCI', '谈崩了，百事被家乐福封杀！', '小杨哥徒弟复播销售额近千万', '距今2300多年的赵长城被拦腰截断', '“武校投毒致7死”案将宣判', '双胞胎兄弟一个守国一个守家', '女子乘车途中突然开门跳车 司机吓懵', '哈尔滨把鄂伦春族请下山营业？', '反诈志愿者接诈骗电话装上当', '陈戌源昔日语录：我叫李铁放心笑', '央广网评哈尔滨火了', '哈尔滨为什么叫尔滨', '女生和虎宝宝玩雪 老虎无还手之力', '国产电动飞机AG60E成功首飞', '游客吐槽哈尔滨凌晨清雪声大', '90后夫妻用公交车当婚车：更热闹', '李铁对着镜头说非常后悔', '小砂糖橘被警察蜀黍疯狂宠爱', '侵华日军七三一部队遗址前排起长队', '朝军发射200多枚炮弹 韩国发布避难令', '尔滨上线“冰马俑”', '杜兆才首谈受贿', '留美博士生突遭遣返', '哈尔滨冻梨不光摆盘还雕出来了', '贵阳一马路上夜间有多人爬行', '日本记者吐槽民众给灾区寄千纸鹤', '范志毅谈出演繁花：太太劝我去的', '16888元繁花套房抢不着', '矿区凌晨惊现东北虎 还咬死一只狗', '南阳回应公务员兼职日薪三千', '火锅店涮羊肉致1家14口中毒', '地球进入震动模式了吗', '王晶：我蛮羡慕王家卫', '女子称建行13年前存折无法取钱', '贵州萌娃游哈尔滨被送外号小茅台', '哈尔滨景区回应请白狐迎客：不咬人']\n"
     ]
    }
   ],
   "source": [
    "## Title\n",
    "intro = obj.find_all(\"div\", attrs = {\"class\": \"c-single-text-ellipsis\"})\n",
    "intro = [i.text.strip() for i in intro]\n",
    "print(len(intro))\n",
    "print(type(intro))\n",
    "print(intro)"
   ]
  },
  {
   "cell_type": "code",
   "execution_count": 3,
   "id": "eb5ec471-b15b-411c-b1b5-ca31c712f844",
   "metadata": {
    "scrolled": true
   },
   "outputs": [
    {
     "name": "stdout",
     "output_type": "stream",
     "text": [
      "<class 'bs4.element.ResultSet'>\n",
      "51\n",
      "<class 'list'>\n",
      "['回首2023年，习近平总书记多次走到人民群众中间，摸清千家万户柴米油盐的小日子，让现代化建设成果更多更公平惠及全体人民。', '日前，江苏南京一网友上传了自家宝宝说东北话的视频。小朋友在视频中表示，自己的东北话是在哈尔滨跟喇叭学的。', '1月5日，孙燕姿妹妹孙燕美发微博宣布和姐姐断绝关系引发热议。', '回顾2023年，中国外贸克服了外需疲弱、价格下行等多重挑战。新的一年，中国将与世界共享中国式现代化带来的新机遇，继续成为拉动世界经济增长的重要引擎。', '近日，纽约街头一流浪16年的男子自称是复旦校友引发关注。该男子希望回到祖国，目前校方已经就此事组织了救援团。', '', '近日，河南信阳一中学老师将自己的照片设为班级电脑的动态屏保。老师表示此举是在网上学的，目的在于自习课监督，效果很好。', '近日，河北邯郸一景区6000元月薪招人扮演孙悟空，工作内容是趴在洞里“吃东西”，引发网友热议。', '近日，网上流传“广西北海市银海区海域发生6.8级地震，目前已有数人受伤”的信息。对此，官方回应：目前无人员伤亡。', '近日，江西2名租客打扫房屋时，发现11万现金上交到派出所。为感谢两人拾金不昧，房东承诺为她们减免一年房租。', '近日，云南昆明马拉松赛事鸣枪开跑。50多岁的昆明市长刘佳晨参加了全长42.195公里的全马，并且破四引发关注。', '近日，山东潍坊一家长反映，妻子去年底被孩子所就读的临朐实验中学的班主任侵犯。当地警方认定班主任构成猥亵，对其行拘7日。', '据日本媒体报道，自1月1日能登半岛地震以来，灾区断水导致水资源不足，灾区厕所卫生环境持续恶化，灾民称“已经到了忍耐极限”。', '近日，贵州一女子称七旬爷爷得子，而奶奶是位38岁的盲人则引发网友质疑。当地政府回应称，老人得子属实，孩子母亲非拐卖。', '', '近日，纽约街头一流浪16年的男子自称是复旦校友一事引发关注。复旦校友已确认其身份，并发现他在美深造期间曾发表32篇SCI。', '', '', '近日，位于河南卫辉市辖区内的赵长城遗址唐庄2段，由于采矿企业挖矿采砂，这段古赵长城已经被“拦腰截断”。', '5日，记者从“武校投毒致7死”案遇害者家属处获悉，案件将于1月8日公开宣判。', '贵州一对双胞胎兄弟走出大山共赴军营。哥哥文孝守家，退役后照顾奶奶；弟弟文敬守国，荣立个人三等功，带着二人的力量继续前行。', '3日，网爆一女子乘出租车途中突然打开车门跳车，把司机吓懵。出租车司机周师傅表示：未与女子发生冲突，她跳车后又扑向后方车辆。', '近日，很少出现在大众视野的鄂伦春族现身哈尔滨各大景区，引发热议。网友猜测是哈尔滨将其请下山营业。鄂伦春族老铁：早就下山了。', '近日，一反诈志愿者接到诈骗电话后将计就计装上当，与骗子约定地点后带警察抓人。目前犯罪嫌疑人已被依法刑事拘留。', '', '', '', '近日，山西临汾一女生和虎宝宝玩雪时占尽上风，小老虎毫无还手之力。', '', '近日，有游客吐槽哈尔滨凌晨清雪声大引发关注。对此，政府工作人员回应称，会记录下来并反馈给相关部门处理。', '近期，河南一对“90后”新人用公交车接亲引发关注。夫妻两人认为传统的迎亲车队千篇一律，决定用公交车接亲，认为更加热闹有趣。', '年度反腐大片《持续发力纵深推进》选取了纪检监察机关查处的12个典型案例，其中国足原主教练李铁在镜头前忏悔说非常后悔。', '', '近日，哈尔滨旅游爆火，除了冰雪大世界、中央大街等热门景点外，在侵华日军七三一部队遗址前，同样有大批游客在寒风中排起长队。', '5日，韩国西部延坪岛一带根据军方要求发布居民紧急避难令。韩联社称，朝军在半岛西部海域发射200多枚炮弹。', '', '', '', '1月4日，继哈尔滨冻梨被摆盘后，大雪雕冻梨开始上线。对此，有网友表示：不光摆盘还雕出来，这是掏心掏肺的待遇了。', '3日，有网友发视频称晚间马路上有多人爬行前进，疑似公司对员工的惩罚。对此，当地派出所回应：公司团建的游戏惩罚，不存在胁迫。', '', '', '', '4日，吉林珲春一矿区附近，一只东北虎走在马路中间，其前爪还带有血迹。5日，矿区生活区居民告诉记者，矿区附近已多次出现老虎。', '近日，南阳市一公职人员在外兼职日薪三千，引发热议。经核实，该公职人员曾在停薪留职期间在一互联网公司兼职，不存在利益输送。', '', '近日，中国地震台网发布统计显示，2023年全球共发生6级以上地震129次。地球进入“震动模式”了吗？专家：不必过分恐慌。', '', '', '日前，哈尔滨旅游爆火。除了来自广西的“小砂糖橘”之外，贵州也有小朋友组团前往，有网友表示这些小朋友应该叫“小茅台”。', '近日，有网友发视频称，哈尔滨为招待游客推出“白狐合影”项目。景区负责人回应：白狐都是驯化过的不咬人，经常洗护保持干净清新。']\n"
     ]
    }
   ],
   "source": [
    "## Digest\n",
    "digest = obj.find_all(\"div\", attrs = {\"class\": \"hot-desc_1m_jR large_nSuFU\"})\n",
    "print(type(digest))\n",
    "preview = [i.text[:-6].strip() for i in digest]\n",
    "print(len(preview))\n",
    "print(type(preview))\n",
    "print(preview)"
   ]
  },
  {
   "cell_type": "code",
   "execution_count": 4,
   "id": "3d3036f4-8f22-4814-a68b-740dca82cc45",
   "metadata": {
    "scrolled": true
   },
   "outputs": [
    {
     "name": "stdout",
     "output_type": "stream",
     "text": [
      "51 <class 'list'> ['https://www.baidu.com/s?wd=%E4%B8%AD%E5%8D%97%E6%B5%B72023%E5%B9%B4%E5%88%8A%C2%B7%E6%B0%91%E7%94%9F%E7%AF%87&sa=fyb_news&rsv_dl=fyb_news', 'https://www.baidu.com/s?wd=%E5%8D%97%E6%96%B9%E5%B0%8F%E5%9C%9F%E8%B1%86%E5%9B%9E%E5%AE%B6%E5%90%8E%E4%B8%80%E5%BC%80%E5%8F%A3%E4%B8%9C%E5%8C%97%E8%AF%9D%E5%8D%81%E7%BA%A7&sa=fyb_news&rsv_dl=fyb_news', 'https://www.baidu.com/s?wd=%E5%AD%99%E7%87%95%E5%A7%BF%E5%A6%B9%E5%A6%B9%E5%AE%A3%E5%B8%83%E4%B8%8E%E5%AD%99%E7%87%95%E5%A7%BF%E6%96%AD%E7%BB%9D%E5%85%B3%E7%B3%BB&sa=fyb_news&rsv_dl=fyb_news', 'https://www.baidu.com/s?wd=%E4%B8%AD%E5%9B%BD%E7%BB%8F%E6%B5%8E%E5%8F%91%E5%B1%95%E4%BB%A5%E8%BF%9B%E4%BF%83%E7%A8%B3%E3%80%81%E7%AC%83%E5%AE%9A%E5%89%8D%E8%A1%8C&sa=fyb_news&rsv_dl=fyb_news', 'https://www.baidu.com/s?wd=%E5%9C%A8%E7%BE%8E%E5%9B%BD%E8%A1%97%E5%A4%B4%E6%B5%81%E6%B5%AA%E7%9A%84%E5%A4%8D%E6%97%A6%E5%8D%9A%E5%A3%AB%EF%BC%9A%E6%83%B3%E5%9B%9E%E5%9B%BD&sa=fyb_news&rsv_dl=fyb_news', 'https://www.baidu.com/s?wd=%E5%AF%8C%E8%B1%AA%E6%82%AC%E8%B5%8F%E5%8D%83%E4%B8%87%E5%AF%BB%E5%AD%90%E7%94%B5%E8%AF%9D%E8%A2%AB%E6%89%93%E7%88%86&sa=fyb_news&rsv_dl=fyb_news', 'https://www.baidu.com/s?wd=%E8%80%81%E5%B8%88%E5%B0%86%E7%8F%AD%E7%BA%A7%E7%94%B5%E8%84%91%E5%A3%81%E7%BA%B8%E8%AE%BE%E6%88%90%E8%87%AA%E5%B7%B1%E7%85%A7%E7%89%87&sa=fyb_news&rsv_dl=fyb_news', 'https://www.baidu.com/s?wd=%E6%99%AF%E5%8C%BA%E6%9C%88%E8%96%AA6%E5%8D%83%E6%8B%9B%E4%BA%BA%E6%89%AE%E5%AD%99%E6%82%9F%E7%A9%BA%E5%90%83%E4%B8%9C%E8%A5%BF&sa=fyb_news&rsv_dl=fyb_news', 'https://www.baidu.com/s?wd=%E5%B9%BF%E8%A5%BF%E5%8C%97%E6%B5%B7%E5%9C%B0%E9%9C%87%E6%9C%89%E6%95%B0%E4%BA%BA%E5%8F%97%E4%BC%A4%EF%BC%9F&sa=fyb_news&rsv_dl=fyb_news', 'https://www.baidu.com/s?wd=2%E7%A7%9F%E5%AE%A2%E5%8F%91%E7%8E%B011%E4%B8%87%E7%8E%B0%E9%87%91+%E6%88%BF%E4%B8%9C%E5%85%8D%E7%A7%9F1%E5%B9%B4&sa=fyb_news&rsv_dl=fyb_news', 'https://www.baidu.com/s?wd=50%E5%A4%9A%E5%B2%81%E6%98%86%E6%98%8E%E5%B8%82%E9%95%BF%E5%85%A8%E9%A9%AC%E7%A0%B44&sa=fyb_news&rsv_dl=fyb_news', 'https://www.baidu.com/s?wd=%E7%8F%AD%E4%B8%BB%E4%BB%BB%E4%BE%B5%E7%8A%AF%E5%AD%A6%E7%94%9F%E5%AE%B6%E9%95%BF+%E8%AD%A6%E6%96%B9%EF%BC%9A%E6%9E%84%E6%88%90%E7%8C%A5%E4%BA%B5&sa=fyb_news&rsv_dl=fyb_news', 'https://www.baidu.com/s?wd=%E6%97%A5%E6%9C%AC%E9%9C%87%E5%90%8E%E5%A6%82%E5%8E%95%E9%9A%BE+%E6%B0%91%E4%BC%97%E7%A7%B0%E5%88%B0%E5%BF%8D%E8%80%90%E6%9E%81%E9%99%90&sa=fyb_news&rsv_dl=fyb_news', 'https://www.baidu.com/s?wd=%E5%AE%98%E6%96%B9%EF%BC%9A7%E6%97%AC%E8%80%81%E4%BA%BA%E5%BE%97%E5%AD%90%E5%B1%9E%E5%AE%9E+%E6%AF%8D%E4%BA%B2%E9%9D%9E%E6%8B%90%E5%8D%96&sa=fyb_news&rsv_dl=fyb_news', 'https://www.baidu.com/s?wd=%E5%BA%93%E9%87%8C%E8%87%B4%E5%91%BD%E5%A4%B1%E8%AF%AF&sa=fyb_news&rsv_dl=fyb_news', 'https://www.baidu.com/s?wd=%E6%B5%81%E6%B5%AA16%E5%B9%B4%E7%95%99%E7%BE%8E%E5%8D%9A%E5%A3%AB%E6%9B%BE%E5%8F%91%E8%A1%A832%E7%AF%87SCI&sa=fyb_news&rsv_dl=fyb_news', 'https://www.baidu.com/s?wd=%E8%B0%88%E5%B4%A9%E4%BA%86%EF%BC%8C%E7%99%BE%E4%BA%8B%E8%A2%AB%E5%AE%B6%E4%B9%90%E7%A6%8F%E5%B0%81%E6%9D%80%EF%BC%81&sa=fyb_news&rsv_dl=fyb_news', 'https://www.baidu.com/s?wd=%E5%B0%8F%E6%9D%A8%E5%93%A5%E5%BE%92%E5%BC%9F%E5%A4%8D%E6%92%AD%E9%94%80%E5%94%AE%E9%A2%9D%E8%BF%91%E5%8D%83%E4%B8%87&sa=fyb_news&rsv_dl=fyb_news', 'https://www.baidu.com/s?wd=%E8%B7%9D%E4%BB%8A2300%E5%A4%9A%E5%B9%B4%E7%9A%84%E8%B5%B5%E9%95%BF%E5%9F%8E%E8%A2%AB%E6%8B%A6%E8%85%B0%E6%88%AA%E6%96%AD&sa=fyb_news&rsv_dl=fyb_news', 'https://www.baidu.com/s?wd=%E2%80%9C%E6%AD%A6%E6%A0%A1%E6%8A%95%E6%AF%92%E8%87%B47%E6%AD%BB%E2%80%9D%E6%A1%88%E5%B0%86%E5%AE%A3%E5%88%A4&sa=fyb_news&rsv_dl=fyb_news', 'https://www.baidu.com/s?wd=%E5%8F%8C%E8%83%9E%E8%83%8E%E5%85%84%E5%BC%9F%E4%B8%80%E4%B8%AA%E5%AE%88%E5%9B%BD%E4%B8%80%E4%B8%AA%E5%AE%88%E5%AE%B6&sa=fyb_news&rsv_dl=fyb_news', 'https://www.baidu.com/s?wd=%E5%A5%B3%E5%AD%90%E4%B9%98%E8%BD%A6%E9%80%94%E4%B8%AD%E7%AA%81%E7%84%B6%E5%BC%80%E9%97%A8%E8%B7%B3%E8%BD%A6+%E5%8F%B8%E6%9C%BA%E5%90%93%E6%87%B5&sa=fyb_news&rsv_dl=fyb_news', 'https://www.baidu.com/s?wd=%E5%93%88%E5%B0%94%E6%BB%A8%E6%8A%8A%E9%84%82%E4%BC%A6%E6%98%A5%E6%97%8F%E8%AF%B7%E4%B8%8B%E5%B1%B1%E8%90%A5%E4%B8%9A%EF%BC%9F&sa=fyb_news&rsv_dl=fyb_news', 'https://www.baidu.com/s?wd=%E5%8F%8D%E8%AF%88%E5%BF%97%E6%84%BF%E8%80%85%E6%8E%A5%E8%AF%88%E9%AA%97%E7%94%B5%E8%AF%9D%E8%A3%85%E4%B8%8A%E5%BD%93&sa=fyb_news&rsv_dl=fyb_news', 'https://www.baidu.com/s?wd=%E9%99%88%E6%88%8C%E6%BA%90%E6%98%94%E6%97%A5%E8%AF%AD%E5%BD%95%EF%BC%9A%E6%88%91%E5%8F%AB%E6%9D%8E%E9%93%81%E6%94%BE%E5%BF%83%E7%AC%91&sa=fyb_news&rsv_dl=fyb_news', 'https://www.baidu.com/s?wd=%E5%A4%AE%E5%B9%BF%E7%BD%91%E8%AF%84%E5%93%88%E5%B0%94%E6%BB%A8%E7%81%AB%E4%BA%86&sa=fyb_news&rsv_dl=fyb_news', 'https://www.baidu.com/s?wd=%E5%93%88%E5%B0%94%E6%BB%A8%E4%B8%BA%E4%BB%80%E4%B9%88%E5%8F%AB%E5%B0%94%E6%BB%A8&sa=fyb_news&rsv_dl=fyb_news', 'https://www.baidu.com/s?wd=%E5%A5%B3%E7%94%9F%E5%92%8C%E8%99%8E%E5%AE%9D%E5%AE%9D%E7%8E%A9%E9%9B%AA+%E8%80%81%E8%99%8E%E6%97%A0%E8%BF%98%E6%89%8B%E4%B9%8B%E5%8A%9B&sa=fyb_news&rsv_dl=fyb_news', 'https://www.baidu.com/s?wd=%E5%9B%BD%E4%BA%A7%E7%94%B5%E5%8A%A8%E9%A3%9E%E6%9C%BAAG60E%E6%88%90%E5%8A%9F%E9%A6%96%E9%A3%9E&sa=fyb_news&rsv_dl=fyb_news', 'https://www.baidu.com/s?wd=%E6%B8%B8%E5%AE%A2%E5%90%90%E6%A7%BD%E5%93%88%E5%B0%94%E6%BB%A8%E5%87%8C%E6%99%A8%E6%B8%85%E9%9B%AA%E5%A3%B0%E5%A4%A7&sa=fyb_news&rsv_dl=fyb_news', 'https://www.baidu.com/s?wd=90%E5%90%8E%E5%A4%AB%E5%A6%BB%E7%94%A8%E5%85%AC%E4%BA%A4%E8%BD%A6%E5%BD%93%E5%A9%9A%E8%BD%A6%EF%BC%9A%E6%9B%B4%E7%83%AD%E9%97%B9&sa=fyb_news&rsv_dl=fyb_news', 'https://www.baidu.com/s?wd=%E6%9D%8E%E9%93%81%E5%AF%B9%E7%9D%80%E9%95%9C%E5%A4%B4%E8%AF%B4%E9%9D%9E%E5%B8%B8%E5%90%8E%E6%82%94&sa=fyb_news&rsv_dl=fyb_news', 'https://www.baidu.com/s?wd=%E5%B0%8F%E7%A0%82%E7%B3%96%E6%A9%98%E8%A2%AB%E8%AD%A6%E5%AF%9F%E8%9C%80%E9%BB%8D%E7%96%AF%E7%8B%82%E5%AE%A0%E7%88%B1&sa=fyb_news&rsv_dl=fyb_news', 'https://www.baidu.com/s?wd=%E4%BE%B5%E5%8D%8E%E6%97%A5%E5%86%9B%E4%B8%83%E4%B8%89%E4%B8%80%E9%83%A8%E9%98%9F%E9%81%97%E5%9D%80%E5%89%8D%E6%8E%92%E8%B5%B7%E9%95%BF%E9%98%9F&sa=fyb_news&rsv_dl=fyb_news', 'https://www.baidu.com/s?wd=%E6%9C%9D%E5%86%9B%E5%8F%91%E5%B0%84200%E5%A4%9A%E6%9E%9A%E7%82%AE%E5%BC%B9+%E9%9F%A9%E5%9B%BD%E5%8F%91%E5%B8%83%E9%81%BF%E9%9A%BE%E4%BB%A4&sa=fyb_news&rsv_dl=fyb_news', 'https://www.baidu.com/s?wd=%E5%B0%94%E6%BB%A8%E4%B8%8A%E7%BA%BF%E2%80%9C%E5%86%B0%E9%A9%AC%E4%BF%91%E2%80%9D&sa=fyb_news&rsv_dl=fyb_news', 'https://www.baidu.com/s?wd=%E6%9D%9C%E5%85%86%E6%89%8D%E9%A6%96%E8%B0%88%E5%8F%97%E8%B4%BF&sa=fyb_news&rsv_dl=fyb_news', 'https://www.baidu.com/s?wd=%E7%95%99%E7%BE%8E%E5%8D%9A%E5%A3%AB%E7%94%9F%E7%AA%81%E9%81%AD%E9%81%A3%E8%BF%94&sa=fyb_news&rsv_dl=fyb_news', 'https://www.baidu.com/s?wd=%E5%93%88%E5%B0%94%E6%BB%A8%E5%86%BB%E6%A2%A8%E4%B8%8D%E5%85%89%E6%91%86%E7%9B%98%E8%BF%98%E9%9B%95%E5%87%BA%E6%9D%A5%E4%BA%86&sa=fyb_news&rsv_dl=fyb_news', 'https://www.baidu.com/s?wd=%E8%B4%B5%E9%98%B3%E4%B8%80%E9%A9%AC%E8%B7%AF%E4%B8%8A%E5%A4%9C%E9%97%B4%E6%9C%89%E5%A4%9A%E4%BA%BA%E7%88%AC%E8%A1%8C&sa=fyb_news&rsv_dl=fyb_news', 'https://www.baidu.com/s?wd=%E6%97%A5%E6%9C%AC%E8%AE%B0%E8%80%85%E5%90%90%E6%A7%BD%E6%B0%91%E4%BC%97%E7%BB%99%E7%81%BE%E5%8C%BA%E5%AF%84%E5%8D%83%E7%BA%B8%E9%B9%A4&sa=fyb_news&rsv_dl=fyb_news', 'https://www.baidu.com/s?wd=%E8%8C%83%E5%BF%97%E6%AF%85%E8%B0%88%E5%87%BA%E6%BC%94%E7%B9%81%E8%8A%B1%EF%BC%9A%E5%A4%AA%E5%A4%AA%E5%8A%9D%E6%88%91%E5%8E%BB%E7%9A%84&sa=fyb_news&rsv_dl=fyb_news', 'https://www.baidu.com/s?wd=16888%E5%85%83%E7%B9%81%E8%8A%B1%E5%A5%97%E6%88%BF%E6%8A%A2%E4%B8%8D%E7%9D%80&sa=fyb_news&rsv_dl=fyb_news', 'https://www.baidu.com/s?wd=%E7%9F%BF%E5%8C%BA%E5%87%8C%E6%99%A8%E6%83%8A%E7%8E%B0%E4%B8%9C%E5%8C%97%E8%99%8E+%E8%BF%98%E5%92%AC%E6%AD%BB%E4%B8%80%E5%8F%AA%E7%8B%97&sa=fyb_news&rsv_dl=fyb_news', 'https://www.baidu.com/s?wd=%E5%8D%97%E9%98%B3%E5%9B%9E%E5%BA%94%E5%85%AC%E5%8A%A1%E5%91%98%E5%85%BC%E8%81%8C%E6%97%A5%E8%96%AA%E4%B8%89%E5%8D%83&sa=fyb_news&rsv_dl=fyb_news', 'https://www.baidu.com/s?wd=%E7%81%AB%E9%94%85%E5%BA%97%E6%B6%AE%E7%BE%8A%E8%82%89%E8%87%B41%E5%AE%B614%E5%8F%A3%E4%B8%AD%E6%AF%92&sa=fyb_news&rsv_dl=fyb_news', 'https://www.baidu.com/s?wd=%E5%9C%B0%E7%90%83%E8%BF%9B%E5%85%A5%E9%9C%87%E5%8A%A8%E6%A8%A1%E5%BC%8F%E4%BA%86%E5%90%97&sa=fyb_news&rsv_dl=fyb_news', 'https://www.baidu.com/s?wd=%E7%8E%8B%E6%99%B6%EF%BC%9A%E6%88%91%E8%9B%AE%E7%BE%A1%E6%85%95%E7%8E%8B%E5%AE%B6%E5%8D%AB&sa=fyb_news&rsv_dl=fyb_news', 'https://www.baidu.com/s?wd=%E5%A5%B3%E5%AD%90%E7%A7%B0%E5%BB%BA%E8%A1%8C13%E5%B9%B4%E5%89%8D%E5%AD%98%E6%8A%98%E6%97%A0%E6%B3%95%E5%8F%96%E9%92%B1&sa=fyb_news&rsv_dl=fyb_news', 'https://www.baidu.com/s?wd=%E8%B4%B5%E5%B7%9E%E8%90%8C%E5%A8%83%E6%B8%B8%E5%93%88%E5%B0%94%E6%BB%A8%E8%A2%AB%E9%80%81%E5%A4%96%E5%8F%B7%E5%B0%8F%E8%8C%85%E5%8F%B0&sa=fyb_news&rsv_dl=fyb_news', 'https://www.baidu.com/s?wd=%E5%93%88%E5%B0%94%E6%BB%A8%E6%99%AF%E5%8C%BA%E5%9B%9E%E5%BA%94%E8%AF%B7%E7%99%BD%E7%8B%90%E8%BF%8E%E5%AE%A2%EF%BC%9A%E4%B8%8D%E5%92%AC%E4%BA%BA&sa=fyb_news&rsv_dl=fyb_news']\n"
     ]
    }
   ],
   "source": [
    "## Link\n",
    "links = [i.a for i in digest]\n",
    "# print(type(links))\n",
    "links = [i.get(\"href\") for i in links]\n",
    "print(len(links), type(links), links)"
   ]
  },
  {
   "cell_type": "code",
   "execution_count": 5,
   "id": "3a6358eb-f9b6-4e23-995e-d21d65a42e20",
   "metadata": {
    "scrolled": true
   },
   "outputs": [
    {
     "name": "stdout",
     "output_type": "stream",
     "text": [
      "51 <class 'list'>\n",
      "['https://www.baidu.com/s?wd=%E4%B8%AD%E5%8D%97%E6%B5%B72023%E5%B9%B4%E5%88%8A%C2%B7%E6%B0%91%E7%94%9F%E7%AF%87&sa=fyb_news&rsv_dl=fyb_news', 'https://www.baidu.com/s?wd=%E5%8D%97%E6%96%B9%E5%B0%8F%E5%9C%9F%E8%B1%86%E5%9B%9E%E5%AE%B6%E5%90%8E%E4%B8%80%E5%BC%80%E5%8F%A3%E4%B8%9C%E5%8C%97%E8%AF%9D%E5%8D%81%E7%BA%A7&sa=fyb_news&rsv_dl=fyb_news', 'https://www.baidu.com/s?wd=%E5%AD%99%E7%87%95%E5%A7%BF%E5%A6%B9%E5%A6%B9%E5%AE%A3%E5%B8%83%E4%B8%8E%E5%AD%99%E7%87%95%E5%A7%BF%E6%96%AD%E7%BB%9D%E5%85%B3%E7%B3%BB&sa=fyb_news&rsv_dl=fyb_news', 'https://www.baidu.com/s?wd=%E4%B8%AD%E5%9B%BD%E7%BB%8F%E6%B5%8E%E5%8F%91%E5%B1%95%E4%BB%A5%E8%BF%9B%E4%BF%83%E7%A8%B3%E3%80%81%E7%AC%83%E5%AE%9A%E5%89%8D%E8%A1%8C&sa=fyb_news&rsv_dl=fyb_news', 'https://www.baidu.com/s?wd=%E5%9C%A8%E7%BE%8E%E5%9B%BD%E8%A1%97%E5%A4%B4%E6%B5%81%E6%B5%AA%E7%9A%84%E5%A4%8D%E6%97%A6%E5%8D%9A%E5%A3%AB%EF%BC%9A%E6%83%B3%E5%9B%9E%E5%9B%BD&sa=fyb_news&rsv_dl=fyb_news', 'https://www.baidu.com/s?wd=%E5%AF%8C%E8%B1%AA%E6%82%AC%E8%B5%8F%E5%8D%83%E4%B8%87%E5%AF%BB%E5%AD%90%E7%94%B5%E8%AF%9D%E8%A2%AB%E6%89%93%E7%88%86&sa=fyb_news&rsv_dl=fyb_news', 'https://www.baidu.com/s?wd=%E8%80%81%E5%B8%88%E5%B0%86%E7%8F%AD%E7%BA%A7%E7%94%B5%E8%84%91%E5%A3%81%E7%BA%B8%E8%AE%BE%E6%88%90%E8%87%AA%E5%B7%B1%E7%85%A7%E7%89%87&sa=fyb_news&rsv_dl=fyb_news', 'https://www.baidu.com/s?wd=%E6%99%AF%E5%8C%BA%E6%9C%88%E8%96%AA6%E5%8D%83%E6%8B%9B%E4%BA%BA%E6%89%AE%E5%AD%99%E6%82%9F%E7%A9%BA%E5%90%83%E4%B8%9C%E8%A5%BF&sa=fyb_news&rsv_dl=fyb_news', 'https://www.baidu.com/s?wd=%E5%B9%BF%E8%A5%BF%E5%8C%97%E6%B5%B7%E5%9C%B0%E9%9C%87%E6%9C%89%E6%95%B0%E4%BA%BA%E5%8F%97%E4%BC%A4%EF%BC%9F&sa=fyb_news&rsv_dl=fyb_news', 'https://www.baidu.com/s?wd=2%E7%A7%9F%E5%AE%A2%E5%8F%91%E7%8E%B011%E4%B8%87%E7%8E%B0%E9%87%91+%E6%88%BF%E4%B8%9C%E5%85%8D%E7%A7%9F1%E5%B9%B4&sa=fyb_news&rsv_dl=fyb_news', 'https://www.baidu.com/s?wd=50%E5%A4%9A%E5%B2%81%E6%98%86%E6%98%8E%E5%B8%82%E9%95%BF%E5%85%A8%E9%A9%AC%E7%A0%B44&sa=fyb_news&rsv_dl=fyb_news', 'https://www.baidu.com/s?wd=%E7%8F%AD%E4%B8%BB%E4%BB%BB%E4%BE%B5%E7%8A%AF%E5%AD%A6%E7%94%9F%E5%AE%B6%E9%95%BF+%E8%AD%A6%E6%96%B9%EF%BC%9A%E6%9E%84%E6%88%90%E7%8C%A5%E4%BA%B5&sa=fyb_news&rsv_dl=fyb_news', 'https://www.baidu.com/s?wd=%E6%97%A5%E6%9C%AC%E9%9C%87%E5%90%8E%E5%A6%82%E5%8E%95%E9%9A%BE+%E6%B0%91%E4%BC%97%E7%A7%B0%E5%88%B0%E5%BF%8D%E8%80%90%E6%9E%81%E9%99%90&sa=fyb_news&rsv_dl=fyb_news', 'https://www.baidu.com/s?wd=%E5%AE%98%E6%96%B9%EF%BC%9A7%E6%97%AC%E8%80%81%E4%BA%BA%E5%BE%97%E5%AD%90%E5%B1%9E%E5%AE%9E+%E6%AF%8D%E4%BA%B2%E9%9D%9E%E6%8B%90%E5%8D%96&sa=fyb_news&rsv_dl=fyb_news', 'https://www.baidu.com/s?wd=%E5%BA%93%E9%87%8C%E8%87%B4%E5%91%BD%E5%A4%B1%E8%AF%AF&sa=fyb_news&rsv_dl=fyb_news', 'https://www.baidu.com/s?wd=%E6%B5%81%E6%B5%AA16%E5%B9%B4%E7%95%99%E7%BE%8E%E5%8D%9A%E5%A3%AB%E6%9B%BE%E5%8F%91%E8%A1%A832%E7%AF%87SCI&sa=fyb_news&rsv_dl=fyb_news', 'https://www.baidu.com/s?wd=%E8%B0%88%E5%B4%A9%E4%BA%86%EF%BC%8C%E7%99%BE%E4%BA%8B%E8%A2%AB%E5%AE%B6%E4%B9%90%E7%A6%8F%E5%B0%81%E6%9D%80%EF%BC%81&sa=fyb_news&rsv_dl=fyb_news', 'https://www.baidu.com/s?wd=%E5%B0%8F%E6%9D%A8%E5%93%A5%E5%BE%92%E5%BC%9F%E5%A4%8D%E6%92%AD%E9%94%80%E5%94%AE%E9%A2%9D%E8%BF%91%E5%8D%83%E4%B8%87&sa=fyb_news&rsv_dl=fyb_news', 'https://www.baidu.com/s?wd=%E8%B7%9D%E4%BB%8A2300%E5%A4%9A%E5%B9%B4%E7%9A%84%E8%B5%B5%E9%95%BF%E5%9F%8E%E8%A2%AB%E6%8B%A6%E8%85%B0%E6%88%AA%E6%96%AD&sa=fyb_news&rsv_dl=fyb_news', 'https://www.baidu.com/s?wd=%E2%80%9C%E6%AD%A6%E6%A0%A1%E6%8A%95%E6%AF%92%E8%87%B47%E6%AD%BB%E2%80%9D%E6%A1%88%E5%B0%86%E5%AE%A3%E5%88%A4&sa=fyb_news&rsv_dl=fyb_news', 'https://www.baidu.com/s?wd=%E5%8F%8C%E8%83%9E%E8%83%8E%E5%85%84%E5%BC%9F%E4%B8%80%E4%B8%AA%E5%AE%88%E5%9B%BD%E4%B8%80%E4%B8%AA%E5%AE%88%E5%AE%B6&sa=fyb_news&rsv_dl=fyb_news', 'https://www.baidu.com/s?wd=%E5%A5%B3%E5%AD%90%E4%B9%98%E8%BD%A6%E9%80%94%E4%B8%AD%E7%AA%81%E7%84%B6%E5%BC%80%E9%97%A8%E8%B7%B3%E8%BD%A6+%E5%8F%B8%E6%9C%BA%E5%90%93%E6%87%B5&sa=fyb_news&rsv_dl=fyb_news', 'https://www.baidu.com/s?wd=%E5%93%88%E5%B0%94%E6%BB%A8%E6%8A%8A%E9%84%82%E4%BC%A6%E6%98%A5%E6%97%8F%E8%AF%B7%E4%B8%8B%E5%B1%B1%E8%90%A5%E4%B8%9A%EF%BC%9F&sa=fyb_news&rsv_dl=fyb_news', 'https://www.baidu.com/s?wd=%E5%8F%8D%E8%AF%88%E5%BF%97%E6%84%BF%E8%80%85%E6%8E%A5%E8%AF%88%E9%AA%97%E7%94%B5%E8%AF%9D%E8%A3%85%E4%B8%8A%E5%BD%93&sa=fyb_news&rsv_dl=fyb_news', 'https://www.baidu.com/s?wd=%E9%99%88%E6%88%8C%E6%BA%90%E6%98%94%E6%97%A5%E8%AF%AD%E5%BD%95%EF%BC%9A%E6%88%91%E5%8F%AB%E6%9D%8E%E9%93%81%E6%94%BE%E5%BF%83%E7%AC%91&sa=fyb_news&rsv_dl=fyb_news', 'https://www.baidu.com/s?wd=%E5%A4%AE%E5%B9%BF%E7%BD%91%E8%AF%84%E5%93%88%E5%B0%94%E6%BB%A8%E7%81%AB%E4%BA%86&sa=fyb_news&rsv_dl=fyb_news', 'https://www.baidu.com/s?wd=%E5%93%88%E5%B0%94%E6%BB%A8%E4%B8%BA%E4%BB%80%E4%B9%88%E5%8F%AB%E5%B0%94%E6%BB%A8&sa=fyb_news&rsv_dl=fyb_news', 'https://www.baidu.com/s?wd=%E5%A5%B3%E7%94%9F%E5%92%8C%E8%99%8E%E5%AE%9D%E5%AE%9D%E7%8E%A9%E9%9B%AA+%E8%80%81%E8%99%8E%E6%97%A0%E8%BF%98%E6%89%8B%E4%B9%8B%E5%8A%9B&sa=fyb_news&rsv_dl=fyb_news', 'https://www.baidu.com/s?wd=%E5%9B%BD%E4%BA%A7%E7%94%B5%E5%8A%A8%E9%A3%9E%E6%9C%BAAG60E%E6%88%90%E5%8A%9F%E9%A6%96%E9%A3%9E&sa=fyb_news&rsv_dl=fyb_news', 'https://www.baidu.com/s?wd=%E6%B8%B8%E5%AE%A2%E5%90%90%E6%A7%BD%E5%93%88%E5%B0%94%E6%BB%A8%E5%87%8C%E6%99%A8%E6%B8%85%E9%9B%AA%E5%A3%B0%E5%A4%A7&sa=fyb_news&rsv_dl=fyb_news', 'https://www.baidu.com/s?wd=90%E5%90%8E%E5%A4%AB%E5%A6%BB%E7%94%A8%E5%85%AC%E4%BA%A4%E8%BD%A6%E5%BD%93%E5%A9%9A%E8%BD%A6%EF%BC%9A%E6%9B%B4%E7%83%AD%E9%97%B9&sa=fyb_news&rsv_dl=fyb_news', 'https://www.baidu.com/s?wd=%E6%9D%8E%E9%93%81%E5%AF%B9%E7%9D%80%E9%95%9C%E5%A4%B4%E8%AF%B4%E9%9D%9E%E5%B8%B8%E5%90%8E%E6%82%94&sa=fyb_news&rsv_dl=fyb_news', 'https://www.baidu.com/s?wd=%E5%B0%8F%E7%A0%82%E7%B3%96%E6%A9%98%E8%A2%AB%E8%AD%A6%E5%AF%9F%E8%9C%80%E9%BB%8D%E7%96%AF%E7%8B%82%E5%AE%A0%E7%88%B1&sa=fyb_news&rsv_dl=fyb_news', 'https://www.baidu.com/s?wd=%E4%BE%B5%E5%8D%8E%E6%97%A5%E5%86%9B%E4%B8%83%E4%B8%89%E4%B8%80%E9%83%A8%E9%98%9F%E9%81%97%E5%9D%80%E5%89%8D%E6%8E%92%E8%B5%B7%E9%95%BF%E9%98%9F&sa=fyb_news&rsv_dl=fyb_news', 'https://www.baidu.com/s?wd=%E6%9C%9D%E5%86%9B%E5%8F%91%E5%B0%84200%E5%A4%9A%E6%9E%9A%E7%82%AE%E5%BC%B9+%E9%9F%A9%E5%9B%BD%E5%8F%91%E5%B8%83%E9%81%BF%E9%9A%BE%E4%BB%A4&sa=fyb_news&rsv_dl=fyb_news', 'https://www.baidu.com/s?wd=%E5%B0%94%E6%BB%A8%E4%B8%8A%E7%BA%BF%E2%80%9C%E5%86%B0%E9%A9%AC%E4%BF%91%E2%80%9D&sa=fyb_news&rsv_dl=fyb_news', 'https://www.baidu.com/s?wd=%E6%9D%9C%E5%85%86%E6%89%8D%E9%A6%96%E8%B0%88%E5%8F%97%E8%B4%BF&sa=fyb_news&rsv_dl=fyb_news', 'https://www.baidu.com/s?wd=%E7%95%99%E7%BE%8E%E5%8D%9A%E5%A3%AB%E7%94%9F%E7%AA%81%E9%81%AD%E9%81%A3%E8%BF%94&sa=fyb_news&rsv_dl=fyb_news', 'https://www.baidu.com/s?wd=%E5%93%88%E5%B0%94%E6%BB%A8%E5%86%BB%E6%A2%A8%E4%B8%8D%E5%85%89%E6%91%86%E7%9B%98%E8%BF%98%E9%9B%95%E5%87%BA%E6%9D%A5%E4%BA%86&sa=fyb_news&rsv_dl=fyb_news', 'https://www.baidu.com/s?wd=%E8%B4%B5%E9%98%B3%E4%B8%80%E9%A9%AC%E8%B7%AF%E4%B8%8A%E5%A4%9C%E9%97%B4%E6%9C%89%E5%A4%9A%E4%BA%BA%E7%88%AC%E8%A1%8C&sa=fyb_news&rsv_dl=fyb_news', 'https://www.baidu.com/s?wd=%E6%97%A5%E6%9C%AC%E8%AE%B0%E8%80%85%E5%90%90%E6%A7%BD%E6%B0%91%E4%BC%97%E7%BB%99%E7%81%BE%E5%8C%BA%E5%AF%84%E5%8D%83%E7%BA%B8%E9%B9%A4&sa=fyb_news&rsv_dl=fyb_news', 'https://www.baidu.com/s?wd=%E8%8C%83%E5%BF%97%E6%AF%85%E8%B0%88%E5%87%BA%E6%BC%94%E7%B9%81%E8%8A%B1%EF%BC%9A%E5%A4%AA%E5%A4%AA%E5%8A%9D%E6%88%91%E5%8E%BB%E7%9A%84&sa=fyb_news&rsv_dl=fyb_news', 'https://www.baidu.com/s?wd=16888%E5%85%83%E7%B9%81%E8%8A%B1%E5%A5%97%E6%88%BF%E6%8A%A2%E4%B8%8D%E7%9D%80&sa=fyb_news&rsv_dl=fyb_news', 'https://www.baidu.com/s?wd=%E7%9F%BF%E5%8C%BA%E5%87%8C%E6%99%A8%E6%83%8A%E7%8E%B0%E4%B8%9C%E5%8C%97%E8%99%8E+%E8%BF%98%E5%92%AC%E6%AD%BB%E4%B8%80%E5%8F%AA%E7%8B%97&sa=fyb_news&rsv_dl=fyb_news', 'https://www.baidu.com/s?wd=%E5%8D%97%E9%98%B3%E5%9B%9E%E5%BA%94%E5%85%AC%E5%8A%A1%E5%91%98%E5%85%BC%E8%81%8C%E6%97%A5%E8%96%AA%E4%B8%89%E5%8D%83&sa=fyb_news&rsv_dl=fyb_news', 'https://www.baidu.com/s?wd=%E7%81%AB%E9%94%85%E5%BA%97%E6%B6%AE%E7%BE%8A%E8%82%89%E8%87%B41%E5%AE%B614%E5%8F%A3%E4%B8%AD%E6%AF%92&sa=fyb_news&rsv_dl=fyb_news', 'https://www.baidu.com/s?wd=%E5%9C%B0%E7%90%83%E8%BF%9B%E5%85%A5%E9%9C%87%E5%8A%A8%E6%A8%A1%E5%BC%8F%E4%BA%86%E5%90%97&sa=fyb_news&rsv_dl=fyb_news', 'https://www.baidu.com/s?wd=%E7%8E%8B%E6%99%B6%EF%BC%9A%E6%88%91%E8%9B%AE%E7%BE%A1%E6%85%95%E7%8E%8B%E5%AE%B6%E5%8D%AB&sa=fyb_news&rsv_dl=fyb_news', 'https://www.baidu.com/s?wd=%E5%A5%B3%E5%AD%90%E7%A7%B0%E5%BB%BA%E8%A1%8C13%E5%B9%B4%E5%89%8D%E5%AD%98%E6%8A%98%E6%97%A0%E6%B3%95%E5%8F%96%E9%92%B1&sa=fyb_news&rsv_dl=fyb_news', 'https://www.baidu.com/s?wd=%E8%B4%B5%E5%B7%9E%E8%90%8C%E5%A8%83%E6%B8%B8%E5%93%88%E5%B0%94%E6%BB%A8%E8%A2%AB%E9%80%81%E5%A4%96%E5%8F%B7%E5%B0%8F%E8%8C%85%E5%8F%B0&sa=fyb_news&rsv_dl=fyb_news', 'https://www.baidu.com/s?wd=%E5%93%88%E5%B0%94%E6%BB%A8%E6%99%AF%E5%8C%BA%E5%9B%9E%E5%BA%94%E8%AF%B7%E7%99%BD%E7%8B%90%E8%BF%8E%E5%AE%A2%EF%BC%9A%E4%B8%8D%E5%92%AC%E4%BA%BA&sa=fyb_news&rsv_dl=fyb_news']\n"
     ]
    }
   ],
   "source": [
    "## 另一种写法\n",
    "links = obj.find_all(\"a\", attrs = {\"class\": \"look-more_3oNWC\"})\n",
    "# print(type(links[0]), links[0])\n",
    "links = [i.get(\"href\") for i in links]\n",
    "links = links[::2] # every link has its copy\n",
    "print(len(links), type(links))\n",
    "print(links)"
   ]
  },
  {
   "cell_type": "code",
   "execution_count": 6,
   "id": "50fdce2a-6539-4bda-bbcc-30a6d71fcd69",
   "metadata": {
    "scrolled": true
   },
   "outputs": [
    {
     "name": "stdout",
     "output_type": "stream",
     "text": [
      "51\n",
      "<class 'list'>\n",
      "[4967463, 4908417, 4869774, 4742024, 4689499, 4564698, 4493348, 4350747, 4207306, 4194087, 4048710, 3989185, 3842963, 3750155, 3651669, 3590470, 3422518, 3366211, 3223829, 3158725, 3024925, 2985667, 2848385, 2712098, 2640147, 2596872, 2405485, 2359850, 2295364, 2112671, 2014143, 1942067, 1803255, 1774716, 1610685, 1534271, 1455777, 1374857, 1236455, 1150938, 1028774, 934672, 854154, 781145, 676433, 515170, 477914, 362278, 212899, 115610, 100000]\n"
     ]
    }
   ],
   "source": [
    "## Hot_index\n",
    "hot_index = obj.find_all(\"div\", attrs = {\"class\": \"hot-index_1Bl1a\"})\n",
    "hot_index = [int(i.text.strip()) for i in hot_index]\n",
    "print(len(hot_index))\n",
    "print(type(hot_index))\n",
    "print(hot_index)"
   ]
  },
  {
   "cell_type": "code",
   "execution_count": 7,
   "id": "6934c2be-caa3-464f-bbba-4f4e2c7a2bd0",
   "metadata": {
    "scrolled": true
   },
   "outputs": [
    {
     "name": "stdout",
     "output_type": "stream",
     "text": [
      "                     标题                                               内容简介  \\\n",
      "0         中南海2023年刊·民生篇  回首2023年，习近平总书记多次走到人民群众中间，摸清千家万户柴米油盐的小日子，让现代化建设...   \n",
      "1      南方小土豆回家后一开口东北话十级  日前，江苏南京一网友上传了自家宝宝说东北话的视频。小朋友在视频中表示，自己的东北话是在哈尔滨...   \n",
      "2       孙燕姿妹妹宣布与孙燕姿断绝关系                     1月5日，孙燕姿妹妹孙燕美发微博宣布和姐姐断绝关系引发热议。   \n",
      "3       中国经济发展以进促稳、笃定前行  回顾2023年，中国外贸克服了外需疲弱、价格下行等多重挑战。新的一年，中国将与世界共享中国式...   \n",
      "4      在美国街头流浪的复旦博士：想回国  近日，纽约街头一流浪16年的男子自称是复旦校友引发关注。该男子希望回到祖国，目前校方已经就此...   \n",
      "5         富豪悬赏千万寻子电话被打爆                                               暂无简介   \n",
      "6       老师将班级电脑壁纸设成自己照片  近日，河南信阳一中学老师将自己的照片设为班级电脑的动态屏保。老师表示此举是在网上学的，目的在...   \n",
      "7       景区月薪6千招人扮孙悟空吃东西    近日，河北邯郸一景区6000元月薪招人扮演孙悟空，工作内容是趴在洞里“吃东西”，引发网友热议。   \n",
      "8          广西北海地震有数人受伤？  近日，网上流传“广西北海市银海区海域发生6.8级地震，目前已有数人受伤”的信息。对此，官方回...   \n",
      "9     2租客发现11万现金 房东免租1年  近日，江西2名租客打扫房屋时，发现11万现金上交到派出所。为感谢两人拾金不昧，房东承诺为她们...   \n",
      "10         50多岁昆明市长全马破4  近日，云南昆明马拉松赛事鸣枪开跑。50多岁的昆明市长刘佳晨参加了全长42.195公里的全马，...   \n",
      "11    班主任侵犯学生家长 警方：构成猥亵  近日，山东潍坊一家长反映，妻子去年底被孩子所就读的临朐实验中学的班主任侵犯。当地警方认定班主...   \n",
      "12     日本震后如厕难 民众称到忍耐极限  据日本媒体报道，自1月1日能登半岛地震以来，灾区断水导致水资源不足，灾区厕所卫生环境持续恶化...   \n",
      "13    官方：7旬老人得子属实 母亲非拐卖  近日，贵州一女子称七旬爷爷得子，而奶奶是位38岁的盲人则引发网友质疑。当地政府回应称，老人得...   \n",
      "14               库里致命失误                                               暂无简介   \n",
      "15   流浪16年留美博士曾发表32篇SCI  近日，纽约街头一流浪16年的男子自称是复旦校友一事引发关注。复旦校友已确认其身份，并发现他在...   \n",
      "16        谈崩了，百事被家乐福封杀！                                               暂无简介   \n",
      "17        小杨哥徒弟复播销售额近千万                                               暂无简介   \n",
      "18    距今2300多年的赵长城被拦腰截断  近日，位于河南卫辉市辖区内的赵长城遗址唐庄2段，由于采矿企业挖矿采砂，这段古赵长城已经被“拦...   \n",
      "19        “武校投毒致7死”案将宣判             5日，记者从“武校投毒致7死”案遇害者家属处获悉，案件将于1月8日公开宣判。   \n",
      "20        双胞胎兄弟一个守国一个守家  贵州一对双胞胎兄弟走出大山共赴军营。哥哥文孝守家，退役后照顾奶奶；弟弟文敬守国，荣立个人三等...   \n",
      "21    女子乘车途中突然开门跳车 司机吓懵  3日，网爆一女子乘出租车途中突然打开车门跳车，把司机吓懵。出租车司机周师傅表示：未与女子发生...   \n",
      "22       哈尔滨把鄂伦春族请下山营业？  近日，很少出现在大众视野的鄂伦春族现身哈尔滨各大景区，引发热议。网友猜测是哈尔滨将其请下山营...   \n",
      "23        反诈志愿者接诈骗电话装上当  近日，一反诈志愿者接到诈骗电话后将计就计装上当，与骗子约定地点后带警察抓人。目前犯罪嫌疑人已...   \n",
      "24      陈戌源昔日语录：我叫李铁放心笑                                               暂无简介   \n",
      "25            央广网评哈尔滨火了                                               暂无简介   \n",
      "26            哈尔滨为什么叫尔滨                                               暂无简介   \n",
      "27     女生和虎宝宝玩雪 老虎无还手之力                   近日，山西临汾一女生和虎宝宝玩雪时占尽上风，小老虎毫无还手之力。   \n",
      "28      国产电动飞机AG60E成功首飞                                               暂无简介   \n",
      "29        游客吐槽哈尔滨凌晨清雪声大  近日，有游客吐槽哈尔滨凌晨清雪声大引发关注。对此，政府工作人员回应称，会记录下来并反馈给相关...   \n",
      "30     90后夫妻用公交车当婚车：更热闹  近期，河南一对“90后”新人用公交车接亲引发关注。夫妻两人认为传统的迎亲车队千篇一律，决定用...   \n",
      "31          李铁对着镜头说非常后悔  年度反腐大片《持续发力纵深推进》选取了纪检监察机关查处的12个典型案例，其中国足原主教练李铁...   \n",
      "32        小砂糖橘被警察蜀黍疯狂宠爱                                               暂无简介   \n",
      "33     侵华日军七三一部队遗址前排起长队  近日，哈尔滨旅游爆火，除了冰雪大世界、中央大街等热门景点外，在侵华日军七三一部队遗址前，同样...   \n",
      "34  朝军发射200多枚炮弹 韩国发布避难令  5日，韩国西部延坪岛一带根据军方要求发布居民紧急避难令。韩联社称，朝军在半岛西部海域发射20...   \n",
      "35            尔滨上线“冰马俑”                                               暂无简介   \n",
      "36              杜兆才首谈受贿                                               暂无简介   \n",
      "37            留美博士生突遭遣返                                               暂无简介   \n",
      "38       哈尔滨冻梨不光摆盘还雕出来了  1月4日，继哈尔滨冻梨被摆盘后，大雪雕冻梨开始上线。对此，有网友表示：不光摆盘还雕出来，这是...   \n",
      "39        贵阳一马路上夜间有多人爬行  3日，有网友发视频称晚间马路上有多人爬行前进，疑似公司对员工的惩罚。对此，当地派出所回应：公...   \n",
      "40      日本记者吐槽民众给灾区寄千纸鹤                                               暂无简介   \n",
      "41      范志毅谈出演繁花：太太劝我去的                                               暂无简介   \n",
      "42        16888元繁花套房抢不着                                               暂无简介   \n",
      "43     矿区凌晨惊现东北虎 还咬死一只狗  4日，吉林珲春一矿区附近，一只东北虎走在马路中间，其前爪还带有血迹。5日，矿区生活区居民告诉...   \n",
      "44        南阳回应公务员兼职日薪三千  近日，南阳市一公职人员在外兼职日薪三千，引发热议。经核实，该公职人员曾在停薪留职期间在一互联...   \n",
      "45       火锅店涮羊肉致1家14口中毒                                               暂无简介   \n",
      "46           地球进入震动模式了吗  近日，中国地震台网发布统计显示，2023年全球共发生6级以上地震129次。地球进入“震动模式...   \n",
      "47           王晶：我蛮羡慕王家卫                                               暂无简介   \n",
      "48      女子称建行13年前存折无法取钱                                               暂无简介   \n",
      "49      贵州萌娃游哈尔滨被送外号小茅台  日前，哈尔滨旅游爆火。除了来自广西的“小砂糖橘”之外，贵州也有小朋友组团前往，有网友表示这些...   \n",
      "50     哈尔滨景区回应请白狐迎客：不咬人  近日，有网友发视频称，哈尔滨为招待游客推出“白狐合影”项目。景区负责人回应：白狐都是驯化过的...   \n",
      "\n",
      "                                                   链接     热搜指数  \n",
      "0   https://www.baidu.com/s?wd=%E4%B8%AD%E5%8D%97%...  4967463  \n",
      "1   https://www.baidu.com/s?wd=%E5%8D%97%E6%96%B9%...  4908417  \n",
      "2   https://www.baidu.com/s?wd=%E5%AD%99%E7%87%95%...  4869774  \n",
      "3   https://www.baidu.com/s?wd=%E4%B8%AD%E5%9B%BD%...  4742024  \n",
      "4   https://www.baidu.com/s?wd=%E5%9C%A8%E7%BE%8E%...  4689499  \n",
      "5   https://www.baidu.com/s?wd=%E5%AF%8C%E8%B1%AA%...  4564698  \n",
      "6   https://www.baidu.com/s?wd=%E8%80%81%E5%B8%88%...  4493348  \n",
      "7   https://www.baidu.com/s?wd=%E6%99%AF%E5%8C%BA%...  4350747  \n",
      "8   https://www.baidu.com/s?wd=%E5%B9%BF%E8%A5%BF%...  4207306  \n",
      "9   https://www.baidu.com/s?wd=2%E7%A7%9F%E5%AE%A2...  4194087  \n",
      "10  https://www.baidu.com/s?wd=50%E5%A4%9A%E5%B2%8...  4048710  \n",
      "11  https://www.baidu.com/s?wd=%E7%8F%AD%E4%B8%BB%...  3989185  \n",
      "12  https://www.baidu.com/s?wd=%E6%97%A5%E6%9C%AC%...  3842963  \n",
      "13  https://www.baidu.com/s?wd=%E5%AE%98%E6%96%B9%...  3750155  \n",
      "14  https://www.baidu.com/s?wd=%E5%BA%93%E9%87%8C%...  3651669  \n",
      "15  https://www.baidu.com/s?wd=%E6%B5%81%E6%B5%AA1...  3590470  \n",
      "16  https://www.baidu.com/s?wd=%E8%B0%88%E5%B4%A9%...  3422518  \n",
      "17  https://www.baidu.com/s?wd=%E5%B0%8F%E6%9D%A8%...  3366211  \n",
      "18  https://www.baidu.com/s?wd=%E8%B7%9D%E4%BB%8A2...  3223829  \n",
      "19  https://www.baidu.com/s?wd=%E2%80%9C%E6%AD%A6%...  3158725  \n",
      "20  https://www.baidu.com/s?wd=%E5%8F%8C%E8%83%9E%...  3024925  \n",
      "21  https://www.baidu.com/s?wd=%E5%A5%B3%E5%AD%90%...  2985667  \n",
      "22  https://www.baidu.com/s?wd=%E5%93%88%E5%B0%94%...  2848385  \n",
      "23  https://www.baidu.com/s?wd=%E5%8F%8D%E8%AF%88%...  2712098  \n",
      "24  https://www.baidu.com/s?wd=%E9%99%88%E6%88%8C%...  2640147  \n",
      "25  https://www.baidu.com/s?wd=%E5%A4%AE%E5%B9%BF%...  2596872  \n",
      "26  https://www.baidu.com/s?wd=%E5%93%88%E5%B0%94%...  2405485  \n",
      "27  https://www.baidu.com/s?wd=%E5%A5%B3%E7%94%9F%...  2359850  \n",
      "28  https://www.baidu.com/s?wd=%E5%9B%BD%E4%BA%A7%...  2295364  \n",
      "29  https://www.baidu.com/s?wd=%E6%B8%B8%E5%AE%A2%...  2112671  \n",
      "30  https://www.baidu.com/s?wd=90%E5%90%8E%E5%A4%A...  2014143  \n",
      "31  https://www.baidu.com/s?wd=%E6%9D%8E%E9%93%81%...  1942067  \n",
      "32  https://www.baidu.com/s?wd=%E5%B0%8F%E7%A0%82%...  1803255  \n",
      "33  https://www.baidu.com/s?wd=%E4%BE%B5%E5%8D%8E%...  1774716  \n",
      "34  https://www.baidu.com/s?wd=%E6%9C%9D%E5%86%9B%...  1610685  \n",
      "35  https://www.baidu.com/s?wd=%E5%B0%94%E6%BB%A8%...  1534271  \n",
      "36  https://www.baidu.com/s?wd=%E6%9D%9C%E5%85%86%...  1455777  \n",
      "37  https://www.baidu.com/s?wd=%E7%95%99%E7%BE%8E%...  1374857  \n",
      "38  https://www.baidu.com/s?wd=%E5%93%88%E5%B0%94%...  1236455  \n",
      "39  https://www.baidu.com/s?wd=%E8%B4%B5%E9%98%B3%...  1150938  \n",
      "40  https://www.baidu.com/s?wd=%E6%97%A5%E6%9C%AC%...  1028774  \n",
      "41  https://www.baidu.com/s?wd=%E8%8C%83%E5%BF%97%...   934672  \n",
      "42  https://www.baidu.com/s?wd=16888%E5%85%83%E7%B...   854154  \n",
      "43  https://www.baidu.com/s?wd=%E7%9F%BF%E5%8C%BA%...   781145  \n",
      "44  https://www.baidu.com/s?wd=%E5%8D%97%E9%98%B3%...   676433  \n",
      "45  https://www.baidu.com/s?wd=%E7%81%AB%E9%94%85%...   515170  \n",
      "46  https://www.baidu.com/s?wd=%E5%9C%B0%E7%90%83%...   477914  \n",
      "47  https://www.baidu.com/s?wd=%E7%8E%8B%E6%99%B6%...   362278  \n",
      "48  https://www.baidu.com/s?wd=%E5%A5%B3%E5%AD%90%...   212899  \n",
      "49  https://www.baidu.com/s?wd=%E8%B4%B5%E5%B7%9E%...   115610  \n",
      "50  https://www.baidu.com/s?wd=%E5%93%88%E5%B0%94%...   100000  \n"
     ]
    }
   ],
   "source": [
    "import pandas as pd\n",
    "amap = pd.DataFrame(intro, columns = [\"标题\"])\n",
    "bmap = pd.DataFrame(preview, columns = [\"内容简介\"])\n",
    "cmap = pd.DataFrame(links, columns = [\"链接\"])\n",
    "dmap = pd.DataFrame(hot_index, columns = [\"热搜指数\"])\n",
    "df = pd.concat([amap, bmap, cmap, dmap], axis = 1)\n",
    "df = df.replace(\"\", \"暂无简介\")\n",
    "print(df)"
   ]
  },
  {
   "cell_type": "code",
   "execution_count": 8,
   "id": "6e934fa3-faa5-4bc1-a9ad-afcedee7aa9a",
   "metadata": {},
   "outputs": [],
   "source": [
    "## Write to excel\n",
    "with pd.ExcelWriter(r\"/home/miu/result.xlsx\") as file:\n",
    "    df.to_excel(file, sheet_name = \"bdrs\", index = False)"
   ]
  },
  {
   "cell_type": "code",
   "execution_count": null,
   "id": "2ef4f913-614a-4aca-a158-34c6bf1a9024",
   "metadata": {},
   "outputs": [],
   "source": []
  }
 ],
 "metadata": {
  "kernelspec": {
   "display_name": "Python 3 (ipykernel)",
   "language": "python",
   "name": "python3"
  },
  "language_info": {
   "codemirror_mode": {
    "name": "ipython",
    "version": 3
   },
   "file_extension": ".py",
   "mimetype": "text/x-python",
   "name": "python",
   "nbconvert_exporter": "python",
   "pygments_lexer": "ipython3",
   "version": "3.11.6"
  }
 },
 "nbformat": 4,
 "nbformat_minor": 5
}
