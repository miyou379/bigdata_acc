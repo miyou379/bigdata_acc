{
 "cells": [
  {
   "cell_type": "code",
   "execution_count": 1,
   "id": "f8fe702c-b545-4643-b22e-b3c8019cf7d7",
   "metadata": {
    "scrolled": true
   },
   "outputs": [
    {
     "name": "stdout",
     "output_type": "stream",
     "text": [
      "<class 'bs4.BeautifulSoup'>\n",
      "\n",
      "<!DOCTYPE html>\n",
      "\n",
      "<html>\n",
      "<head>\n",
      "<meta content=\"text/html;charset=utf-8\" http-equiv=\"Content-Type\"/>\n",
      "<meta content=\"IE=edge,chrome=1\" http-equiv=\"X-UA-Compatible\"/>\n",
      "<meta content=\"always\" name=\"referrer\"/>\n",
      "<meta content=\"#2932e1\" name=\"theme-color\"/>\n",
      "<link href=\"//www.baidu.com/favicon.ico\" rel=\"shortcut icon\" type=\"image/x-icon\"/>\n",
      "<link href=\"//www.baidu.com/img/baidu_85beaf5496f291521eb75ba38eacbd87.svg\" mask=\"\" rel=\"icon\" sizes=\"any\"/>\n",
      "<link href=\"//fyb-pc-static.cdn.bcebos.com\" rel=\"dns-prefe\n"
     ]
    }
   ],
   "source": [
    "from bs4 import BeautifulSoup as bs\n",
    "import urllib.request as urlreq\n",
    "import re\n",
    "req = urlreq.Request(url = \"https://top.baidu.com/board?tab=realtime\", headers = { \"User-Agent\":\n",
    "\"Mozilla/5.0 (X11; Linux x86_64) AppleWebKit/537.36 (KHTML, like Gecko) Chrome/119.0.0.0 Safari/537.36\" })\n",
    "got = urlreq.urlopen(req).read() ## http get \n",
    "obj = bs(got, 'html.parser') ## parse to bs4 object\n",
    "print(type(obj))\n",
    "print(obj.decode()[:500])"
   ]
  },
  {
   "cell_type": "code",
   "execution_count": 2,
   "id": "a1e3d7d8-25e3-4830-a05e-617cb94b2a25",
   "metadata": {
    "scrolled": true
   },
   "outputs": [
    {
     "name": "stdout",
     "output_type": "stream",
     "text": [
      "51\n",
      "<class 'list'>\n",
      "['全面推进强国建设民族复兴伟业', '人民日报评五月天被曝疑似假唱', '26款羽绒服不合格：探路者上黑榜', '“小包裹”折射“大经济”', '医生因颜值高引多人挂号 院方回应', '美媒：以军计划水淹哈马斯地道', '共享单车坐垫发现两个采血针', '34岁抗癌网红李小妞去世', '清华校友会辟谣捐赠铜像被卖废品', '冯琳主持人大赛讲与爸爸的故事', '李永乐分析“快乐8”彩票中奖概率', '彩民中2.2亿后现身：每周买三四次', '银行通报员工被领导施压发生关系', '男子4秒连拍6掌徒手摔死老鼠', '狂飙演员转做主播月入不足3千', '爱马仕继承人将巨额财产留给园丁', '大学生疑因超负荷工作离世', '厦门两教师涉嫌强奸女生被刑拘', '是否承认阿富汗临时政府？中方回应', 'A股炒出“麻将牌” 东南西北股上涨', '42岁断崖式衰老女子确诊卵巢早衰', '大学生用无人机救遭撕咬保护动物', '金正恩出席朝鲜全国母亲大会时落泪', '杭州一生煎店房租涨到120万', '杨鸣唐佳良离婚', '刘德华为父亲设灵 与妻女到场送别', '80后女县委书记拟任副市长', '女子被男友捆绑手脚：他去买刀了', '国乒再次8比0取胜光速“下班”', '学校回应寝室床垫用杂草填充', '娜扎景甜李一桐等众女星走红毯', '盘点2023年评分TOP5剧集', '六国免签实施前3天近7000人入境', '装13部监控 韩国夫妇操控一家庭19年', '劳斯莱斯新库里南曝光', '司机心脏骤停万幸拉了一车医护', '《父母爱情》剧组重聚走红毯', '厄尔尼诺事件将持续到明年春天', '小S说精神出轨比肉体出轨严重', '湖南汝城：县委书记因突发事故逝世', '中2.2亿彩民买光一彩票店所有彩票', '成毅和礼仪小姐互请下班', '八旬大爷误把主播当女友千里奔现', '男子农药熏蒸粮食致邻居两幼子身亡', '教育部：师生不带病上课上学', '刘德华父亲葬礼现场', '老人家中1吨煤被收走？官方回应', '女子花2500住酒店被蛇咬 双方已和解', '爆米花摊机器突然爆炸致2人受伤', '媒体：有序放开秸秆焚烧值得探索', '印度男老师被胁迫与绑匪女儿结婚']\n"
     ]
    }
   ],
   "source": [
    "## Title\n",
    "intro = obj.find_all(\"div\", attrs = {\"class\": \"c-single-text-ellipsis\"})\n",
    "intro = [i.text.strip() for i in intro]\n",
    "print(len(intro))\n",
    "print(type(intro))\n",
    "print(intro)"
   ]
  },
  {
   "cell_type": "code",
   "execution_count": 3,
   "id": "eb5ec471-b15b-411c-b1b5-ca31c712f844",
   "metadata": {
    "scrolled": true
   },
   "outputs": [
    {
     "name": "stdout",
     "output_type": "stream",
     "text": [
      "<class 'bs4.element.ResultSet'>\n",
      "51\n",
      "<class 'list'>\n",
      "['习近平总书记近日在上海、江苏盐城考察时的重要讲话激励广大干部群众坚定信心、勇于开拓、积极作为，引发热烈反响。', '近日，五月天假唱风波引发广泛关注。12月5日，人民日报评论：真唱是本分，假唱须追责。', '近日，市场监管总局组织开展产品质量国家监督抽查，发现26批次不合格的羽绒服装，涉及探路者、阿仕顿等多个知名羽绒服装品牌。', '2023年以来，我国经济稳步恢复，生产消费需求逐步释放，使得快递业务量实现了从“年均百亿”到“月均百亿”的巨大跨越。', '近日，北京一整形医生因颜值火出圈引发多人挂号“打卡”。对此，院方工作人员表示，目前，该医生正常出诊，看诊需提前预约。', '据《华尔街日报》12月4日报道，有美国官员称，以色列计划向加沙地带的哈马斯地道灌注海水，将哈马斯武装人员赶出地下避难所。', '近日，广州一女士反映扫开共享单车后在坐垫发现两个针头。对此，平台人士称找到涉事车辆后报警处理。', '', '12月4日，有网民称清华大学国学班学生赠送的孔子铜像被卖到废品站，引起广泛关注。对此，清华大学多部门回应，澄清了相关传闻。', '', '12月5日，知名博主李永乐对“快乐8”彩票的中奖概率进行分析，经过分析，如果每天购买一注，大约需要2.4万年才能中奖。', '12月5日，花10万买彩票中2亿的彩民来到江西省福彩中心兑奖，他表示：自己购买彩票已超5年，每周会购买彩票三四次。', '近日，网传一银行女员工实名举报被一位领导施压多次发生性关系。12月5日，江苏银行镇江分行通报称：涉事领导已被免职。', '', '近日，曾出演过爆剧《狂飙》的龙套演员芝麻坦言：自己从演员转行做主播后月入不到三千。', '近日，爱马仕家族继承人尼古拉斯·普伊奇作出了一个惊人的决定：他将自己庞大的财产，估计超过90亿欧元，全部遗赠给家族园丁。', '近日，网传一大三学生在广东江门一物流公司工作近6个月后，不堪负荷离世。12月4日，死者家属表示：孩子日均工作12小时。', '', '12月5日，外交部发言人汪文斌表示，相信随着各方关切得到更有力的回应，对阿富汗政府的外交承认将是一个水到渠成的事情。', '今年以来，各种炒风在A股市场刮起。此前是炒一条龙，最近炒成了麻将牌。而东南西北中发白这串神秘代码也被有些投资者破译。', '据最新消息，发视频自称在20天内经历了“断崖式衰老”的女子称已在医院做过全身检查，医生诊断其为卵巢早衰，且无法逆转。', '12月5日，福建高校内国家保护动物遭狗撕咬，学生们巧用无人机驱赶狗营救保护动物。被咬伤动物已被警方带走救助。', '12月3日，朝鲜在首都平壤举行第5次全国母亲大会，金正恩在听取报告期间，动情落泪，用手帕擦拭眼泪。', '', '', '12月5日，刘德华父亲葬礼于香港举行，刘德华携妻女到殡仪馆送别父亲，三人神色哀伤，刘德华向媒体双手合十致意。', '', '近日，一名男子因为与女友吵架，将女友捆绑起来，声称要去买刀，最终这名男子因非法拘禁被判处七个月有期徒刑。', '', '', '12月5日，微博视界大会举办，娜扎景甜李一桐等众女星亮相红毯。', '盘点2023年评分TOP5剧集，《漫长的季节》成剧王，《狂飙》落选。', '12月5日，外交部发言人汪文斌表示，六国免签政策实施前3天，近7000人次免签入境。', '据报道，韩国水原市地方法院检方近日提起诉讼，指控一对夫妇在长达19年的时间里对一名50多岁的寡妇及其子女实施身心操控。', '', '1日，一辆从新郑机场开往永城的快客，司机突发心肌梗死，幸运的是车上乘客都是医护人员，立即展开抢救，最后成功救回司机。', '', '近日，多部门对冬季及12月份全国自然灾害风险形势进行会商研判，认为当前厄尔尼诺事件将持续到明年春，北方或有低温雪灾。', '', '汝城县委办公室5日发布公告，郴州市汝城县委书记黄四平同志在下乡调研返回途中因突发事故不幸逝世，享年55岁。', '3日，一彩民在江西南昌买彩票中2.2亿余元。对此，见过该彩民的店主称，他买光了店主朋友彩票店的所有彩票后，去下一家接着买。', '', '近日，一八旬大爷误把主播当女友，以为主播发布的视频是单独给他发送的，从驻马店到苏州奔现。经过警方的帮助，老人已经平安回家。', '近4个月前，隔壁邻居张某家使用农药磷化铝进行熏蒸作业，导致严先生一家四口中毒，两个未成年儿子抢救无效身亡。', '近日，教育部印发《关于做好冬季学校流行性疾病防控工作的通知》，表示应指导有发热、咳嗽等症状师生做好防护，不带病上课上学。', '12月5日，刘德华父亲刘礼的葬礼在北角香港殡仪馆举行。', '12月5日，网传河北一老人家中一吨煤被强行收走。当日下午当地回应，称高硫煤有污染，镇政府工作人员给兑换脱硫煤其不同意。', '近日，一女子称自己花2500元住酒店被蛇咬伤，引发关注。12月4日，上海市虹口区文旅局回应，目前双方已达成初步和解。', '12月2号，陕西西安一老式爆米花小摊的机器在爆米花制作过程中突然爆炸，导致摊贩和一名路人受伤倒地。', '近年来，禁止秸秆焚烧政策对改善大气质量有积极作用，但也被认为带来了农作物病虫害加重等问题，因此有序放开秸秆焚烧值得探索。', '']\n"
     ]
    }
   ],
   "source": [
    "## Digest\n",
    "digest = obj.find_all(\"div\", attrs = {\"class\": \"hot-desc_1m_jR large_nSuFU\"})\n",
    "print(type(digest))\n",
    "preview = [i.text[:-6].strip() for i in digest]\n",
    "print(len(preview))\n",
    "print(type(preview))\n",
    "print(preview)"
   ]
  },
  {
   "cell_type": "code",
   "execution_count": 4,
   "id": "3d3036f4-8f22-4814-a68b-740dca82cc45",
   "metadata": {
    "scrolled": true
   },
   "outputs": [
    {
     "name": "stdout",
     "output_type": "stream",
     "text": [
      "51 <class 'list'> ['https://www.baidu.com/s?wd=%E5%85%A8%E9%9D%A2%E6%8E%A8%E8%BF%9B%E5%BC%BA%E5%9B%BD%E5%BB%BA%E8%AE%BE%E6%B0%91%E6%97%8F%E5%A4%8D%E5%85%B4%E4%BC%9F%E4%B8%9A&sa=fyb_news&rsv_dl=fyb_news', 'https://www.baidu.com/s?wd=%E4%BA%BA%E6%B0%91%E6%97%A5%E6%8A%A5%E8%AF%84%E4%BA%94%E6%9C%88%E5%A4%A9%E8%A2%AB%E6%9B%9D%E7%96%91%E4%BC%BC%E5%81%87%E5%94%B1&sa=fyb_news&rsv_dl=fyb_news', 'https://www.baidu.com/s?wd=26%E6%AC%BE%E7%BE%BD%E7%BB%92%E6%9C%8D%E4%B8%8D%E5%90%88%E6%A0%BC%EF%BC%9A%E6%8E%A2%E8%B7%AF%E8%80%85%E4%B8%8A%E9%BB%91%E6%A6%9C&sa=fyb_news&rsv_dl=fyb_news', 'https://www.baidu.com/s?wd=%E2%80%9C%E5%B0%8F%E5%8C%85%E8%A3%B9%E2%80%9D%E6%8A%98%E5%B0%84%E2%80%9C%E5%A4%A7%E7%BB%8F%E6%B5%8E%E2%80%9D&sa=fyb_news&rsv_dl=fyb_news', 'https://www.baidu.com/s?wd=%E5%8C%BB%E7%94%9F%E5%9B%A0%E9%A2%9C%E5%80%BC%E9%AB%98%E5%BC%95%E5%A4%9A%E4%BA%BA%E6%8C%82%E5%8F%B7+%E9%99%A2%E6%96%B9%E5%9B%9E%E5%BA%94&sa=fyb_news&rsv_dl=fyb_news', 'https://www.baidu.com/s?wd=%E7%BE%8E%E5%AA%92%EF%BC%9A%E4%BB%A5%E5%86%9B%E8%AE%A1%E5%88%92%E6%B0%B4%E6%B7%B9%E5%93%88%E9%A9%AC%E6%96%AF%E5%9C%B0%E9%81%93&sa=fyb_news&rsv_dl=fyb_news', 'https://www.baidu.com/s?wd=%E5%85%B1%E4%BA%AB%E5%8D%95%E8%BD%A6%E5%9D%90%E5%9E%AB%E5%8F%91%E7%8E%B0%E4%B8%A4%E4%B8%AA%E9%87%87%E8%A1%80%E9%92%88&sa=fyb_news&rsv_dl=fyb_news', 'https://www.baidu.com/s?wd=34%E5%B2%81%E6%8A%97%E7%99%8C%E7%BD%91%E7%BA%A2%E6%9D%8E%E5%B0%8F%E5%A6%9E%E5%8E%BB%E4%B8%96&sa=fyb_news&rsv_dl=fyb_news', 'https://www.baidu.com/s?wd=%E6%B8%85%E5%8D%8E%E6%A0%A1%E5%8F%8B%E4%BC%9A%E8%BE%9F%E8%B0%A3%E6%8D%90%E8%B5%A0%E9%93%9C%E5%83%8F%E8%A2%AB%E5%8D%96%E5%BA%9F%E5%93%81&sa=fyb_news&rsv_dl=fyb_news', 'https://www.baidu.com/s?wd=%E5%86%AF%E7%90%B3%E4%B8%BB%E6%8C%81%E4%BA%BA%E5%A4%A7%E8%B5%9B%E8%AE%B2%E4%B8%8E%E7%88%B8%E7%88%B8%E7%9A%84%E6%95%85%E4%BA%8B&sa=fyb_news&rsv_dl=fyb_news', 'https://www.baidu.com/s?wd=%E6%9D%8E%E6%B0%B8%E4%B9%90%E5%88%86%E6%9E%90%E2%80%9C%E5%BF%AB%E4%B9%908%E2%80%9D%E5%BD%A9%E7%A5%A8%E4%B8%AD%E5%A5%96%E6%A6%82%E7%8E%87&sa=fyb_news&rsv_dl=fyb_news', 'https://www.baidu.com/s?wd=%E5%BD%A9%E6%B0%91%E4%B8%AD2.2%E4%BA%BF%E5%90%8E%E7%8E%B0%E8%BA%AB%EF%BC%9A%E6%AF%8F%E5%91%A8%E4%B9%B0%E4%B8%89%E5%9B%9B%E6%AC%A1&sa=fyb_news&rsv_dl=fyb_news', 'https://www.baidu.com/s?wd=%E9%93%B6%E8%A1%8C%E9%80%9A%E6%8A%A5%E5%91%98%E5%B7%A5%E8%A2%AB%E9%A2%86%E5%AF%BC%E6%96%BD%E5%8E%8B%E5%8F%91%E7%94%9F%E5%85%B3%E7%B3%BB&sa=fyb_news&rsv_dl=fyb_news', 'https://www.baidu.com/s?wd=%E7%94%B7%E5%AD%904%E7%A7%92%E8%BF%9E%E6%8B%8D6%E6%8E%8C%E5%BE%92%E6%89%8B%E6%91%94%E6%AD%BB%E8%80%81%E9%BC%A0&sa=fyb_news&rsv_dl=fyb_news', 'https://www.baidu.com/s?wd=%E7%8B%82%E9%A3%99%E6%BC%94%E5%91%98%E8%BD%AC%E5%81%9A%E4%B8%BB%E6%92%AD%E6%9C%88%E5%85%A5%E4%B8%8D%E8%B6%B33%E5%8D%83&sa=fyb_news&rsv_dl=fyb_news', 'https://www.baidu.com/s?wd=%E7%88%B1%E9%A9%AC%E4%BB%95%E7%BB%A7%E6%89%BF%E4%BA%BA%E5%B0%86%E5%B7%A8%E9%A2%9D%E8%B4%A2%E4%BA%A7%E7%95%99%E7%BB%99%E5%9B%AD%E4%B8%81&sa=fyb_news&rsv_dl=fyb_news', 'https://www.baidu.com/s?wd=%E5%A4%A7%E5%AD%A6%E7%94%9F%E7%96%91%E5%9B%A0%E8%B6%85%E8%B4%9F%E8%8D%B7%E5%B7%A5%E4%BD%9C%E7%A6%BB%E4%B8%96&sa=fyb_news&rsv_dl=fyb_news', 'https://www.baidu.com/s?wd=%E5%8E%A6%E9%97%A8%E4%B8%A4%E6%95%99%E5%B8%88%E6%B6%89%E5%AB%8C%E5%BC%BA%E5%A5%B8%E5%A5%B3%E7%94%9F%E8%A2%AB%E5%88%91%E6%8B%98&sa=fyb_news&rsv_dl=fyb_news', 'https://www.baidu.com/s?wd=%E6%98%AF%E5%90%A6%E6%89%BF%E8%AE%A4%E9%98%BF%E5%AF%8C%E6%B1%97%E4%B8%B4%E6%97%B6%E6%94%BF%E5%BA%9C%EF%BC%9F%E4%B8%AD%E6%96%B9%E5%9B%9E%E5%BA%94&sa=fyb_news&rsv_dl=fyb_news', 'https://www.baidu.com/s?wd=A%E8%82%A1%E7%82%92%E5%87%BA%E2%80%9C%E9%BA%BB%E5%B0%86%E7%89%8C%E2%80%9D+%E4%B8%9C%E5%8D%97%E8%A5%BF%E5%8C%97%E8%82%A1%E4%B8%8A%E6%B6%A8&sa=fyb_news&rsv_dl=fyb_news', 'https://www.baidu.com/s?wd=42%E5%B2%81%E6%96%AD%E5%B4%96%E5%BC%8F%E8%A1%B0%E8%80%81%E5%A5%B3%E5%AD%90%E7%A1%AE%E8%AF%8A%E5%8D%B5%E5%B7%A2%E6%97%A9%E8%A1%B0&sa=fyb_news&rsv_dl=fyb_news', 'https://www.baidu.com/s?wd=%E5%A4%A7%E5%AD%A6%E7%94%9F%E7%94%A8%E6%97%A0%E4%BA%BA%E6%9C%BA%E6%95%91%E9%81%AD%E6%92%95%E5%92%AC%E4%BF%9D%E6%8A%A4%E5%8A%A8%E7%89%A9&sa=fyb_news&rsv_dl=fyb_news', 'https://www.baidu.com/s?wd=%E9%87%91%E6%AD%A3%E6%81%A9%E5%87%BA%E5%B8%AD%E6%9C%9D%E9%B2%9C%E5%85%A8%E5%9B%BD%E6%AF%8D%E4%BA%B2%E5%A4%A7%E4%BC%9A%E6%97%B6%E8%90%BD%E6%B3%AA&sa=fyb_news&rsv_dl=fyb_news', 'https://www.baidu.com/s?wd=%E6%9D%AD%E5%B7%9E%E4%B8%80%E7%94%9F%E7%85%8E%E5%BA%97%E6%88%BF%E7%A7%9F%E6%B6%A8%E5%88%B0120%E4%B8%87&sa=fyb_news&rsv_dl=fyb_news', 'https://www.baidu.com/s?wd=%E6%9D%A8%E9%B8%A3%E5%94%90%E4%BD%B3%E8%89%AF%E7%A6%BB%E5%A9%9A&sa=fyb_news&rsv_dl=fyb_news', 'https://www.baidu.com/s?wd=%E5%88%98%E5%BE%B7%E5%8D%8E%E4%B8%BA%E7%88%B6%E4%BA%B2%E8%AE%BE%E7%81%B5+%E4%B8%8E%E5%A6%BB%E5%A5%B3%E5%88%B0%E5%9C%BA%E9%80%81%E5%88%AB&sa=fyb_news&rsv_dl=fyb_news', 'https://www.baidu.com/s?wd=80%E5%90%8E%E5%A5%B3%E5%8E%BF%E5%A7%94%E4%B9%A6%E8%AE%B0%E6%8B%9F%E4%BB%BB%E5%89%AF%E5%B8%82%E9%95%BF&sa=fyb_news&rsv_dl=fyb_news', 'https://www.baidu.com/s?wd=%E5%A5%B3%E5%AD%90%E8%A2%AB%E7%94%B7%E5%8F%8B%E6%8D%86%E7%BB%91%E6%89%8B%E8%84%9A%EF%BC%9A%E4%BB%96%E5%8E%BB%E4%B9%B0%E5%88%80%E4%BA%86&sa=fyb_news&rsv_dl=fyb_news', 'https://www.baidu.com/s?wd=%E5%9B%BD%E4%B9%92%E5%86%8D%E6%AC%A18%E6%AF%940%E5%8F%96%E8%83%9C%E5%85%89%E9%80%9F%E2%80%9C%E4%B8%8B%E7%8F%AD%E2%80%9D&sa=fyb_news&rsv_dl=fyb_news', 'https://www.baidu.com/s?wd=%E5%AD%A6%E6%A0%A1%E5%9B%9E%E5%BA%94%E5%AF%9D%E5%AE%A4%E5%BA%8A%E5%9E%AB%E7%94%A8%E6%9D%82%E8%8D%89%E5%A1%AB%E5%85%85&sa=fyb_news&rsv_dl=fyb_news', 'https://www.baidu.com/s?wd=%E5%A8%9C%E6%89%8E%E6%99%AF%E7%94%9C%E6%9D%8E%E4%B8%80%E6%A1%90%E7%AD%89%E4%BC%97%E5%A5%B3%E6%98%9F%E8%B5%B0%E7%BA%A2%E6%AF%AF&sa=fyb_news&rsv_dl=fyb_news', 'https://www.baidu.com/s?wd=%E7%9B%98%E7%82%B92023%E5%B9%B4%E8%AF%84%E5%88%86TOP5%E5%89%A7%E9%9B%86&sa=fyb_news&rsv_dl=fyb_news', 'https://www.baidu.com/s?wd=%E5%85%AD%E5%9B%BD%E5%85%8D%E7%AD%BE%E5%AE%9E%E6%96%BD%E5%89%8D3%E5%A4%A9%E8%BF%917000%E4%BA%BA%E5%85%A5%E5%A2%83&sa=fyb_news&rsv_dl=fyb_news', 'https://www.baidu.com/s?wd=%E8%A3%8513%E9%83%A8%E7%9B%91%E6%8E%A7+%E9%9F%A9%E5%9B%BD%E5%A4%AB%E5%A6%87%E6%93%8D%E6%8E%A7%E4%B8%80%E5%AE%B6%E5%BA%AD19%E5%B9%B4&sa=fyb_news&rsv_dl=fyb_news', 'https://www.baidu.com/s?wd=%E5%8A%B3%E6%96%AF%E8%8E%B1%E6%96%AF%E6%96%B0%E5%BA%93%E9%87%8C%E5%8D%97%E6%9B%9D%E5%85%89&sa=fyb_news&rsv_dl=fyb_news', 'https://www.baidu.com/s?wd=%E5%8F%B8%E6%9C%BA%E5%BF%83%E8%84%8F%E9%AA%A4%E5%81%9C%E4%B8%87%E5%B9%B8%E6%8B%89%E4%BA%86%E4%B8%80%E8%BD%A6%E5%8C%BB%E6%8A%A4&sa=fyb_news&rsv_dl=fyb_news', 'https://www.baidu.com/s?wd=%E3%80%8A%E7%88%B6%E6%AF%8D%E7%88%B1%E6%83%85%E3%80%8B%E5%89%A7%E7%BB%84%E9%87%8D%E8%81%9A%E8%B5%B0%E7%BA%A2%E6%AF%AF&sa=fyb_news&rsv_dl=fyb_news', 'https://www.baidu.com/s?wd=%E5%8E%84%E5%B0%94%E5%B0%BC%E8%AF%BA%E4%BA%8B%E4%BB%B6%E5%B0%86%E6%8C%81%E7%BB%AD%E5%88%B0%E6%98%8E%E5%B9%B4%E6%98%A5%E5%A4%A9&sa=fyb_news&rsv_dl=fyb_news', 'https://www.baidu.com/s?wd=%E5%B0%8FS%E8%AF%B4%E7%B2%BE%E7%A5%9E%E5%87%BA%E8%BD%A8%E6%AF%94%E8%82%89%E4%BD%93%E5%87%BA%E8%BD%A8%E4%B8%A5%E9%87%8D&sa=fyb_news&rsv_dl=fyb_news', 'https://www.baidu.com/s?wd=%E6%B9%96%E5%8D%97%E6%B1%9D%E5%9F%8E%EF%BC%9A%E5%8E%BF%E5%A7%94%E4%B9%A6%E8%AE%B0%E5%9B%A0%E7%AA%81%E5%8F%91%E4%BA%8B%E6%95%85%E9%80%9D%E4%B8%96&sa=fyb_news&rsv_dl=fyb_news', 'https://www.baidu.com/s?wd=%E4%B8%AD2.2%E4%BA%BF%E5%BD%A9%E6%B0%91%E4%B9%B0%E5%85%89%E4%B8%80%E5%BD%A9%E7%A5%A8%E5%BA%97%E6%89%80%E6%9C%89%E5%BD%A9%E7%A5%A8&sa=fyb_news&rsv_dl=fyb_news', 'https://www.baidu.com/s?wd=%E6%88%90%E6%AF%85%E5%92%8C%E7%A4%BC%E4%BB%AA%E5%B0%8F%E5%A7%90%E4%BA%92%E8%AF%B7%E4%B8%8B%E7%8F%AD&sa=fyb_news&rsv_dl=fyb_news', 'https://www.baidu.com/s?wd=%E5%85%AB%E6%97%AC%E5%A4%A7%E7%88%B7%E8%AF%AF%E6%8A%8A%E4%B8%BB%E6%92%AD%E5%BD%93%E5%A5%B3%E5%8F%8B%E5%8D%83%E9%87%8C%E5%A5%94%E7%8E%B0&sa=fyb_news&rsv_dl=fyb_news', 'https://www.baidu.com/s?wd=%E7%94%B7%E5%AD%90%E5%86%9C%E8%8D%AF%E7%86%8F%E8%92%B8%E7%B2%AE%E9%A3%9F%E8%87%B4%E9%82%BB%E5%B1%85%E4%B8%A4%E5%B9%BC%E5%AD%90%E8%BA%AB%E4%BA%A1&sa=fyb_news&rsv_dl=fyb_news', 'https://www.baidu.com/s?wd=%E6%95%99%E8%82%B2%E9%83%A8%EF%BC%9A%E5%B8%88%E7%94%9F%E4%B8%8D%E5%B8%A6%E7%97%85%E4%B8%8A%E8%AF%BE%E4%B8%8A%E5%AD%A6&sa=fyb_news&rsv_dl=fyb_news', 'https://www.baidu.com/s?wd=%E5%88%98%E5%BE%B7%E5%8D%8E%E7%88%B6%E4%BA%B2%E8%91%AC%E7%A4%BC%E7%8E%B0%E5%9C%BA&sa=fyb_news&rsv_dl=fyb_news', 'https://www.baidu.com/s?wd=%E8%80%81%E4%BA%BA%E5%AE%B6%E4%B8%AD1%E5%90%A8%E7%85%A4%E8%A2%AB%E6%94%B6%E8%B5%B0%EF%BC%9F%E5%AE%98%E6%96%B9%E5%9B%9E%E5%BA%94&sa=fyb_news&rsv_dl=fyb_news', 'https://www.baidu.com/s?wd=%E5%A5%B3%E5%AD%90%E8%8A%B12500%E4%BD%8F%E9%85%92%E5%BA%97%E8%A2%AB%E8%9B%87%E5%92%AC+%E5%8F%8C%E6%96%B9%E5%B7%B2%E5%92%8C%E8%A7%A3&sa=fyb_news&rsv_dl=fyb_news', 'https://www.baidu.com/s?wd=%E7%88%86%E7%B1%B3%E8%8A%B1%E6%91%8A%E6%9C%BA%E5%99%A8%E7%AA%81%E7%84%B6%E7%88%86%E7%82%B8%E8%87%B42%E4%BA%BA%E5%8F%97%E4%BC%A4&sa=fyb_news&rsv_dl=fyb_news', 'https://www.baidu.com/s?wd=%E5%AA%92%E4%BD%93%EF%BC%9A%E6%9C%89%E5%BA%8F%E6%94%BE%E5%BC%80%E7%A7%B8%E7%A7%86%E7%84%9A%E7%83%A7%E5%80%BC%E5%BE%97%E6%8E%A2%E7%B4%A2&sa=fyb_news&rsv_dl=fyb_news', 'https://www.baidu.com/s?wd=%E5%8D%B0%E5%BA%A6%E7%94%B7%E8%80%81%E5%B8%88%E8%A2%AB%E8%83%81%E8%BF%AB%E4%B8%8E%E7%BB%91%E5%8C%AA%E5%A5%B3%E5%84%BF%E7%BB%93%E5%A9%9A&sa=fyb_news&rsv_dl=fyb_news']\n"
     ]
    }
   ],
   "source": [
    "## Link\n",
    "links = [i.a for i in digest]\n",
    "# print(type(links))\n",
    "links = [i.get(\"href\") for i in links]\n",
    "print(len(links), type(links), links)"
   ]
  },
  {
   "cell_type": "code",
   "execution_count": 5,
   "id": "3a6358eb-f9b6-4e23-995e-d21d65a42e20",
   "metadata": {
    "scrolled": true
   },
   "outputs": [
    {
     "name": "stdout",
     "output_type": "stream",
     "text": [
      "51 <class 'list'>\n",
      "['https://www.baidu.com/s?wd=%E5%85%A8%E9%9D%A2%E6%8E%A8%E8%BF%9B%E5%BC%BA%E5%9B%BD%E5%BB%BA%E8%AE%BE%E6%B0%91%E6%97%8F%E5%A4%8D%E5%85%B4%E4%BC%9F%E4%B8%9A&sa=fyb_news&rsv_dl=fyb_news', 'https://www.baidu.com/s?wd=%E4%BA%BA%E6%B0%91%E6%97%A5%E6%8A%A5%E8%AF%84%E4%BA%94%E6%9C%88%E5%A4%A9%E8%A2%AB%E6%9B%9D%E7%96%91%E4%BC%BC%E5%81%87%E5%94%B1&sa=fyb_news&rsv_dl=fyb_news', 'https://www.baidu.com/s?wd=26%E6%AC%BE%E7%BE%BD%E7%BB%92%E6%9C%8D%E4%B8%8D%E5%90%88%E6%A0%BC%EF%BC%9A%E6%8E%A2%E8%B7%AF%E8%80%85%E4%B8%8A%E9%BB%91%E6%A6%9C&sa=fyb_news&rsv_dl=fyb_news', 'https://www.baidu.com/s?wd=%E2%80%9C%E5%B0%8F%E5%8C%85%E8%A3%B9%E2%80%9D%E6%8A%98%E5%B0%84%E2%80%9C%E5%A4%A7%E7%BB%8F%E6%B5%8E%E2%80%9D&sa=fyb_news&rsv_dl=fyb_news', 'https://www.baidu.com/s?wd=%E5%8C%BB%E7%94%9F%E5%9B%A0%E9%A2%9C%E5%80%BC%E9%AB%98%E5%BC%95%E5%A4%9A%E4%BA%BA%E6%8C%82%E5%8F%B7+%E9%99%A2%E6%96%B9%E5%9B%9E%E5%BA%94&sa=fyb_news&rsv_dl=fyb_news', 'https://www.baidu.com/s?wd=%E7%BE%8E%E5%AA%92%EF%BC%9A%E4%BB%A5%E5%86%9B%E8%AE%A1%E5%88%92%E6%B0%B4%E6%B7%B9%E5%93%88%E9%A9%AC%E6%96%AF%E5%9C%B0%E9%81%93&sa=fyb_news&rsv_dl=fyb_news', 'https://www.baidu.com/s?wd=%E5%85%B1%E4%BA%AB%E5%8D%95%E8%BD%A6%E5%9D%90%E5%9E%AB%E5%8F%91%E7%8E%B0%E4%B8%A4%E4%B8%AA%E9%87%87%E8%A1%80%E9%92%88&sa=fyb_news&rsv_dl=fyb_news', 'https://www.baidu.com/s?wd=34%E5%B2%81%E6%8A%97%E7%99%8C%E7%BD%91%E7%BA%A2%E6%9D%8E%E5%B0%8F%E5%A6%9E%E5%8E%BB%E4%B8%96&sa=fyb_news&rsv_dl=fyb_news', 'https://www.baidu.com/s?wd=%E6%B8%85%E5%8D%8E%E6%A0%A1%E5%8F%8B%E4%BC%9A%E8%BE%9F%E8%B0%A3%E6%8D%90%E8%B5%A0%E9%93%9C%E5%83%8F%E8%A2%AB%E5%8D%96%E5%BA%9F%E5%93%81&sa=fyb_news&rsv_dl=fyb_news', 'https://www.baidu.com/s?wd=%E5%86%AF%E7%90%B3%E4%B8%BB%E6%8C%81%E4%BA%BA%E5%A4%A7%E8%B5%9B%E8%AE%B2%E4%B8%8E%E7%88%B8%E7%88%B8%E7%9A%84%E6%95%85%E4%BA%8B&sa=fyb_news&rsv_dl=fyb_news', 'https://www.baidu.com/s?wd=%E6%9D%8E%E6%B0%B8%E4%B9%90%E5%88%86%E6%9E%90%E2%80%9C%E5%BF%AB%E4%B9%908%E2%80%9D%E5%BD%A9%E7%A5%A8%E4%B8%AD%E5%A5%96%E6%A6%82%E7%8E%87&sa=fyb_news&rsv_dl=fyb_news', 'https://www.baidu.com/s?wd=%E5%BD%A9%E6%B0%91%E4%B8%AD2.2%E4%BA%BF%E5%90%8E%E7%8E%B0%E8%BA%AB%EF%BC%9A%E6%AF%8F%E5%91%A8%E4%B9%B0%E4%B8%89%E5%9B%9B%E6%AC%A1&sa=fyb_news&rsv_dl=fyb_news', 'https://www.baidu.com/s?wd=%E9%93%B6%E8%A1%8C%E9%80%9A%E6%8A%A5%E5%91%98%E5%B7%A5%E8%A2%AB%E9%A2%86%E5%AF%BC%E6%96%BD%E5%8E%8B%E5%8F%91%E7%94%9F%E5%85%B3%E7%B3%BB&sa=fyb_news&rsv_dl=fyb_news', 'https://www.baidu.com/s?wd=%E7%94%B7%E5%AD%904%E7%A7%92%E8%BF%9E%E6%8B%8D6%E6%8E%8C%E5%BE%92%E6%89%8B%E6%91%94%E6%AD%BB%E8%80%81%E9%BC%A0&sa=fyb_news&rsv_dl=fyb_news', 'https://www.baidu.com/s?wd=%E7%8B%82%E9%A3%99%E6%BC%94%E5%91%98%E8%BD%AC%E5%81%9A%E4%B8%BB%E6%92%AD%E6%9C%88%E5%85%A5%E4%B8%8D%E8%B6%B33%E5%8D%83&sa=fyb_news&rsv_dl=fyb_news', 'https://www.baidu.com/s?wd=%E7%88%B1%E9%A9%AC%E4%BB%95%E7%BB%A7%E6%89%BF%E4%BA%BA%E5%B0%86%E5%B7%A8%E9%A2%9D%E8%B4%A2%E4%BA%A7%E7%95%99%E7%BB%99%E5%9B%AD%E4%B8%81&sa=fyb_news&rsv_dl=fyb_news', 'https://www.baidu.com/s?wd=%E5%A4%A7%E5%AD%A6%E7%94%9F%E7%96%91%E5%9B%A0%E8%B6%85%E8%B4%9F%E8%8D%B7%E5%B7%A5%E4%BD%9C%E7%A6%BB%E4%B8%96&sa=fyb_news&rsv_dl=fyb_news', 'https://www.baidu.com/s?wd=%E5%8E%A6%E9%97%A8%E4%B8%A4%E6%95%99%E5%B8%88%E6%B6%89%E5%AB%8C%E5%BC%BA%E5%A5%B8%E5%A5%B3%E7%94%9F%E8%A2%AB%E5%88%91%E6%8B%98&sa=fyb_news&rsv_dl=fyb_news', 'https://www.baidu.com/s?wd=%E6%98%AF%E5%90%A6%E6%89%BF%E8%AE%A4%E9%98%BF%E5%AF%8C%E6%B1%97%E4%B8%B4%E6%97%B6%E6%94%BF%E5%BA%9C%EF%BC%9F%E4%B8%AD%E6%96%B9%E5%9B%9E%E5%BA%94&sa=fyb_news&rsv_dl=fyb_news', 'https://www.baidu.com/s?wd=A%E8%82%A1%E7%82%92%E5%87%BA%E2%80%9C%E9%BA%BB%E5%B0%86%E7%89%8C%E2%80%9D+%E4%B8%9C%E5%8D%97%E8%A5%BF%E5%8C%97%E8%82%A1%E4%B8%8A%E6%B6%A8&sa=fyb_news&rsv_dl=fyb_news', 'https://www.baidu.com/s?wd=42%E5%B2%81%E6%96%AD%E5%B4%96%E5%BC%8F%E8%A1%B0%E8%80%81%E5%A5%B3%E5%AD%90%E7%A1%AE%E8%AF%8A%E5%8D%B5%E5%B7%A2%E6%97%A9%E8%A1%B0&sa=fyb_news&rsv_dl=fyb_news', 'https://www.baidu.com/s?wd=%E5%A4%A7%E5%AD%A6%E7%94%9F%E7%94%A8%E6%97%A0%E4%BA%BA%E6%9C%BA%E6%95%91%E9%81%AD%E6%92%95%E5%92%AC%E4%BF%9D%E6%8A%A4%E5%8A%A8%E7%89%A9&sa=fyb_news&rsv_dl=fyb_news', 'https://www.baidu.com/s?wd=%E9%87%91%E6%AD%A3%E6%81%A9%E5%87%BA%E5%B8%AD%E6%9C%9D%E9%B2%9C%E5%85%A8%E5%9B%BD%E6%AF%8D%E4%BA%B2%E5%A4%A7%E4%BC%9A%E6%97%B6%E8%90%BD%E6%B3%AA&sa=fyb_news&rsv_dl=fyb_news', 'https://www.baidu.com/s?wd=%E6%9D%AD%E5%B7%9E%E4%B8%80%E7%94%9F%E7%85%8E%E5%BA%97%E6%88%BF%E7%A7%9F%E6%B6%A8%E5%88%B0120%E4%B8%87&sa=fyb_news&rsv_dl=fyb_news', 'https://www.baidu.com/s?wd=%E6%9D%A8%E9%B8%A3%E5%94%90%E4%BD%B3%E8%89%AF%E7%A6%BB%E5%A9%9A&sa=fyb_news&rsv_dl=fyb_news', 'https://www.baidu.com/s?wd=%E5%88%98%E5%BE%B7%E5%8D%8E%E4%B8%BA%E7%88%B6%E4%BA%B2%E8%AE%BE%E7%81%B5+%E4%B8%8E%E5%A6%BB%E5%A5%B3%E5%88%B0%E5%9C%BA%E9%80%81%E5%88%AB&sa=fyb_news&rsv_dl=fyb_news', 'https://www.baidu.com/s?wd=80%E5%90%8E%E5%A5%B3%E5%8E%BF%E5%A7%94%E4%B9%A6%E8%AE%B0%E6%8B%9F%E4%BB%BB%E5%89%AF%E5%B8%82%E9%95%BF&sa=fyb_news&rsv_dl=fyb_news', 'https://www.baidu.com/s?wd=%E5%A5%B3%E5%AD%90%E8%A2%AB%E7%94%B7%E5%8F%8B%E6%8D%86%E7%BB%91%E6%89%8B%E8%84%9A%EF%BC%9A%E4%BB%96%E5%8E%BB%E4%B9%B0%E5%88%80%E4%BA%86&sa=fyb_news&rsv_dl=fyb_news', 'https://www.baidu.com/s?wd=%E5%9B%BD%E4%B9%92%E5%86%8D%E6%AC%A18%E6%AF%940%E5%8F%96%E8%83%9C%E5%85%89%E9%80%9F%E2%80%9C%E4%B8%8B%E7%8F%AD%E2%80%9D&sa=fyb_news&rsv_dl=fyb_news', 'https://www.baidu.com/s?wd=%E5%AD%A6%E6%A0%A1%E5%9B%9E%E5%BA%94%E5%AF%9D%E5%AE%A4%E5%BA%8A%E5%9E%AB%E7%94%A8%E6%9D%82%E8%8D%89%E5%A1%AB%E5%85%85&sa=fyb_news&rsv_dl=fyb_news', 'https://www.baidu.com/s?wd=%E5%A8%9C%E6%89%8E%E6%99%AF%E7%94%9C%E6%9D%8E%E4%B8%80%E6%A1%90%E7%AD%89%E4%BC%97%E5%A5%B3%E6%98%9F%E8%B5%B0%E7%BA%A2%E6%AF%AF&sa=fyb_news&rsv_dl=fyb_news', 'https://www.baidu.com/s?wd=%E7%9B%98%E7%82%B92023%E5%B9%B4%E8%AF%84%E5%88%86TOP5%E5%89%A7%E9%9B%86&sa=fyb_news&rsv_dl=fyb_news', 'https://www.baidu.com/s?wd=%E5%85%AD%E5%9B%BD%E5%85%8D%E7%AD%BE%E5%AE%9E%E6%96%BD%E5%89%8D3%E5%A4%A9%E8%BF%917000%E4%BA%BA%E5%85%A5%E5%A2%83&sa=fyb_news&rsv_dl=fyb_news', 'https://www.baidu.com/s?wd=%E8%A3%8513%E9%83%A8%E7%9B%91%E6%8E%A7+%E9%9F%A9%E5%9B%BD%E5%A4%AB%E5%A6%87%E6%93%8D%E6%8E%A7%E4%B8%80%E5%AE%B6%E5%BA%AD19%E5%B9%B4&sa=fyb_news&rsv_dl=fyb_news', 'https://www.baidu.com/s?wd=%E5%8A%B3%E6%96%AF%E8%8E%B1%E6%96%AF%E6%96%B0%E5%BA%93%E9%87%8C%E5%8D%97%E6%9B%9D%E5%85%89&sa=fyb_news&rsv_dl=fyb_news', 'https://www.baidu.com/s?wd=%E5%8F%B8%E6%9C%BA%E5%BF%83%E8%84%8F%E9%AA%A4%E5%81%9C%E4%B8%87%E5%B9%B8%E6%8B%89%E4%BA%86%E4%B8%80%E8%BD%A6%E5%8C%BB%E6%8A%A4&sa=fyb_news&rsv_dl=fyb_news', 'https://www.baidu.com/s?wd=%E3%80%8A%E7%88%B6%E6%AF%8D%E7%88%B1%E6%83%85%E3%80%8B%E5%89%A7%E7%BB%84%E9%87%8D%E8%81%9A%E8%B5%B0%E7%BA%A2%E6%AF%AF&sa=fyb_news&rsv_dl=fyb_news', 'https://www.baidu.com/s?wd=%E5%8E%84%E5%B0%94%E5%B0%BC%E8%AF%BA%E4%BA%8B%E4%BB%B6%E5%B0%86%E6%8C%81%E7%BB%AD%E5%88%B0%E6%98%8E%E5%B9%B4%E6%98%A5%E5%A4%A9&sa=fyb_news&rsv_dl=fyb_news', 'https://www.baidu.com/s?wd=%E5%B0%8FS%E8%AF%B4%E7%B2%BE%E7%A5%9E%E5%87%BA%E8%BD%A8%E6%AF%94%E8%82%89%E4%BD%93%E5%87%BA%E8%BD%A8%E4%B8%A5%E9%87%8D&sa=fyb_news&rsv_dl=fyb_news', 'https://www.baidu.com/s?wd=%E6%B9%96%E5%8D%97%E6%B1%9D%E5%9F%8E%EF%BC%9A%E5%8E%BF%E5%A7%94%E4%B9%A6%E8%AE%B0%E5%9B%A0%E7%AA%81%E5%8F%91%E4%BA%8B%E6%95%85%E9%80%9D%E4%B8%96&sa=fyb_news&rsv_dl=fyb_news', 'https://www.baidu.com/s?wd=%E4%B8%AD2.2%E4%BA%BF%E5%BD%A9%E6%B0%91%E4%B9%B0%E5%85%89%E4%B8%80%E5%BD%A9%E7%A5%A8%E5%BA%97%E6%89%80%E6%9C%89%E5%BD%A9%E7%A5%A8&sa=fyb_news&rsv_dl=fyb_news', 'https://www.baidu.com/s?wd=%E6%88%90%E6%AF%85%E5%92%8C%E7%A4%BC%E4%BB%AA%E5%B0%8F%E5%A7%90%E4%BA%92%E8%AF%B7%E4%B8%8B%E7%8F%AD&sa=fyb_news&rsv_dl=fyb_news', 'https://www.baidu.com/s?wd=%E5%85%AB%E6%97%AC%E5%A4%A7%E7%88%B7%E8%AF%AF%E6%8A%8A%E4%B8%BB%E6%92%AD%E5%BD%93%E5%A5%B3%E5%8F%8B%E5%8D%83%E9%87%8C%E5%A5%94%E7%8E%B0&sa=fyb_news&rsv_dl=fyb_news', 'https://www.baidu.com/s?wd=%E7%94%B7%E5%AD%90%E5%86%9C%E8%8D%AF%E7%86%8F%E8%92%B8%E7%B2%AE%E9%A3%9F%E8%87%B4%E9%82%BB%E5%B1%85%E4%B8%A4%E5%B9%BC%E5%AD%90%E8%BA%AB%E4%BA%A1&sa=fyb_news&rsv_dl=fyb_news', 'https://www.baidu.com/s?wd=%E6%95%99%E8%82%B2%E9%83%A8%EF%BC%9A%E5%B8%88%E7%94%9F%E4%B8%8D%E5%B8%A6%E7%97%85%E4%B8%8A%E8%AF%BE%E4%B8%8A%E5%AD%A6&sa=fyb_news&rsv_dl=fyb_news', 'https://www.baidu.com/s?wd=%E5%88%98%E5%BE%B7%E5%8D%8E%E7%88%B6%E4%BA%B2%E8%91%AC%E7%A4%BC%E7%8E%B0%E5%9C%BA&sa=fyb_news&rsv_dl=fyb_news', 'https://www.baidu.com/s?wd=%E8%80%81%E4%BA%BA%E5%AE%B6%E4%B8%AD1%E5%90%A8%E7%85%A4%E8%A2%AB%E6%94%B6%E8%B5%B0%EF%BC%9F%E5%AE%98%E6%96%B9%E5%9B%9E%E5%BA%94&sa=fyb_news&rsv_dl=fyb_news', 'https://www.baidu.com/s?wd=%E5%A5%B3%E5%AD%90%E8%8A%B12500%E4%BD%8F%E9%85%92%E5%BA%97%E8%A2%AB%E8%9B%87%E5%92%AC+%E5%8F%8C%E6%96%B9%E5%B7%B2%E5%92%8C%E8%A7%A3&sa=fyb_news&rsv_dl=fyb_news', 'https://www.baidu.com/s?wd=%E7%88%86%E7%B1%B3%E8%8A%B1%E6%91%8A%E6%9C%BA%E5%99%A8%E7%AA%81%E7%84%B6%E7%88%86%E7%82%B8%E8%87%B42%E4%BA%BA%E5%8F%97%E4%BC%A4&sa=fyb_news&rsv_dl=fyb_news', 'https://www.baidu.com/s?wd=%E5%AA%92%E4%BD%93%EF%BC%9A%E6%9C%89%E5%BA%8F%E6%94%BE%E5%BC%80%E7%A7%B8%E7%A7%86%E7%84%9A%E7%83%A7%E5%80%BC%E5%BE%97%E6%8E%A2%E7%B4%A2&sa=fyb_news&rsv_dl=fyb_news', 'https://www.baidu.com/s?wd=%E5%8D%B0%E5%BA%A6%E7%94%B7%E8%80%81%E5%B8%88%E8%A2%AB%E8%83%81%E8%BF%AB%E4%B8%8E%E7%BB%91%E5%8C%AA%E5%A5%B3%E5%84%BF%E7%BB%93%E5%A9%9A&sa=fyb_news&rsv_dl=fyb_news']\n"
     ]
    }
   ],
   "source": [
    "## 另一种写法\n",
    "links = obj.find_all(\"a\", attrs = {\"class\": \"look-more_3oNWC\"})\n",
    "# print(type(links[0]), links[0])\n",
    "links = [i.get(\"href\") for i in links]\n",
    "links = links[::2] # every link has its copy\n",
    "print(len(links), type(links))\n",
    "print(links)"
   ]
  },
  {
   "cell_type": "code",
   "execution_count": 6,
   "id": "50fdce2a-6539-4bda-bbcc-30a6d71fcd69",
   "metadata": {
    "scrolled": true
   },
   "outputs": [
    {
     "name": "stdout",
     "output_type": "stream",
     "text": [
      "51\n",
      "<class 'list'>\n",
      "[4944886, 4928038, 4841384, 4716752, 4637618, 4583138, 4495854, 4388092, 4267746, 4167605, 4050095, 3973887, 3881395, 3705487, 3603243, 3590096, 3418834, 3342397, 3234286, 3113614, 3093502, 2993665, 2828283, 2776668, 2698149, 2585638, 2408742, 2366207, 2272949, 2141870, 2068017, 1961029, 1825919, 1763676, 1626555, 1565180, 1471849, 1354801, 1204823, 1132417, 1091525, 947835, 893815, 780768, 661394, 567290, 452678, 323508, 200745, 187104, 100000]\n"
     ]
    }
   ],
   "source": [
    "## Hot_index\n",
    "hot_index = obj.find_all(\"div\", attrs = {\"class\": \"hot-index_1Bl1a\"})\n",
    "hot_index = [int(i.text.strip()) for i in hot_index]\n",
    "print(len(hot_index))\n",
    "print(type(hot_index))\n",
    "print(hot_index)"
   ]
  },
  {
   "cell_type": "code",
   "execution_count": 7,
   "id": "6934c2be-caa3-464f-bbba-4f4e2c7a2bd0",
   "metadata": {
    "scrolled": true
   },
   "outputs": [
    {
     "name": "stdout",
     "output_type": "stream",
     "text": [
      "                     标题                                               内容简介  \\\n",
      "0        全面推进强国建设民族复兴伟业  习近平总书记近日在上海、江苏盐城考察时的重要讲话激励广大干部群众坚定信心、勇于开拓、积极作为...   \n",
      "1        人民日报评五月天被曝疑似假唱         近日，五月天假唱风波引发广泛关注。12月5日，人民日报评论：真唱是本分，假唱须追责。   \n",
      "2      26款羽绒服不合格：探路者上黑榜  近日，市场监管总局组织开展产品质量国家监督抽查，发现26批次不合格的羽绒服装，涉及探路者、阿...   \n",
      "3          “小包裹”折射“大经济”  2023年以来，我国经济稳步恢复，生产消费需求逐步释放，使得快递业务量实现了从“年均百亿”到...   \n",
      "4      医生因颜值高引多人挂号 院方回应  近日，北京一整形医生因颜值火出圈引发多人挂号“打卡”。对此，院方工作人员表示，目前，该医生正...   \n",
      "5        美媒：以军计划水淹哈马斯地道  据《华尔街日报》12月4日报道，有美国官员称，以色列计划向加沙地带的哈马斯地道灌注海水，将哈...   \n",
      "6         共享单车坐垫发现两个采血针    近日，广州一女士反映扫开共享单车后在坐垫发现两个针头。对此，平台人士称找到涉事车辆后报警处理。   \n",
      "7          34岁抗癌网红李小妞去世                                               暂无简介   \n",
      "8       清华校友会辟谣捐赠铜像被卖废品  12月4日，有网民称清华大学国学班学生赠送的孔子铜像被卖到废品站，引起广泛关注。对此，清华大...   \n",
      "9        冯琳主持人大赛讲与爸爸的故事                                               暂无简介   \n",
      "10     李永乐分析“快乐8”彩票中奖概率  12月5日，知名博主李永乐对“快乐8”彩票的中奖概率进行分析，经过分析，如果每天购买一注，大...   \n",
      "11    彩民中2.2亿后现身：每周买三四次  12月5日，花10万买彩票中2亿的彩民来到江西省福彩中心兑奖，他表示：自己购买彩票已超5年，...   \n",
      "12      银行通报员工被领导施压发生关系  近日，网传一银行女员工实名举报被一位领导施压多次发生性关系。12月5日，江苏银行镇江分行通报...   \n",
      "13       男子4秒连拍6掌徒手摔死老鼠                                               暂无简介   \n",
      "14       狂飙演员转做主播月入不足3千          近日，曾出演过爆剧《狂飙》的龙套演员芝麻坦言：自己从演员转行做主播后月入不到三千。   \n",
      "15      爱马仕继承人将巨额财产留给园丁  近日，爱马仕家族继承人尼古拉斯·普伊奇作出了一个惊人的决定：他将自己庞大的财产，估计超过90...   \n",
      "16         大学生疑因超负荷工作离世  近日，网传一大三学生在广东江门一物流公司工作近6个月后，不堪负荷离世。12月4日，死者家属表...   \n",
      "17       厦门两教师涉嫌强奸女生被刑拘                                               暂无简介   \n",
      "18     是否承认阿富汗临时政府？中方回应  12月5日，外交部发言人汪文斌表示，相信随着各方关切得到更有力的回应，对阿富汗政府的外交承认...   \n",
      "19    A股炒出“麻将牌” 东南西北股上涨  今年以来，各种炒风在A股市场刮起。此前是炒一条龙，最近炒成了麻将牌。而东南西北中发白这串神秘...   \n",
      "20     42岁断崖式衰老女子确诊卵巢早衰  据最新消息，发视频自称在20天内经历了“断崖式衰老”的女子称已在医院做过全身检查，医生诊断其...   \n",
      "21      大学生用无人机救遭撕咬保护动物  12月5日，福建高校内国家保护动物遭狗撕咬，学生们巧用无人机驱赶狗营救保护动物。被咬伤动物已...   \n",
      "22     金正恩出席朝鲜全国母亲大会时落泪  12月3日，朝鲜在首都平壤举行第5次全国母亲大会，金正恩在听取报告期间，动情落泪，用手帕擦拭眼泪。   \n",
      "23       杭州一生煎店房租涨到120万                                               暂无简介   \n",
      "24              杨鸣唐佳良离婚                                               暂无简介   \n",
      "25     刘德华为父亲设灵 与妻女到场送别  12月5日，刘德华父亲葬礼于香港举行，刘德华携妻女到殡仪馆送别父亲，三人神色哀伤，刘德华向媒...   \n",
      "26        80后女县委书记拟任副市长                                               暂无简介   \n",
      "27      女子被男友捆绑手脚：他去买刀了  近日，一名男子因为与女友吵架，将女友捆绑起来，声称要去买刀，最终这名男子因非法拘禁被判处七个...   \n",
      "28      国乒再次8比0取胜光速“下班”                                               暂无简介   \n",
      "29        学校回应寝室床垫用杂草填充                                               暂无简介   \n",
      "30       娜扎景甜李一桐等众女星走红毯                    12月5日，微博视界大会举办，娜扎景甜李一桐等众女星亮相红毯。   \n",
      "31      盘点2023年评分TOP5剧集                 盘点2023年评分TOP5剧集，《漫长的季节》成剧王，《狂飙》落选。   \n",
      "32    六国免签实施前3天近7000人入境         12月5日，外交部发言人汪文斌表示，六国免签政策实施前3天，近7000人次免签入境。   \n",
      "33  装13部监控 韩国夫妇操控一家庭19年  据报道，韩国水原市地方法院检方近日提起诉讼，指控一对夫妇在长达19年的时间里对一名50多岁的...   \n",
      "34           劳斯莱斯新库里南曝光                                               暂无简介   \n",
      "35       司机心脏骤停万幸拉了一车医护  1日，一辆从新郑机场开往永城的快客，司机突发心肌梗死，幸运的是车上乘客都是医护人员，立即展开...   \n",
      "36        《父母爱情》剧组重聚走红毯                                               暂无简介   \n",
      "37       厄尔尼诺事件将持续到明年春天  近日，多部门对冬季及12月份全国自然灾害风险形势进行会商研判，认为当前厄尔尼诺事件将持续到明...   \n",
      "38       小S说精神出轨比肉体出轨严重                                               暂无简介   \n",
      "39     湖南汝城：县委书记因突发事故逝世  汝城县委办公室5日发布公告，郴州市汝城县委书记黄四平同志在下乡调研返回途中因突发事故不幸逝世...   \n",
      "40    中2.2亿彩民买光一彩票店所有彩票  3日，一彩民在江西南昌买彩票中2.2亿余元。对此，见过该彩民的店主称，他买光了店主朋友彩票店...   \n",
      "41          成毅和礼仪小姐互请下班                                               暂无简介   \n",
      "42      八旬大爷误把主播当女友千里奔现  近日，一八旬大爷误把主播当女友，以为主播发布的视频是单独给他发送的，从驻马店到苏州奔现。经过...   \n",
      "43     男子农药熏蒸粮食致邻居两幼子身亡  近4个月前，隔壁邻居张某家使用农药磷化铝进行熏蒸作业，导致严先生一家四口中毒，两个未成年儿子...   \n",
      "44        教育部：师生不带病上课上学  近日，教育部印发《关于做好冬季学校流行性疾病防控工作的通知》，表示应指导有发热、咳嗽等症状师...   \n",
      "45            刘德华父亲葬礼现场                        12月5日，刘德华父亲刘礼的葬礼在北角香港殡仪馆举行。   \n",
      "46      老人家中1吨煤被收走？官方回应  12月5日，网传河北一老人家中一吨煤被强行收走。当日下午当地回应，称高硫煤有污染，镇政府工作...   \n",
      "47  女子花2500住酒店被蛇咬 双方已和解  近日，一女子称自己花2500元住酒店被蛇咬伤，引发关注。12月4日，上海市虹口区文旅局回应，...   \n",
      "48      爆米花摊机器突然爆炸致2人受伤  12月2号，陕西西安一老式爆米花小摊的机器在爆米花制作过程中突然爆炸，导致摊贩和一名路人受伤倒地。   \n",
      "49      媒体：有序放开秸秆焚烧值得探索  近年来，禁止秸秆焚烧政策对改善大气质量有积极作用，但也被认为带来了农作物病虫害加重等问题，因...   \n",
      "50      印度男老师被胁迫与绑匪女儿结婚                                               暂无简介   \n",
      "\n",
      "                                                   链接     热搜指数  \n",
      "0   https://www.baidu.com/s?wd=%E5%85%A8%E9%9D%A2%...  4944886  \n",
      "1   https://www.baidu.com/s?wd=%E4%BA%BA%E6%B0%91%...  4928038  \n",
      "2   https://www.baidu.com/s?wd=26%E6%AC%BE%E7%BE%B...  4841384  \n",
      "3   https://www.baidu.com/s?wd=%E2%80%9C%E5%B0%8F%...  4716752  \n",
      "4   https://www.baidu.com/s?wd=%E5%8C%BB%E7%94%9F%...  4637618  \n",
      "5   https://www.baidu.com/s?wd=%E7%BE%8E%E5%AA%92%...  4583138  \n",
      "6   https://www.baidu.com/s?wd=%E5%85%B1%E4%BA%AB%...  4495854  \n",
      "7   https://www.baidu.com/s?wd=34%E5%B2%81%E6%8A%9...  4388092  \n",
      "8   https://www.baidu.com/s?wd=%E6%B8%85%E5%8D%8E%...  4267746  \n",
      "9   https://www.baidu.com/s?wd=%E5%86%AF%E7%90%B3%...  4167605  \n",
      "10  https://www.baidu.com/s?wd=%E6%9D%8E%E6%B0%B8%...  4050095  \n",
      "11  https://www.baidu.com/s?wd=%E5%BD%A9%E6%B0%91%...  3973887  \n",
      "12  https://www.baidu.com/s?wd=%E9%93%B6%E8%A1%8C%...  3881395  \n",
      "13  https://www.baidu.com/s?wd=%E7%94%B7%E5%AD%904...  3705487  \n",
      "14  https://www.baidu.com/s?wd=%E7%8B%82%E9%A3%99%...  3603243  \n",
      "15  https://www.baidu.com/s?wd=%E7%88%B1%E9%A9%AC%...  3590096  \n",
      "16  https://www.baidu.com/s?wd=%E5%A4%A7%E5%AD%A6%...  3418834  \n",
      "17  https://www.baidu.com/s?wd=%E5%8E%A6%E9%97%A8%...  3342397  \n",
      "18  https://www.baidu.com/s?wd=%E6%98%AF%E5%90%A6%...  3234286  \n",
      "19  https://www.baidu.com/s?wd=A%E8%82%A1%E7%82%92...  3113614  \n",
      "20  https://www.baidu.com/s?wd=42%E5%B2%81%E6%96%A...  3093502  \n",
      "21  https://www.baidu.com/s?wd=%E5%A4%A7%E5%AD%A6%...  2993665  \n",
      "22  https://www.baidu.com/s?wd=%E9%87%91%E6%AD%A3%...  2828283  \n",
      "23  https://www.baidu.com/s?wd=%E6%9D%AD%E5%B7%9E%...  2776668  \n",
      "24  https://www.baidu.com/s?wd=%E6%9D%A8%E9%B8%A3%...  2698149  \n",
      "25  https://www.baidu.com/s?wd=%E5%88%98%E5%BE%B7%...  2585638  \n",
      "26  https://www.baidu.com/s?wd=80%E5%90%8E%E5%A5%B...  2408742  \n",
      "27  https://www.baidu.com/s?wd=%E5%A5%B3%E5%AD%90%...  2366207  \n",
      "28  https://www.baidu.com/s?wd=%E5%9B%BD%E4%B9%92%...  2272949  \n",
      "29  https://www.baidu.com/s?wd=%E5%AD%A6%E6%A0%A1%...  2141870  \n",
      "30  https://www.baidu.com/s?wd=%E5%A8%9C%E6%89%8E%...  2068017  \n",
      "31  https://www.baidu.com/s?wd=%E7%9B%98%E7%82%B92...  1961029  \n",
      "32  https://www.baidu.com/s?wd=%E5%85%AD%E5%9B%BD%...  1825919  \n",
      "33  https://www.baidu.com/s?wd=%E8%A3%8513%E9%83%A...  1763676  \n",
      "34  https://www.baidu.com/s?wd=%E5%8A%B3%E6%96%AF%...  1626555  \n",
      "35  https://www.baidu.com/s?wd=%E5%8F%B8%E6%9C%BA%...  1565180  \n",
      "36  https://www.baidu.com/s?wd=%E3%80%8A%E7%88%B6%...  1471849  \n",
      "37  https://www.baidu.com/s?wd=%E5%8E%84%E5%B0%94%...  1354801  \n",
      "38  https://www.baidu.com/s?wd=%E5%B0%8FS%E8%AF%B4...  1204823  \n",
      "39  https://www.baidu.com/s?wd=%E6%B9%96%E5%8D%97%...  1132417  \n",
      "40  https://www.baidu.com/s?wd=%E4%B8%AD2.2%E4%BA%...  1091525  \n",
      "41  https://www.baidu.com/s?wd=%E6%88%90%E6%AF%85%...   947835  \n",
      "42  https://www.baidu.com/s?wd=%E5%85%AB%E6%97%AC%...   893815  \n",
      "43  https://www.baidu.com/s?wd=%E7%94%B7%E5%AD%90%...   780768  \n",
      "44  https://www.baidu.com/s?wd=%E6%95%99%E8%82%B2%...   661394  \n",
      "45  https://www.baidu.com/s?wd=%E5%88%98%E5%BE%B7%...   567290  \n",
      "46  https://www.baidu.com/s?wd=%E8%80%81%E4%BA%BA%...   452678  \n",
      "47  https://www.baidu.com/s?wd=%E5%A5%B3%E5%AD%90%...   323508  \n",
      "48  https://www.baidu.com/s?wd=%E7%88%86%E7%B1%B3%...   200745  \n",
      "49  https://www.baidu.com/s?wd=%E5%AA%92%E4%BD%93%...   187104  \n",
      "50  https://www.baidu.com/s?wd=%E5%8D%B0%E5%BA%A6%...   100000  \n"
     ]
    }
   ],
   "source": [
    "import pandas as pd\n",
    "amap = pd.DataFrame(intro, columns = [\"标题\"])\n",
    "bmap = pd.DataFrame(preview, columns = [\"内容简介\"])\n",
    "cmap = pd.DataFrame(links, columns = [\"链接\"])\n",
    "dmap = pd.DataFrame(hot_index, columns = [\"热搜指数\"])\n",
    "df = pd.concat([amap, bmap, cmap, dmap], axis = 1)\n",
    "df = df.replace(\"\", \"暂无简介\")\n",
    "print(df)"
   ]
  },
  {
   "cell_type": "code",
   "execution_count": 8,
   "id": "6e934fa3-faa5-4bc1-a9ad-afcedee7aa9a",
   "metadata": {},
   "outputs": [],
   "source": [
    "## Write to excel\n",
    "with pd.ExcelWriter(r\"/home/miu/result.xlsx\") as file:\n",
    "    df.to_excel(file, sheet_name = \"bdrs\", index = False)"
   ]
  },
  {
   "cell_type": "code",
   "execution_count": null,
   "id": "2ef4f913-614a-4aca-a158-34c6bf1a9024",
   "metadata": {},
   "outputs": [],
   "source": []
  }
 ],
 "metadata": {
  "kernelspec": {
   "display_name": "Python 3 (ipykernel)",
   "language": "python",
   "name": "python3"
  },
  "language_info": {
   "codemirror_mode": {
    "name": "ipython",
    "version": 3
   },
   "file_extension": ".py",
   "mimetype": "text/x-python",
   "name": "python",
   "nbconvert_exporter": "python",
   "pygments_lexer": "ipython3",
   "version": "3.11.5"
  }
 },
 "nbformat": 4,
 "nbformat_minor": 5
}
